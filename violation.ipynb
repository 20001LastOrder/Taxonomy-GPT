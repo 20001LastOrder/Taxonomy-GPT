{
 "cells": [
  {
   "cell_type": "markdown",
   "metadata": {},
   "source": [
    "## Post processing"
   ]
  },
  {
   "cell_type": "markdown",
   "metadata": {},
   "source": [
    "## Group-wise evaluation"
   ]
  },
  {
   "cell_type": "code",
   "execution_count": 1,
   "metadata": {},
   "outputs": [],
   "source": [
    "%load_ext autoreload\n",
    "%autoreload 2\n",
    "from utils import (\n",
    "    convert_to_ancestor_graph, \n",
    "    maximum_absorbance, \n",
    "    dataframe_to_ancestor_graph, \n",
    "    evaluate_groups,\n",
    "    maximum_likelihood,\n",
    "    violation_val,\n",
    "    maximum_branching,\n",
    "    majority_voting,\n",
    "    avg_violation_val,\n",
    "    avg_violation_ib\n",
    ")\n",
    "\n",
    "from tqdm import tqdm\n",
    "import numpy as np\n",
    "import pandas as pd\n"
   ]
  },
  {
   "cell_type": "code",
   "execution_count": 11,
   "metadata": {
    "tags": []
   },
   "outputs": [
    {
     "name": "stderr",
     "output_type": "stream",
     "text": [
      "100%|██████████████████████████████████████████████████████████████████████████████████| 15/15 [00:08<00:00,  1.87it/s]\n",
      "100%|█████████████████████████████████████████████████████████████████████████████████| 15/15 [00:00<00:00, 312.13it/s]\n"
     ]
    }
   ],
   "source": [
    "# save_path = 'results/ccs/finetune.csv' # 'results/wordnet/lora.csv'\n",
    "actual_tree = 'data/train/acm_ccs_clean.csv' # 'data/bansal_wordnet_true_pairs.csv'\n",
    "post_process = maximum_absorbance # maximum_likelihood maximum_absorbance\n",
    "\n",
    "df_t = pd.read_csv(save_path)\n",
    "df_t['predict'] = np.log(df_t['predict'])\n",
    "forest=[]\n",
    "forest_an=[]\n",
    "for g in tqdm(list(set(df_t.group))):\n",
    "    df = post_process(df_t, g)\n",
    "    forest.append(df)\n",
    "res=pd.concat(forest,ignore_index=True)\n",
    "\n",
    "res_v2=dataframe_to_ancestor_graph(res)"
   ]
  },
  {
   "cell_type": "code",
   "execution_count": 12,
   "metadata": {},
   "outputs": [
    {
     "data": {
      "text/html": [
       "<div>\n",
       "<style scoped>\n",
       "    .dataframe tbody tr th:only-of-type {\n",
       "        vertical-align: middle;\n",
       "    }\n",
       "\n",
       "    .dataframe tbody tr th {\n",
       "        vertical-align: top;\n",
       "    }\n",
       "\n",
       "    .dataframe thead th {\n",
       "        text-align: right;\n",
       "    }\n",
       "</style>\n",
       "<table border=\"1\" class=\"dataframe\">\n",
       "  <thead>\n",
       "    <tr style=\"text-align: right;\">\n",
       "      <th></th>\n",
       "      <th>Unnamed: 0</th>\n",
       "      <th>parent_name</th>\n",
       "      <th>child_name</th>\n",
       "      <th>group</th>\n",
       "      <th>type</th>\n",
       "    </tr>\n",
       "  </thead>\n",
       "  <tbody>\n",
       "    <tr>\n",
       "      <th>23</th>\n",
       "      <td>23</td>\n",
       "      <td>Probability and statistics</td>\n",
       "      <td>Probabilistic representations</td>\n",
       "      <td>10002950_2</td>\n",
       "      <td>test</td>\n",
       "    </tr>\n",
       "    <tr>\n",
       "      <th>24</th>\n",
       "      <td>24</td>\n",
       "      <td>Probabilistic representations</td>\n",
       "      <td>Bayesian networks</td>\n",
       "      <td>10002950_2</td>\n",
       "      <td>test</td>\n",
       "    </tr>\n",
       "    <tr>\n",
       "      <th>25</th>\n",
       "      <td>25</td>\n",
       "      <td>Probabilistic representations</td>\n",
       "      <td>Markov networks</td>\n",
       "      <td>10002950_2</td>\n",
       "      <td>test</td>\n",
       "    </tr>\n",
       "    <tr>\n",
       "      <th>26</th>\n",
       "      <td>26</td>\n",
       "      <td>Probabilistic representations</td>\n",
       "      <td>Factor graphs</td>\n",
       "      <td>10002950_2</td>\n",
       "      <td>test</td>\n",
       "    </tr>\n",
       "    <tr>\n",
       "      <th>27</th>\n",
       "      <td>27</td>\n",
       "      <td>Probabilistic representations</td>\n",
       "      <td>Decision diagrams</td>\n",
       "      <td>10002950_2</td>\n",
       "      <td>test</td>\n",
       "    </tr>\n",
       "    <tr>\n",
       "      <th>...</th>\n",
       "      <td>...</td>\n",
       "      <td>...</td>\n",
       "      <td>...</td>\n",
       "      <td>...</td>\n",
       "      <td>...</td>\n",
       "    </tr>\n",
       "    <tr>\n",
       "      <th>1874</th>\n",
       "      <td>1874</td>\n",
       "      <td>Reinforcement learning</td>\n",
       "      <td>Sequential decision making</td>\n",
       "      <td>10003752_7</td>\n",
       "      <td>test</td>\n",
       "    </tr>\n",
       "    <tr>\n",
       "      <th>1875</th>\n",
       "      <td>1875</td>\n",
       "      <td>Reinforcement learning</td>\n",
       "      <td>Inverse reinforcement learning</td>\n",
       "      <td>10003752_7</td>\n",
       "      <td>test</td>\n",
       "    </tr>\n",
       "    <tr>\n",
       "      <th>1876</th>\n",
       "      <td>1876</td>\n",
       "      <td>Reinforcement learning</td>\n",
       "      <td>Apprenticeship learning</td>\n",
       "      <td>10003752_7</td>\n",
       "      <td>test</td>\n",
       "    </tr>\n",
       "    <tr>\n",
       "      <th>1877</th>\n",
       "      <td>1877</td>\n",
       "      <td>Reinforcement learning</td>\n",
       "      <td>Multi-agent reinforcement learning</td>\n",
       "      <td>10003752_7</td>\n",
       "      <td>test</td>\n",
       "    </tr>\n",
       "    <tr>\n",
       "      <th>1878</th>\n",
       "      <td>1878</td>\n",
       "      <td>Reinforcement learning</td>\n",
       "      <td>Adversarial learning</td>\n",
       "      <td>10003752_7</td>\n",
       "      <td>test</td>\n",
       "    </tr>\n",
       "  </tbody>\n",
       "</table>\n",
       "<p>421 rows × 5 columns</p>\n",
       "</div>"
      ],
      "text/plain": [
       "      Unnamed: 0                    parent_name  \\\n",
       "23            23     Probability and statistics   \n",
       "24            24  Probabilistic representations   \n",
       "25            25  Probabilistic representations   \n",
       "26            26  Probabilistic representations   \n",
       "27            27  Probabilistic representations   \n",
       "...          ...                            ...   \n",
       "1874        1874         Reinforcement learning   \n",
       "1875        1875         Reinforcement learning   \n",
       "1876        1876         Reinforcement learning   \n",
       "1877        1877         Reinforcement learning   \n",
       "1878        1878         Reinforcement learning   \n",
       "\n",
       "                              child_name       group  type  \n",
       "23         Probabilistic representations  10002950_2  test  \n",
       "24                     Bayesian networks  10002950_2  test  \n",
       "25                       Markov networks  10002950_2  test  \n",
       "26                         Factor graphs  10002950_2  test  \n",
       "27                     Decision diagrams  10002950_2  test  \n",
       "...                                  ...         ...   ...  \n",
       "1874          Sequential decision making  10003752_7  test  \n",
       "1875      Inverse reinforcement learning  10003752_7  test  \n",
       "1876             Apprenticeship learning  10003752_7  test  \n",
       "1877  Multi-agent reinforcement learning  10003752_7  test  \n",
       "1878                Adversarial learning  10003752_7  test  \n",
       "\n",
       "[421 rows x 5 columns]"
      ]
     },
     "execution_count": 12,
     "metadata": {},
     "output_type": "execute_result"
    }
   ],
   "source": [
    "df_actual"
   ]
  },
  {
   "cell_type": "code",
   "execution_count": 13,
   "metadata": {
    "tags": []
   },
   "outputs": [],
   "source": [
    "df_actual=pd.read_csv(actual_tree)\n",
    "df_actual=df_actual[df_actual['type'] == 'test']\n",
    "df_actual['compare']=df_actual['parent']+df_actual['child']+df_actual['group'].astype(str)"
   ]
  },
  {
   "cell_type": "code",
   "execution_count": 5,
   "metadata": {},
   "outputs": [
    {
     "data": {
      "text/html": [
       "<div>\n",
       "<style scoped>\n",
       "    .dataframe tbody tr th:only-of-type {\n",
       "        vertical-align: middle;\n",
       "    }\n",
       "\n",
       "    .dataframe tbody tr th {\n",
       "        vertical-align: top;\n",
       "    }\n",
       "\n",
       "    .dataframe thead th {\n",
       "        text-align: right;\n",
       "    }\n",
       "</style>\n",
       "<table border=\"1\" class=\"dataframe\">\n",
       "  <thead>\n",
       "    <tr style=\"text-align: right;\">\n",
       "      <th></th>\n",
       "      <th>parent</th>\n",
       "      <th>child</th>\n",
       "      <th>group</th>\n",
       "      <th>type</th>\n",
       "      <th>compare</th>\n",
       "    </tr>\n",
       "  </thead>\n",
       "  <tbody>\n",
       "    <tr>\n",
       "      <th>23</th>\n",
       "      <td>Probability and statistics</td>\n",
       "      <td>Probabilistic representations</td>\n",
       "      <td>10002950_2</td>\n",
       "      <td>test</td>\n",
       "      <td>Probability and statisticsProbabilistic repres...</td>\n",
       "    </tr>\n",
       "    <tr>\n",
       "      <th>24</th>\n",
       "      <td>Probabilistic representations</td>\n",
       "      <td>Bayesian networks</td>\n",
       "      <td>10002950_2</td>\n",
       "      <td>test</td>\n",
       "      <td>Probabilistic representationsBayesian networks...</td>\n",
       "    </tr>\n",
       "    <tr>\n",
       "      <th>25</th>\n",
       "      <td>Probabilistic representations</td>\n",
       "      <td>Markov networks</td>\n",
       "      <td>10002950_2</td>\n",
       "      <td>test</td>\n",
       "      <td>Probabilistic representationsMarkov networks10...</td>\n",
       "    </tr>\n",
       "    <tr>\n",
       "      <th>26</th>\n",
       "      <td>Probabilistic representations</td>\n",
       "      <td>Factor graphs</td>\n",
       "      <td>10002950_2</td>\n",
       "      <td>test</td>\n",
       "      <td>Probabilistic representationsFactor graphs1000...</td>\n",
       "    </tr>\n",
       "    <tr>\n",
       "      <th>27</th>\n",
       "      <td>Probabilistic representations</td>\n",
       "      <td>Decision diagrams</td>\n",
       "      <td>10002950_2</td>\n",
       "      <td>test</td>\n",
       "      <td>Probabilistic representationsDecision diagrams...</td>\n",
       "    </tr>\n",
       "    <tr>\n",
       "      <th>...</th>\n",
       "      <td>...</td>\n",
       "      <td>...</td>\n",
       "      <td>...</td>\n",
       "      <td>...</td>\n",
       "      <td>...</td>\n",
       "    </tr>\n",
       "    <tr>\n",
       "      <th>1838</th>\n",
       "      <td>Collaborative and social computing systems and...</td>\n",
       "      <td>Open source software</td>\n",
       "      <td>10003120_3</td>\n",
       "      <td>test</td>\n",
       "      <td>Collaborative and social computing systems and...</td>\n",
       "    </tr>\n",
       "    <tr>\n",
       "      <th>1839</th>\n",
       "      <td>Collaborative and social computing systems and...</td>\n",
       "      <td>Social networking sites</td>\n",
       "      <td>10003120_3</td>\n",
       "      <td>test</td>\n",
       "      <td>Collaborative and social computing systems and...</td>\n",
       "    </tr>\n",
       "    <tr>\n",
       "      <th>1840</th>\n",
       "      <td>Collaborative and social computing systems and...</td>\n",
       "      <td>Social tagging systems</td>\n",
       "      <td>10003120_3</td>\n",
       "      <td>test</td>\n",
       "      <td>Collaborative and social computing systems and...</td>\n",
       "    </tr>\n",
       "    <tr>\n",
       "      <th>1841</th>\n",
       "      <td>Collaborative and social computing systems and...</td>\n",
       "      <td>Synchronous editors</td>\n",
       "      <td>10003120_3</td>\n",
       "      <td>test</td>\n",
       "      <td>Collaborative and social computing systems and...</td>\n",
       "    </tr>\n",
       "    <tr>\n",
       "      <th>1842</th>\n",
       "      <td>Collaborative and social computing systems and...</td>\n",
       "      <td>Asynchronous editors</td>\n",
       "      <td>10003120_3</td>\n",
       "      <td>test</td>\n",
       "      <td>Collaborative and social computing systems and...</td>\n",
       "    </tr>\n",
       "  </tbody>\n",
       "</table>\n",
       "<p>442 rows × 5 columns</p>\n",
       "</div>"
      ],
      "text/plain": [
       "                                                 parent  \\\n",
       "23                           Probability and statistics   \n",
       "24                        Probabilistic representations   \n",
       "25                        Probabilistic representations   \n",
       "26                        Probabilistic representations   \n",
       "27                        Probabilistic representations   \n",
       "...                                                 ...   \n",
       "1838  Collaborative and social computing systems and...   \n",
       "1839  Collaborative and social computing systems and...   \n",
       "1840  Collaborative and social computing systems and...   \n",
       "1841  Collaborative and social computing systems and...   \n",
       "1842  Collaborative and social computing systems and...   \n",
       "\n",
       "                              child       group  type  \\\n",
       "23    Probabilistic representations  10002950_2  test   \n",
       "24                Bayesian networks  10002950_2  test   \n",
       "25                  Markov networks  10002950_2  test   \n",
       "26                    Factor graphs  10002950_2  test   \n",
       "27                Decision diagrams  10002950_2  test   \n",
       "...                             ...         ...   ...   \n",
       "1838           Open source software  10003120_3  test   \n",
       "1839        Social networking sites  10003120_3  test   \n",
       "1840         Social tagging systems  10003120_3  test   \n",
       "1841            Synchronous editors  10003120_3  test   \n",
       "1842           Asynchronous editors  10003120_3  test   \n",
       "\n",
       "                                                compare  \n",
       "23    Probability and statisticsProbabilistic repres...  \n",
       "24    Probabilistic representationsBayesian networks...  \n",
       "25    Probabilistic representationsMarkov networks10...  \n",
       "26    Probabilistic representationsFactor graphs1000...  \n",
       "27    Probabilistic representationsDecision diagrams...  \n",
       "...                                                 ...  \n",
       "1838  Collaborative and social computing systems and...  \n",
       "1839  Collaborative and social computing systems and...  \n",
       "1840  Collaborative and social computing systems and...  \n",
       "1841  Collaborative and social computing systems and...  \n",
       "1842  Collaborative and social computing systems and...  \n",
       "\n",
       "[442 rows x 5 columns]"
      ]
     },
     "execution_count": 5,
     "metadata": {},
     "output_type": "execute_result"
    }
   ],
   "source": [
    "df_actual"
   ]
  },
  {
   "cell_type": "code",
   "execution_count": 6,
   "metadata": {
    "tags": []
   },
   "outputs": [
    {
     "name": "stderr",
     "output_type": "stream",
     "text": [
      "100%|██████████████████████████████████████████████████████████████████████████████████| 15/15 [00:00<00:00, 97.40it/s]\n"
     ]
    },
    {
     "data": {
      "text/plain": [
       "10010147_3     186\n",
       "10002951_5     145\n",
       "10002950_2     110\n",
       "10003456_2      98\n",
       "10010147_5      55\n",
       "10010583_10     51\n",
       "10003120_3      45\n",
       "10010405_4      35\n",
       "10010583_7      33\n",
       "10010583_2      25\n",
       "10010583_8      15\n",
       "10002950_5      15\n",
       "10002978_3      12\n",
       "10002978_9       5\n",
       "10002950_3       3\n",
       "Name: group, dtype: int64"
      ]
     },
     "execution_count": 6,
     "metadata": {},
     "output_type": "execute_result"
    }
   ],
   "source": [
    "df_actual = dataframe_to_ancestor_graph(df_actual)\n",
    "df_actual['group'].value_counts()"
   ]
  },
  {
   "cell_type": "code",
   "execution_count": 7,
   "metadata": {},
   "outputs": [
    {
     "data": {
      "text/html": [
       "<div>\n",
       "<style scoped>\n",
       "    .dataframe tbody tr th:only-of-type {\n",
       "        vertical-align: middle;\n",
       "    }\n",
       "\n",
       "    .dataframe tbody tr th {\n",
       "        vertical-align: top;\n",
       "    }\n",
       "\n",
       "    .dataframe thead th {\n",
       "        text-align: right;\n",
       "    }\n",
       "</style>\n",
       "<table border=\"1\" class=\"dataframe\">\n",
       "  <thead>\n",
       "    <tr style=\"text-align: right;\">\n",
       "      <th></th>\n",
       "      <th>parent</th>\n",
       "      <th>child</th>\n",
       "      <th>group</th>\n",
       "      <th>compare</th>\n",
       "    </tr>\n",
       "  </thead>\n",
       "  <tbody>\n",
       "    <tr>\n",
       "      <th>0</th>\n",
       "      <td>Probability and statistics</td>\n",
       "      <td>Variational methods</td>\n",
       "      <td>10002950_2</td>\n",
       "      <td>Probability and statisticsVariational methods1...</td>\n",
       "    </tr>\n",
       "    <tr>\n",
       "      <th>1</th>\n",
       "      <td>Probability and statistics</td>\n",
       "      <td>Loopy belief propagation</td>\n",
       "      <td>10002950_2</td>\n",
       "      <td>Probability and statisticsLoopy belief propaga...</td>\n",
       "    </tr>\n",
       "    <tr>\n",
       "      <th>2</th>\n",
       "      <td>Probability and statistics</td>\n",
       "      <td>Dimensionality reduction</td>\n",
       "      <td>10002950_2</td>\n",
       "      <td>Probability and statisticsDimensionality reduc...</td>\n",
       "    </tr>\n",
       "    <tr>\n",
       "      <th>3</th>\n",
       "      <td>Probability and statistics</td>\n",
       "      <td>Spline models</td>\n",
       "      <td>10002950_2</td>\n",
       "      <td>Probability and statisticsSpline models10002950_2</td>\n",
       "    </tr>\n",
       "    <tr>\n",
       "      <th>4</th>\n",
       "      <td>Probability and statistics</td>\n",
       "      <td>Metropolis-Hastings algorithm</td>\n",
       "      <td>10002950_2</td>\n",
       "      <td>Probability and statisticsMetropolis-Hastings ...</td>\n",
       "    </tr>\n",
       "    <tr>\n",
       "      <th>...</th>\n",
       "      <td>...</td>\n",
       "      <td>...</td>\n",
       "      <td>...</td>\n",
       "      <td>...</td>\n",
       "    </tr>\n",
       "    <tr>\n",
       "      <th>828</th>\n",
       "      <td>Simulation theory</td>\n",
       "      <td>Systems theory</td>\n",
       "      <td>10010147_5</td>\n",
       "      <td>Simulation theorySystems theory10010147_5</td>\n",
       "    </tr>\n",
       "    <tr>\n",
       "      <th>829</th>\n",
       "      <td>Simulation theory</td>\n",
       "      <td>Network science</td>\n",
       "      <td>10010147_5</td>\n",
       "      <td>Simulation theoryNetwork science10010147_5</td>\n",
       "    </tr>\n",
       "    <tr>\n",
       "      <th>830</th>\n",
       "      <td>Simulation support systems</td>\n",
       "      <td>Simulation tools</td>\n",
       "      <td>10010147_5</td>\n",
       "      <td>Simulation support systemsSimulation tools1001...</td>\n",
       "    </tr>\n",
       "    <tr>\n",
       "      <th>831</th>\n",
       "      <td>Simulation support systems</td>\n",
       "      <td>Simulation languages</td>\n",
       "      <td>10010147_5</td>\n",
       "      <td>Simulation support systemsSimulation languages...</td>\n",
       "    </tr>\n",
       "    <tr>\n",
       "      <th>832</th>\n",
       "      <td>Simulation support systems</td>\n",
       "      <td>Simulation environments</td>\n",
       "      <td>10010147_5</td>\n",
       "      <td>Simulation support systemsSimulation environme...</td>\n",
       "    </tr>\n",
       "  </tbody>\n",
       "</table>\n",
       "<p>833 rows × 4 columns</p>\n",
       "</div>"
      ],
      "text/plain": [
       "                         parent                          child       group  \\\n",
       "0    Probability and statistics            Variational methods  10002950_2   \n",
       "1    Probability and statistics       Loopy belief propagation  10002950_2   \n",
       "2    Probability and statistics       Dimensionality reduction  10002950_2   \n",
       "3    Probability and statistics                  Spline models  10002950_2   \n",
       "4    Probability and statistics  Metropolis-Hastings algorithm  10002950_2   \n",
       "..                          ...                            ...         ...   \n",
       "828           Simulation theory                 Systems theory  10010147_5   \n",
       "829           Simulation theory                Network science  10010147_5   \n",
       "830  Simulation support systems               Simulation tools  10010147_5   \n",
       "831  Simulation support systems           Simulation languages  10010147_5   \n",
       "832  Simulation support systems        Simulation environments  10010147_5   \n",
       "\n",
       "                                               compare  \n",
       "0    Probability and statisticsVariational methods1...  \n",
       "1    Probability and statisticsLoopy belief propaga...  \n",
       "2    Probability and statisticsDimensionality reduc...  \n",
       "3    Probability and statisticsSpline models10002950_2  \n",
       "4    Probability and statisticsMetropolis-Hastings ...  \n",
       "..                                                 ...  \n",
       "828          Simulation theorySystems theory10010147_5  \n",
       "829         Simulation theoryNetwork science10010147_5  \n",
       "830  Simulation support systemsSimulation tools1001...  \n",
       "831  Simulation support systemsSimulation languages...  \n",
       "832  Simulation support systemsSimulation environme...  \n",
       "\n",
       "[833 rows x 4 columns]"
      ]
     },
     "execution_count": 7,
     "metadata": {},
     "output_type": "execute_result"
    }
   ],
   "source": [
    "df_actual"
   ]
  },
  {
   "cell_type": "code",
   "execution_count": 8,
   "metadata": {},
   "outputs": [
    {
     "name": "stderr",
     "output_type": "stream",
     "text": [
      "100%|█████████████████████████████████████████████████████████████████████████████████| 15/15 [00:00<00:00, 118.11it/s]\n"
     ]
    }
   ],
   "source": [
    "recall, precision, f1 = evaluate_groups(df_actual, res_v2)"
   ]
  },
  {
   "cell_type": "code",
   "execution_count": 9,
   "metadata": {},
   "outputs": [
    {
     "data": {
      "text/plain": [
       "0.41825147944819663"
      ]
     },
     "execution_count": 9,
     "metadata": {},
     "output_type": "execute_result"
    }
   ],
   "source": [
    "recall"
   ]
  },
  {
   "cell_type": "code",
   "execution_count": 10,
   "metadata": {},
   "outputs": [
    {
     "data": {
      "text/plain": [
       "0.4335824993019866"
      ]
     },
     "execution_count": 10,
     "metadata": {},
     "output_type": "execute_result"
    }
   ],
   "source": [
    "precision"
   ]
  },
  {
   "cell_type": "code",
   "execution_count": 11,
   "metadata": {},
   "outputs": [
    {
     "data": {
      "text/plain": [
       "0.41649784695176784"
      ]
     },
     "execution_count": 11,
     "metadata": {},
     "output_type": "execute_result"
    }
   ],
   "source": [
    "f1"
   ]
  },
  {
   "cell_type": "markdown",
   "metadata": {},
   "source": [
    "## Violation"
   ]
  },
  {
   "cell_type": "code",
   "execution_count": 4,
   "metadata": {},
   "outputs": [
    {
     "name": "stderr",
     "output_type": "stream",
     "text": [
      "100%|██████████████████████████████████████████████████████████████████████████████████| 15/15 [00:13<00:00,  1.11it/s]\n",
      "100%|██████████████████████████████████████████████████████████████████████████████████| 15/15 [00:00<00:00, 56.39it/s]\n",
      "100%|██████████████████████████████████████████████████████████████████████████████████| 15/15 [00:13<00:00,  1.09it/s]\n",
      "100%|██████████████████████████████████████████████████████████████████████████████████| 15/15 [00:00<00:00, 62.45it/s]\n",
      "100%|████████████████████████████████████████████████████████████████████████████████| 114/114 [00:17<00:00,  6.68it/s]\n",
      "100%|████████████████████████████████████████████████████████████████████████████████| 114/114 [00:01<00:00, 93.25it/s]\n",
      "100%|████████████████████████████████████████████████████████████████████████████████| 114/114 [00:18<00:00,  6.14it/s]\n",
      "100%|███████████████████████████████████████████████████████████████████████████████| 114/114 [00:01<00:00, 103.45it/s]\n"
     ]
    }
   ],
   "source": [
    "path = ['ccs/finetune.csv','ccs/lora.csv','wordnet/finetune.csv','wordnet/lora.csv'] # 'results/wordnet/lora.csv'\n",
    "save_path=['results/'+p for p in path]\n",
    "post_process ={'mx': maximum_absorbance,'ml':maximum_likelihood} # maximum_likelihood maximum_absorbance\n",
    "dict_res={}\n",
    "for p in save_path:\n",
    "    df_t = pd.read_csv(p)\n",
    "    df_t['predict'] = np.log(df_t['predict'])\n",
    "    for key, p_process in post_process.items():\n",
    "        forest=[]\n",
    "        for g in tqdm(list(set(df_t.group))):\n",
    "            df = p_process(df_t, g)\n",
    "            forest.append(df)\n",
    "        res=pd.concat(forest,ignore_index=True)\n",
    "        res_vio=violation_val(res)\n",
    "        dict_res[p+'_'+key]=res_vio"
   ]
  },
  {
   "cell_type": "code",
   "execution_count": 5,
   "metadata": {},
   "outputs": [],
   "source": [
    "res_avg_v= avg_violation_val(dict_res)"
   ]
  },
  {
   "cell_type": "code",
   "execution_count": 6,
   "metadata": {},
   "outputs": [
    {
     "data": {
      "text/plain": [
       "{'header': 'count of roots&count of no root groups&avg number of parent&% nodes with multiple parents&',\n",
       " 'results/ccs/finetune.csv_mx': '1.0&0.0&1.0&0.0&',\n",
       " 'results/ccs/finetune.csv_ml': '0.57&64.29&3.3&59.81&',\n",
       " 'results/ccs/lora.csv_mx': '1.0&0.0&1.0&0.0&',\n",
       " 'results/ccs/lora.csv_ml': '1.36&28.57&2.6&65.13&',\n",
       " 'results/wordnet/finetune.csv_mx': '1.0&0.0&1.0&0.0&',\n",
       " 'results/wordnet/finetune.csv_ml': '1.48&16.51&1.47&31.28&',\n",
       " 'results/wordnet/lora.csv_mx': '1.0&0.0&1.0&0.0&',\n",
       " 'results/wordnet/lora.csv_ml': '1.06&43.36&2.56&66.32&'}"
      ]
     },
     "execution_count": 6,
     "metadata": {},
     "output_type": "execute_result"
    }
   ],
   "source": [
    "res_avg_v"
   ]
  },
  {
   "cell_type": "code",
   "execution_count": 9,
   "metadata": {},
   "outputs": [],
   "source": [
    "pd.DataFrame(res_avg_v,index=[0]).transpose().to_csv('results/violation/finetune_lora.csv',header = False)"
   ]
  },
  {
   "cell_type": "code",
   "execution_count": 10,
   "metadata": {},
   "outputs": [],
   "source": [
    "def chatgpt_gw_res(list_data):\n",
    "    dict_df_res={}\n",
    "    for data_dir in list_data:\n",
    "        print(data_dir)\n",
    "        dfs = []\n",
    "        num_generations = 5\n",
    "\n",
    "        for i in range(1, num_generations + 1):\n",
    "            filename = f'{data_dir}/results_{i}.csv'\n",
    "            df = pd.read_csv(filename)\n",
    "            df['child'] = df['child'].apply(lambda x: x.replace(' ', '_'))\n",
    "            df['parent'] = df['parent'].apply(lambda x: x.replace(' ', '_'))\n",
    "            dfs.append(df)\n",
    "        df = pd.concat(dfs)\n",
    "        rows = []\n",
    "        columns = df.columns.tolist()\n",
    "\n",
    "        for group_name, group_df in df.groupby(columns):\n",
    "            count = group_df.shape[0]\n",
    "            new_row = {\n",
    "                columns[0]: group_name[0],\n",
    "                columns[1]: group_name[1],\n",
    "                columns[2]: group_name[2],\n",
    "                'predict': count,\n",
    "            }\n",
    "            rows.append(new_row)\n",
    "        merged_df = pd.DataFrame(rows)\n",
    "        dict_df_res[data_dir]=merged_df\n",
    "    return dict_df_res\n"
   ]
  },
  {
   "cell_type": "code",
   "execution_count": 11,
   "metadata": {},
   "outputs": [
    {
     "name": "stdout",
     "output_type": "stream",
     "text": [
      "results/gpt-3/wordnet/\n",
      "results/gpt-3/ccs/\n"
     ]
    }
   ],
   "source": [
    "dict_df_res_gpt=chatgpt_gw_res(['results/gpt-3/wordnet/','results/gpt-3/ccs/'])"
   ]
  },
  {
   "cell_type": "code",
   "execution_count": 12,
   "metadata": {},
   "outputs": [],
   "source": [
    "post_process_gpt ={'mv': majority_voting,'mb':maximum_branching} # maxi    maximum_branching,"
   ]
  },
  {
   "cell_type": "code",
   "execution_count": 20,
   "metadata": {},
   "outputs": [
    {
     "name": "stderr",
     "output_type": "stream",
     "text": [
      "100%|███████████████████████████████████████████████████████████████████████████████| 114/114 [00:00<00:00, 140.22it/s]\n",
      "100%|████████████████████████████████████████████████████████████████████████████████| 114/114 [00:01<00:00, 69.17it/s]\n",
      "100%|█████████████████████████████████████████████████████████████████████████████████| 15/15 [00:00<00:00, 170.44it/s]\n",
      "100%|██████████████████████████████████████████████████████████████████████████████████| 15/15 [00:00<00:00, 56.60it/s]\n"
     ]
    }
   ],
   "source": [
    "dict_res_gpt={}\n",
    "for name,data in dict_df_res_gpt.items():\n",
    "    for key, p_process in post_process_gpt.items():\n",
    "        forest=[]\n",
    "        for g in tqdm(list(set(data.group))):\n",
    "            df = p_process(data, g)\n",
    "            forest.append(df)\n",
    "        res_gpt=pd.concat(forest,ignore_index=True)\n",
    "        res_vio_gpt=violation_val(res_gpt)\n",
    "        dict_res_gpt[name+'_'+key]=res_vio_gpt"
   ]
  },
  {
   "cell_type": "code",
   "execution_count": 21,
   "metadata": {},
   "outputs": [],
   "source": [
    "res_gpt_v=avg_violation_val(dict_res_gpt)"
   ]
  },
  {
   "cell_type": "code",
   "execution_count": 22,
   "metadata": {},
   "outputs": [],
   "source": [
    "pd.DataFrame(res_gpt_v,index=[0]).transpose().to_csv('results/violation/chatgpt.csv',header = False)\n"
   ]
  },
  {
   "cell_type": "markdown",
   "metadata": {},
   "source": [
    "### ChatGPT I.B."
   ]
  },
  {
   "cell_type": "code",
   "execution_count": 35,
   "metadata": {},
   "outputs": [],
   "source": [
    "def chatgpt_ib(list_data):\n",
    "    lst_dfs={}\n",
    "    for data_dir in list_data:\n",
    "        print(data_dir)\n",
    "        dfs = []\n",
    "        num_generations = 5\n",
    "\n",
    "        for i in range(1, num_generations + 1):\n",
    "            filename = f'{data_dir}/results_{i}.csv'\n",
    "            df = pd.read_csv(filename)\n",
    "            df['child'] = df['child'].apply(lambda x: x.replace(' ', '_'))\n",
    "            df['parent'] = df['parent'].apply(lambda x: x.replace(' ', '_'))\n",
    "            df_v=violation_val(df)\n",
    "            dfs.append(df_v)\n",
    "        lst_dfs[data_dir]=dfs\n",
    "    return lst_dfs"
   ]
  },
  {
   "cell_type": "code",
   "execution_count": 36,
   "metadata": {},
   "outputs": [
    {
     "name": "stdout",
     "output_type": "stream",
     "text": [
      "results/gpt-3/wordnet/\n",
      "results/gpt-3/ccs/\n"
     ]
    }
   ],
   "source": [
    "lst_dfs=chatgpt_ib(['results/gpt-3/wordnet/','results/gpt-3/ccs/'])"
   ]
  },
  {
   "cell_type": "code",
   "execution_count": 37,
   "metadata": {},
   "outputs": [],
   "source": [
    "l_num_root=[]\n",
    "l_no_root=[]\n",
    "l_parent=[]\n",
    "l_per_m_p=[]\n",
    "dict_res_ib={}\n",
    "for name,dfs in lst_dfs.items():\n",
    "    for df in dfs:\n",
    "        avg_num_root,avg_no_root,avg_parent,avg_per_mul_parent=avg_violation_ib(df)\n",
    "        l_num_root.append(avg_num_root)\n",
    "        l_no_root.append(avg_no_root)\n",
    "        l_parent.append(avg_parent)\n",
    "        l_per_m_p.append(avg_per_mul_parent)\n",
    "    num_r=min(l_num_root, key=lambda x:abs(x-1))\n",
    "    no_r=min(l_no_root, key=lambda x:abs(x-0))\n",
    "    l_pa=min(l_parent, key=lambda x:abs(x-1))\n",
    "    l_per_p=min(l_per_m_p,key=lambda x:abs(x-0))\n",
    "    dict_res_ib[name]=[num_r,no_r,l_pa,l_per_p]"
   ]
  },
  {
   "cell_type": "code",
   "execution_count": 38,
   "metadata": {},
   "outputs": [
    {
     "data": {
      "text/plain": [
       "{'results/gpt-3/wordnet/': [2.0, 4.39, 1.0, 0.04],\n",
       " 'results/gpt-3/ccs/': [1.27, 0.0, 1.0, 0.0]}"
      ]
     },
     "execution_count": 38,
     "metadata": {},
     "output_type": "execute_result"
    }
   ],
   "source": [
    "dict_res_ib"
   ]
  },
  {
   "cell_type": "code",
   "execution_count": null,
   "metadata": {},
   "outputs": [],
   "source": []
  }
 ],
 "metadata": {
  "kernelspec": {
   "display_name": "Python 3",
   "language": "python",
   "name": "python3"
  },
  "language_info": {
   "codemirror_mode": {
    "name": "ipython",
    "version": 3
   },
   "file_extension": ".py",
   "mimetype": "text/x-python",
   "name": "python",
   "nbconvert_exporter": "python",
   "pygments_lexer": "ipython3",
   "version": "3.7.4"
  }
 },
 "nbformat": 4,
 "nbformat_minor": 5
}
