{
 "cells": [
  {
   "cell_type": "markdown",
   "metadata": {},
   "source": [
    "## Post processing"
   ]
  },
  {
   "cell_type": "markdown",
   "metadata": {},
   "source": [
    "## Group-wise evaluation"
   ]
  },
  {
   "cell_type": "code",
   "execution_count": 210,
   "metadata": {},
   "outputs": [
    {
     "name": "stdout",
     "output_type": "stream",
     "text": [
      "The autoreload extension is already loaded. To reload it, use:\n",
      "  %reload_ext autoreload\n"
     ]
    }
   ],
   "source": [
    "%load_ext autoreload\n",
    "%autoreload 2\n",
    "from utils import (\n",
    "    convert_to_ancestor_graph, \n",
    "    maximum_absorbance, \n",
    "    dataframe_to_ancestor_graph, \n",
    "    evaluate_groups,\n",
    "    maximum_likelihood,\n",
    "    violation_val,\n",
    "    maximum_branching,\n",
    "    majority_voting,\n",
    "    avg_violation_val\n",
    ")\n",
    "\n",
    "from tqdm import tqdm\n",
    "import numpy as np\n",
    "import pandas as pd\n"
   ]
  },
  {
   "cell_type": "code",
   "execution_count": 132,
   "metadata": {
    "tags": []
   },
   "outputs": [
    {
     "name": "stderr",
     "output_type": "stream",
     "text": [
      "100%|██████████████████████████████████████████████████████████████████████████████████| 15/15 [00:06<00:00,  2.20it/s]\n",
      "100%|█████████████████████████████████████████████████████████████████████████████████| 15/15 [00:00<00:00, 340.91it/s]\n"
     ]
    }
   ],
   "source": [
    "save_path = 'results/ccs/finetune.csv' # 'results/wordnet/lora.csv'\n",
    "actual_tree = 'data/acm_ccs_clean.csv' # 'data/bansal_wordnet_true_pairs.csv'\n",
    "post_process = maximum_absorbance # maximum_likelihood maximum_absorbance\n",
    "\n",
    "df_t = pd.read_csv(save_path)\n",
    "df_t['predict'] = np.log(df_t['predict'])\n",
    "forest=[]\n",
    "forest_an=[]\n",
    "for g in tqdm(list(set(df_t.group))):\n",
    "    df = post_process(df_t, g)\n",
    "    forest.append(df)\n",
    "res=pd.concat(forest,ignore_index=True)\n",
    "\n",
    "res_v2=dataframe_to_ancestor_graph(res)"
   ]
  },
  {
   "cell_type": "code",
   "execution_count": 133,
   "metadata": {},
   "outputs": [
    {
     "data": {
      "text/html": [
       "<div>\n",
       "<style scoped>\n",
       "    .dataframe tbody tr th:only-of-type {\n",
       "        vertical-align: middle;\n",
       "    }\n",
       "\n",
       "    .dataframe tbody tr th {\n",
       "        vertical-align: top;\n",
       "    }\n",
       "\n",
       "    .dataframe thead th {\n",
       "        text-align: right;\n",
       "    }\n",
       "</style>\n",
       "<table border=\"1\" class=\"dataframe\">\n",
       "  <thead>\n",
       "    <tr style=\"text-align: right;\">\n",
       "      <th></th>\n",
       "      <th>parent</th>\n",
       "      <th>child</th>\n",
       "      <th>group</th>\n",
       "      <th>compare</th>\n",
       "    </tr>\n",
       "  </thead>\n",
       "  <tbody>\n",
       "    <tr>\n",
       "      <th>0</th>\n",
       "      <td>Collaborative and social computing</td>\n",
       "      <td>Collaborative and social computing theory, con...</td>\n",
       "      <td>10003120_3</td>\n",
       "      <td>Collaborative and social computingCollaborativ...</td>\n",
       "    </tr>\n",
       "    <tr>\n",
       "      <th>1</th>\n",
       "      <td>Collaborative and social computing</td>\n",
       "      <td>Collaborative and social computing systems and...</td>\n",
       "      <td>10003120_3</td>\n",
       "      <td>Collaborative and social computingCollaborativ...</td>\n",
       "    </tr>\n",
       "    <tr>\n",
       "      <th>2</th>\n",
       "      <td>Collaborative and social computing</td>\n",
       "      <td>Empirical studies in collaborative and social ...</td>\n",
       "      <td>10003120_3</td>\n",
       "      <td>Collaborative and social computingEmpirical st...</td>\n",
       "    </tr>\n",
       "    <tr>\n",
       "      <th>3</th>\n",
       "      <td>Collaborative and social computing</td>\n",
       "      <td>Collaborative and social computing devices</td>\n",
       "      <td>10003120_3</td>\n",
       "      <td>Collaborative and social computingCollaborativ...</td>\n",
       "    </tr>\n",
       "    <tr>\n",
       "      <th>4</th>\n",
       "      <td>Blogs</td>\n",
       "      <td>Social recommendation</td>\n",
       "      <td>10003120_3</td>\n",
       "      <td>BlogsSocial recommendation10003120_3</td>\n",
       "    </tr>\n",
       "    <tr>\n",
       "      <th>...</th>\n",
       "      <td>...</td>\n",
       "      <td>...</td>\n",
       "      <td>...</td>\n",
       "      <td>...</td>\n",
       "    </tr>\n",
       "    <tr>\n",
       "      <th>437</th>\n",
       "      <td>Software security engineering</td>\n",
       "      <td>Software and application security</td>\n",
       "      <td>10002978_9</td>\n",
       "      <td>Software security engineeringSoftware and appl...</td>\n",
       "    </tr>\n",
       "    <tr>\n",
       "      <th>438</th>\n",
       "      <td>Software security engineering</td>\n",
       "      <td>Social network security and privacy</td>\n",
       "      <td>10002978_9</td>\n",
       "      <td>Software security engineeringSocial network se...</td>\n",
       "    </tr>\n",
       "    <tr>\n",
       "      <th>439</th>\n",
       "      <td>Software security engineering</td>\n",
       "      <td>Domain-specific security and privacy architect...</td>\n",
       "      <td>10002978_9</td>\n",
       "      <td>Software security engineeringDomain-specific s...</td>\n",
       "    </tr>\n",
       "    <tr>\n",
       "      <th>440</th>\n",
       "      <td>Software security engineering</td>\n",
       "      <td>Software reverse engineering</td>\n",
       "      <td>10002978_9</td>\n",
       "      <td>Software security engineeringSoftware reverse ...</td>\n",
       "    </tr>\n",
       "    <tr>\n",
       "      <th>441</th>\n",
       "      <td>Software and application security</td>\n",
       "      <td>Web application security</td>\n",
       "      <td>10002978_9</td>\n",
       "      <td>Software and application securityWeb applicati...</td>\n",
       "    </tr>\n",
       "  </tbody>\n",
       "</table>\n",
       "<p>442 rows × 4 columns</p>\n",
       "</div>"
      ],
      "text/plain": [
       "                                 parent  \\\n",
       "0    Collaborative and social computing   \n",
       "1    Collaborative and social computing   \n",
       "2    Collaborative and social computing   \n",
       "3    Collaborative and social computing   \n",
       "4                                 Blogs   \n",
       "..                                  ...   \n",
       "437       Software security engineering   \n",
       "438       Software security engineering   \n",
       "439       Software security engineering   \n",
       "440       Software security engineering   \n",
       "441   Software and application security   \n",
       "\n",
       "                                                 child       group  \\\n",
       "0    Collaborative and social computing theory, con...  10003120_3   \n",
       "1    Collaborative and social computing systems and...  10003120_3   \n",
       "2    Empirical studies in collaborative and social ...  10003120_3   \n",
       "3           Collaborative and social computing devices  10003120_3   \n",
       "4                                Social recommendation  10003120_3   \n",
       "..                                                 ...         ...   \n",
       "437                  Software and application security  10002978_9   \n",
       "438                Social network security and privacy  10002978_9   \n",
       "439  Domain-specific security and privacy architect...  10002978_9   \n",
       "440                       Software reverse engineering  10002978_9   \n",
       "441                           Web application security  10002978_9   \n",
       "\n",
       "                                               compare  \n",
       "0    Collaborative and social computingCollaborativ...  \n",
       "1    Collaborative and social computingCollaborativ...  \n",
       "2    Collaborative and social computingEmpirical st...  \n",
       "3    Collaborative and social computingCollaborativ...  \n",
       "4                 BlogsSocial recommendation10003120_3  \n",
       "..                                                 ...  \n",
       "437  Software security engineeringSoftware and appl...  \n",
       "438  Software security engineeringSocial network se...  \n",
       "439  Software security engineeringDomain-specific s...  \n",
       "440  Software security engineeringSoftware reverse ...  \n",
       "441  Software and application securityWeb applicati...  \n",
       "\n",
       "[442 rows x 4 columns]"
      ]
     },
     "execution_count": 133,
     "metadata": {},
     "output_type": "execute_result"
    }
   ],
   "source": [
    "res"
   ]
  },
  {
   "cell_type": "code",
   "execution_count": 118,
   "metadata": {
    "tags": []
   },
   "outputs": [],
   "source": [
    "df_actual=pd.read_csv(actual_tree)\n",
    "df_actual=df_actual[df_actual['type'] == 'test']\n",
    "df_actual['compare']=df_actual['parent']+df_actual['child']+df_actual['group'].astype(str)"
   ]
  },
  {
   "cell_type": "code",
   "execution_count": 119,
   "metadata": {},
   "outputs": [
    {
     "data": {
      "text/html": [
       "<div>\n",
       "<style scoped>\n",
       "    .dataframe tbody tr th:only-of-type {\n",
       "        vertical-align: middle;\n",
       "    }\n",
       "\n",
       "    .dataframe tbody tr th {\n",
       "        vertical-align: top;\n",
       "    }\n",
       "\n",
       "    .dataframe thead th {\n",
       "        text-align: right;\n",
       "    }\n",
       "</style>\n",
       "<table border=\"1\" class=\"dataframe\">\n",
       "  <thead>\n",
       "    <tr style=\"text-align: right;\">\n",
       "      <th></th>\n",
       "      <th>parent</th>\n",
       "      <th>child</th>\n",
       "      <th>group</th>\n",
       "      <th>type</th>\n",
       "      <th>compare</th>\n",
       "    </tr>\n",
       "  </thead>\n",
       "  <tbody>\n",
       "    <tr>\n",
       "      <th>23</th>\n",
       "      <td>Probability and statistics</td>\n",
       "      <td>Probabilistic representations</td>\n",
       "      <td>10002950_2</td>\n",
       "      <td>test</td>\n",
       "      <td>Probability and statisticsProbabilistic repres...</td>\n",
       "    </tr>\n",
       "    <tr>\n",
       "      <th>24</th>\n",
       "      <td>Probabilistic representations</td>\n",
       "      <td>Bayesian networks</td>\n",
       "      <td>10002950_2</td>\n",
       "      <td>test</td>\n",
       "      <td>Probabilistic representationsBayesian networks...</td>\n",
       "    </tr>\n",
       "    <tr>\n",
       "      <th>25</th>\n",
       "      <td>Probabilistic representations</td>\n",
       "      <td>Markov networks</td>\n",
       "      <td>10002950_2</td>\n",
       "      <td>test</td>\n",
       "      <td>Probabilistic representationsMarkov networks10...</td>\n",
       "    </tr>\n",
       "    <tr>\n",
       "      <th>26</th>\n",
       "      <td>Probabilistic representations</td>\n",
       "      <td>Factor graphs</td>\n",
       "      <td>10002950_2</td>\n",
       "      <td>test</td>\n",
       "      <td>Probabilistic representationsFactor graphs1000...</td>\n",
       "    </tr>\n",
       "    <tr>\n",
       "      <th>27</th>\n",
       "      <td>Probabilistic representations</td>\n",
       "      <td>Decision diagrams</td>\n",
       "      <td>10002950_2</td>\n",
       "      <td>test</td>\n",
       "      <td>Probabilistic representationsDecision diagrams...</td>\n",
       "    </tr>\n",
       "    <tr>\n",
       "      <th>...</th>\n",
       "      <td>...</td>\n",
       "      <td>...</td>\n",
       "      <td>...</td>\n",
       "      <td>...</td>\n",
       "      <td>...</td>\n",
       "    </tr>\n",
       "    <tr>\n",
       "      <th>1838</th>\n",
       "      <td>Collaborative and social computing systems and...</td>\n",
       "      <td>Open source software</td>\n",
       "      <td>10003120_3</td>\n",
       "      <td>test</td>\n",
       "      <td>Collaborative and social computing systems and...</td>\n",
       "    </tr>\n",
       "    <tr>\n",
       "      <th>1839</th>\n",
       "      <td>Collaborative and social computing systems and...</td>\n",
       "      <td>Social networking sites</td>\n",
       "      <td>10003120_3</td>\n",
       "      <td>test</td>\n",
       "      <td>Collaborative and social computing systems and...</td>\n",
       "    </tr>\n",
       "    <tr>\n",
       "      <th>1840</th>\n",
       "      <td>Collaborative and social computing systems and...</td>\n",
       "      <td>Social tagging systems</td>\n",
       "      <td>10003120_3</td>\n",
       "      <td>test</td>\n",
       "      <td>Collaborative and social computing systems and...</td>\n",
       "    </tr>\n",
       "    <tr>\n",
       "      <th>1841</th>\n",
       "      <td>Collaborative and social computing systems and...</td>\n",
       "      <td>Synchronous editors</td>\n",
       "      <td>10003120_3</td>\n",
       "      <td>test</td>\n",
       "      <td>Collaborative and social computing systems and...</td>\n",
       "    </tr>\n",
       "    <tr>\n",
       "      <th>1842</th>\n",
       "      <td>Collaborative and social computing systems and...</td>\n",
       "      <td>Asynchronous editors</td>\n",
       "      <td>10003120_3</td>\n",
       "      <td>test</td>\n",
       "      <td>Collaborative and social computing systems and...</td>\n",
       "    </tr>\n",
       "  </tbody>\n",
       "</table>\n",
       "<p>442 rows × 5 columns</p>\n",
       "</div>"
      ],
      "text/plain": [
       "                                                 parent  \\\n",
       "23                           Probability and statistics   \n",
       "24                        Probabilistic representations   \n",
       "25                        Probabilistic representations   \n",
       "26                        Probabilistic representations   \n",
       "27                        Probabilistic representations   \n",
       "...                                                 ...   \n",
       "1838  Collaborative and social computing systems and...   \n",
       "1839  Collaborative and social computing systems and...   \n",
       "1840  Collaborative and social computing systems and...   \n",
       "1841  Collaborative and social computing systems and...   \n",
       "1842  Collaborative and social computing systems and...   \n",
       "\n",
       "                              child       group  type  \\\n",
       "23    Probabilistic representations  10002950_2  test   \n",
       "24                Bayesian networks  10002950_2  test   \n",
       "25                  Markov networks  10002950_2  test   \n",
       "26                    Factor graphs  10002950_2  test   \n",
       "27                Decision diagrams  10002950_2  test   \n",
       "...                             ...         ...   ...   \n",
       "1838           Open source software  10003120_3  test   \n",
       "1839        Social networking sites  10003120_3  test   \n",
       "1840         Social tagging systems  10003120_3  test   \n",
       "1841            Synchronous editors  10003120_3  test   \n",
       "1842           Asynchronous editors  10003120_3  test   \n",
       "\n",
       "                                                compare  \n",
       "23    Probability and statisticsProbabilistic repres...  \n",
       "24    Probabilistic representationsBayesian networks...  \n",
       "25    Probabilistic representationsMarkov networks10...  \n",
       "26    Probabilistic representationsFactor graphs1000...  \n",
       "27    Probabilistic representationsDecision diagrams...  \n",
       "...                                                 ...  \n",
       "1838  Collaborative and social computing systems and...  \n",
       "1839  Collaborative and social computing systems and...  \n",
       "1840  Collaborative and social computing systems and...  \n",
       "1841  Collaborative and social computing systems and...  \n",
       "1842  Collaborative and social computing systems and...  \n",
       "\n",
       "[442 rows x 5 columns]"
      ]
     },
     "execution_count": 119,
     "metadata": {},
     "output_type": "execute_result"
    }
   ],
   "source": [
    "df_actual"
   ]
  },
  {
   "cell_type": "code",
   "execution_count": 120,
   "metadata": {
    "tags": []
   },
   "outputs": [
    {
     "name": "stderr",
     "output_type": "stream",
     "text": [
      "100%|█████████████████████████████████████████████████████████████████████████████████| 15/15 [00:00<00:00, 365.82it/s]\n"
     ]
    },
    {
     "data": {
      "text/plain": [
       "10010147_3     186\n",
       "10002951_5     145\n",
       "10002950_2     110\n",
       "10003456_2      98\n",
       "10010147_5      55\n",
       "10010583_10     51\n",
       "10003120_3      45\n",
       "10010405_4      35\n",
       "10010583_7      33\n",
       "10010583_2      25\n",
       "10010583_8      15\n",
       "10002950_5      15\n",
       "10002978_3      12\n",
       "10002978_9       5\n",
       "10002950_3       3\n",
       "Name: group, dtype: int64"
      ]
     },
     "execution_count": 120,
     "metadata": {},
     "output_type": "execute_result"
    }
   ],
   "source": [
    "df_actual = dataframe_to_ancestor_graph(df_actual)\n",
    "df_actual['group'].value_counts()"
   ]
  },
  {
   "cell_type": "code",
   "execution_count": 121,
   "metadata": {},
   "outputs": [
    {
     "data": {
      "text/html": [
       "<div>\n",
       "<style scoped>\n",
       "    .dataframe tbody tr th:only-of-type {\n",
       "        vertical-align: middle;\n",
       "    }\n",
       "\n",
       "    .dataframe tbody tr th {\n",
       "        vertical-align: top;\n",
       "    }\n",
       "\n",
       "    .dataframe thead th {\n",
       "        text-align: right;\n",
       "    }\n",
       "</style>\n",
       "<table border=\"1\" class=\"dataframe\">\n",
       "  <thead>\n",
       "    <tr style=\"text-align: right;\">\n",
       "      <th></th>\n",
       "      <th>parent</th>\n",
       "      <th>child</th>\n",
       "      <th>group</th>\n",
       "      <th>compare</th>\n",
       "    </tr>\n",
       "  </thead>\n",
       "  <tbody>\n",
       "    <tr>\n",
       "      <th>0</th>\n",
       "      <td>Collaborative and social computing</td>\n",
       "      <td>Empirical studies in collaborative and social ...</td>\n",
       "      <td>10003120_3</td>\n",
       "      <td>Collaborative and social computingEmpirical st...</td>\n",
       "    </tr>\n",
       "    <tr>\n",
       "      <th>1</th>\n",
       "      <td>Collaborative and social computing</td>\n",
       "      <td>Ethnographic studies</td>\n",
       "      <td>10003120_3</td>\n",
       "      <td>Collaborative and social computingEthnographic...</td>\n",
       "    </tr>\n",
       "    <tr>\n",
       "      <th>2</th>\n",
       "      <td>Collaborative and social computing</td>\n",
       "      <td>Social tagging systems</td>\n",
       "      <td>10003120_3</td>\n",
       "      <td>Collaborative and social computingSocial taggi...</td>\n",
       "    </tr>\n",
       "    <tr>\n",
       "      <th>3</th>\n",
       "      <td>Collaborative and social computing</td>\n",
       "      <td>Social network analysis</td>\n",
       "      <td>10003120_3</td>\n",
       "      <td>Collaborative and social computingSocial netwo...</td>\n",
       "    </tr>\n",
       "    <tr>\n",
       "      <th>4</th>\n",
       "      <td>Collaborative and social computing</td>\n",
       "      <td>Blogs</td>\n",
       "      <td>10003120_3</td>\n",
       "      <td>Collaborative and social computingBlogs10003120_3</td>\n",
       "    </tr>\n",
       "    <tr>\n",
       "      <th>...</th>\n",
       "      <td>...</td>\n",
       "      <td>...</td>\n",
       "      <td>...</td>\n",
       "      <td>...</td>\n",
       "    </tr>\n",
       "    <tr>\n",
       "      <th>828</th>\n",
       "      <td>Software and application security</td>\n",
       "      <td>Software security engineering</td>\n",
       "      <td>10002978_9</td>\n",
       "      <td>Software and application securitySoftware secu...</td>\n",
       "    </tr>\n",
       "    <tr>\n",
       "      <th>829</th>\n",
       "      <td>Software and application security</td>\n",
       "      <td>Social network security and privacy</td>\n",
       "      <td>10002978_9</td>\n",
       "      <td>Software and application securitySocial networ...</td>\n",
       "    </tr>\n",
       "    <tr>\n",
       "      <th>830</th>\n",
       "      <td>Software and application security</td>\n",
       "      <td>Domain-specific security and privacy architect...</td>\n",
       "      <td>10002978_9</td>\n",
       "      <td>Software and application securityDomain-specif...</td>\n",
       "    </tr>\n",
       "    <tr>\n",
       "      <th>831</th>\n",
       "      <td>Software and application security</td>\n",
       "      <td>Software reverse engineering</td>\n",
       "      <td>10002978_9</td>\n",
       "      <td>Software and application securitySoftware reve...</td>\n",
       "    </tr>\n",
       "    <tr>\n",
       "      <th>832</th>\n",
       "      <td>Software and application security</td>\n",
       "      <td>Web application security</td>\n",
       "      <td>10002978_9</td>\n",
       "      <td>Software and application securityWeb applicati...</td>\n",
       "    </tr>\n",
       "  </tbody>\n",
       "</table>\n",
       "<p>833 rows × 4 columns</p>\n",
       "</div>"
      ],
      "text/plain": [
       "                                 parent  \\\n",
       "0    Collaborative and social computing   \n",
       "1    Collaborative and social computing   \n",
       "2    Collaborative and social computing   \n",
       "3    Collaborative and social computing   \n",
       "4    Collaborative and social computing   \n",
       "..                                  ...   \n",
       "828   Software and application security   \n",
       "829   Software and application security   \n",
       "830   Software and application security   \n",
       "831   Software and application security   \n",
       "832   Software and application security   \n",
       "\n",
       "                                                 child       group  \\\n",
       "0    Empirical studies in collaborative and social ...  10003120_3   \n",
       "1                                 Ethnographic studies  10003120_3   \n",
       "2                               Social tagging systems  10003120_3   \n",
       "3                              Social network analysis  10003120_3   \n",
       "4                                                Blogs  10003120_3   \n",
       "..                                                 ...         ...   \n",
       "828                      Software security engineering  10002978_9   \n",
       "829                Social network security and privacy  10002978_9   \n",
       "830  Domain-specific security and privacy architect...  10002978_9   \n",
       "831                       Software reverse engineering  10002978_9   \n",
       "832                           Web application security  10002978_9   \n",
       "\n",
       "                                               compare  \n",
       "0    Collaborative and social computingEmpirical st...  \n",
       "1    Collaborative and social computingEthnographic...  \n",
       "2    Collaborative and social computingSocial taggi...  \n",
       "3    Collaborative and social computingSocial netwo...  \n",
       "4    Collaborative and social computingBlogs10003120_3  \n",
       "..                                                 ...  \n",
       "828  Software and application securitySoftware secu...  \n",
       "829  Software and application securitySocial networ...  \n",
       "830  Software and application securityDomain-specif...  \n",
       "831  Software and application securitySoftware reve...  \n",
       "832  Software and application securityWeb applicati...  \n",
       "\n",
       "[833 rows x 4 columns]"
      ]
     },
     "execution_count": 121,
     "metadata": {},
     "output_type": "execute_result"
    }
   ],
   "source": [
    "df_actual"
   ]
  },
  {
   "cell_type": "code",
   "execution_count": 122,
   "metadata": {},
   "outputs": [
    {
     "name": "stderr",
     "output_type": "stream",
     "text": [
      "100%|█████████████████████████████████████████████████████████████████████████████████| 15/15 [00:00<00:00, 386.57it/s]\n"
     ]
    }
   ],
   "source": [
    "recall, precision, f1 = evaluate_groups(df_actual, res_v2)"
   ]
  },
  {
   "cell_type": "code",
   "execution_count": 123,
   "metadata": {},
   "outputs": [
    {
     "data": {
      "text/plain": [
       "0.41825147944819663"
      ]
     },
     "execution_count": 123,
     "metadata": {},
     "output_type": "execute_result"
    }
   ],
   "source": [
    "recall"
   ]
  },
  {
   "cell_type": "code",
   "execution_count": 124,
   "metadata": {},
   "outputs": [
    {
     "data": {
      "text/plain": [
       "0.43358249930198667"
      ]
     },
     "execution_count": 124,
     "metadata": {},
     "output_type": "execute_result"
    }
   ],
   "source": [
    "precision"
   ]
  },
  {
   "cell_type": "code",
   "execution_count": 125,
   "metadata": {},
   "outputs": [
    {
     "data": {
      "text/plain": [
       "0.4164978469517678"
      ]
     },
     "execution_count": 125,
     "metadata": {},
     "output_type": "execute_result"
    }
   ],
   "source": [
    "f1"
   ]
  },
  {
   "cell_type": "markdown",
   "metadata": {},
   "source": [
    "## Violation"
   ]
  },
  {
   "cell_type": "code",
   "execution_count": 200,
   "metadata": {},
   "outputs": [
    {
     "name": "stderr",
     "output_type": "stream",
     "text": [
      "100%|██████████████████████████████████████████████████████████████████████████████████| 15/15 [00:07<00:00,  2.00it/s]\n",
      "100%|█████████████████████████████████████████████████████████████████████████████████| 15/15 [00:00<00:00, 116.25it/s]\n",
      "100%|██████████████████████████████████████████████████████████████████████████████████| 15/15 [00:07<00:00,  2.00it/s]\n",
      "100%|█████████████████████████████████████████████████████████████████████████████████| 15/15 [00:00<00:00, 117.97it/s]\n",
      "100%|████████████████████████████████████████████████████████████████████████████████| 114/114 [00:09<00:00, 12.05it/s]\n",
      "100%|███████████████████████████████████████████████████████████████████████████████| 114/114 [00:00<00:00, 190.01it/s]\n",
      "100%|████████████████████████████████████████████████████████████████████████████████| 114/114 [00:10<00:00, 10.70it/s]\n",
      "100%|███████████████████████████████████████████████████████████████████████████████| 114/114 [00:00<00:00, 202.68it/s]\n"
     ]
    }
   ],
   "source": [
    "path = ['ccs/finetune.csv','ccs/lora.csv','wordnet/finetune.csv','wordnet/lora.csv'] # 'results/wordnet/lora.csv'\n",
    "save_path=['results/'+p for p in path]\n",
    "post_process ={'mx': maximum_absorbance,'ml':maximum_likelihood} # maximum_likelihood maximum_absorbance\n",
    "dict_res={}\n",
    "for p in save_path:\n",
    "    df_t = pd.read_csv(p)\n",
    "    df_t['predict'] = np.log(df_t['predict'])\n",
    "    for key, p_process in post_process.items():\n",
    "        forest=[]\n",
    "        for g in tqdm(list(set(df_t.group))):\n",
    "            df = p_process(df_t, g)\n",
    "            forest.append(df)\n",
    "        res=pd.concat(forest,ignore_index=True)\n",
    "        res_vio=violation_val(res)\n",
    "        dict_res[p+'_'+key]=res_vio"
   ]
  },
  {
   "cell_type": "code",
   "execution_count": 218,
   "metadata": {},
   "outputs": [],
   "source": [
    "res_avg_v= avg_violation_val(dict_res)"
   ]
  },
  {
   "cell_type": "code",
   "execution_count": 223,
   "metadata": {},
   "outputs": [
    {
     "data": {
      "text/plain": [
       "{'header': 'count of roots&count of no root groups&avg number of parent&avg num of nodes with multiple parents&% nodes with multiple parents',\n",
       " 'results/ccs/finetune.csv_mx': '1.0&0.0&1.0&0.0&0.0',\n",
       " 'results/ccs/finetune.csv_ml': '0.57&0.64&3.3&22.64&59.81',\n",
       " 'results/ccs/lora.csv_mx': '1.0&0.0&1.0&0.0&0.0',\n",
       " 'results/ccs/lora.csv_ml': '1.36&0.29&2.6&17.14&65.13',\n",
       " 'results/wordnet/finetune.csv_mx': '1.0&0.0&1.0&0.0&0.0',\n",
       " 'results/wordnet/finetune.csv_ml': '1.48&0.17&1.47&5.65&31.28',\n",
       " 'results/wordnet/lora.csv_mx': '1.0&0.0&1.0&0.0&0.0',\n",
       " 'results/wordnet/lora.csv_ml': '1.06&0.43&2.56&13.13&66.32'}"
      ]
     },
     "execution_count": 223,
     "metadata": {},
     "output_type": "execute_result"
    }
   ],
   "source": [
    "res_avg_v"
   ]
  },
  {
   "cell_type": "code",
   "execution_count": 256,
   "metadata": {},
   "outputs": [],
   "source": [
    "pd.DataFrame(res_avg_v,index=[0]).transpose().to_csv('results/violation/finetune_lora.csv',header = False)"
   ]
  },
  {
   "cell_type": "code",
   "execution_count": 245,
   "metadata": {},
   "outputs": [],
   "source": [
    "def chatgpt_gw_res(list_data):\n",
    "    dict_df_res={}\n",
    "    for data_dir in list_data:\n",
    "        print(data_dir)\n",
    "        dfs = []\n",
    "        num_generations = 5\n",
    "\n",
    "        for i in range(1, num_generations + 1):\n",
    "            filename = f'{data_dir}/results_{i}.csv'\n",
    "            df = pd.read_csv(filename)\n",
    "            df['child'] = df['child'].apply(lambda x: x.replace(' ', '_'))\n",
    "            df['parent'] = df['parent'].apply(lambda x: x.replace(' ', '_'))\n",
    "            dfs.append(df)\n",
    "\n",
    "        df = pd.concat(dfs)\n",
    "        rows = []\n",
    "        columns = df.columns.tolist()\n",
    "\n",
    "        for group_name, group_df in df.groupby(columns):\n",
    "            count = group_df.shape[0]\n",
    "            new_row = {\n",
    "                columns[0]: group_name[0],\n",
    "                columns[1]: group_name[1],\n",
    "                columns[2]: group_name[2],\n",
    "                'predict': count,\n",
    "            }\n",
    "            rows.append(new_row)\n",
    "        merged_df = pd.DataFrame(rows)\n",
    "        dict_df_res[data_dir]=merged_df\n",
    "    return dict_df_res\n"
   ]
  },
  {
   "cell_type": "code",
   "execution_count": 246,
   "metadata": {},
   "outputs": [
    {
     "name": "stdout",
     "output_type": "stream",
     "text": [
      "results/gpt-3/wordnet/\n",
      "results/gpt-3/ccs/\n"
     ]
    }
   ],
   "source": [
    "dict_df_res_gpt=chatgpt_gw_res(['results/gpt-3/wordnet/','results/gpt-3/ccs/'])"
   ]
  },
  {
   "cell_type": "code",
   "execution_count": 248,
   "metadata": {},
   "outputs": [],
   "source": [
    "post_process_gpt ={'mv': majority_voting,'mb':maximum_branching} # maxi    maximum_branching,"
   ]
  },
  {
   "cell_type": "code",
   "execution_count": 249,
   "metadata": {},
   "outputs": [
    {
     "name": "stderr",
     "output_type": "stream",
     "text": [
      "100%|███████████████████████████████████████████████████████████████████████████████| 114/114 [00:00<00:00, 371.59it/s]\n",
      "100%|███████████████████████████████████████████████████████████████████████████████| 114/114 [00:00<00:00, 205.77it/s]\n",
      "100%|█████████████████████████████████████████████████████████████████████████████████| 15/15 [00:00<00:00, 365.51it/s]\n",
      "100%|██████████████████████████████████████████████████████████████████████████████████| 15/15 [00:00<00:00, 89.70it/s]\n"
     ]
    }
   ],
   "source": [
    "dict_res_gpt={}\n",
    "for name,data in dict_df_res_gpt.items():\n",
    "    for key, p_process in post_process_gpt.items():\n",
    "        forest=[]\n",
    "        for g in tqdm(list(set(data.group))):\n",
    "            df = p_process(data, g)\n",
    "            forest.append(df)\n",
    "        res_gpt=pd.concat(forest,ignore_index=True)\n",
    "        res_vio_gpt=violation_val(res_gpt)\n",
    "        dict_res_gpt[name+'_'+key]=res_vio_gpt"
   ]
  },
  {
   "cell_type": "code",
   "execution_count": 253,
   "metadata": {},
   "outputs": [],
   "source": [
    "res_gpt_v=avg_violation_val(dict_res_gpt)"
   ]
  },
  {
   "cell_type": "code",
   "execution_count": 255,
   "metadata": {},
   "outputs": [],
   "source": [
    "pd.DataFrame(res_gpt_v,index=[0]).transpose().to_csv('results/violation/chatgpt.csv',header = False)\n"
   ]
  },
  {
   "cell_type": "code",
   "execution_count": null,
   "metadata": {},
   "outputs": [],
   "source": []
  }
 ],
 "metadata": {
  "kernelspec": {
   "display_name": "Python 3",
   "language": "python",
   "name": "python3"
  },
  "language_info": {
   "codemirror_mode": {
    "name": "ipython",
    "version": 3
   },
   "file_extension": ".py",
   "mimetype": "text/x-python",
   "name": "python",
   "nbconvert_exporter": "python",
   "pygments_lexer": "ipython3",
   "version": "3.7.4"
  }
 },
 "nbformat": 4,
 "nbformat_minor": 5
}
