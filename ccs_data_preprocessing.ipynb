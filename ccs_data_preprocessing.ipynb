{
 "cells": [
  {
   "cell_type": "code",
   "execution_count": 97,
   "metadata": {},
   "outputs": [],
   "source": [
    "import csv\n",
    "import xmltodict\n",
    "import pandas as pd\n",
    "# Reading xml file\n",
    "with open(\"ccs_acm_ccs2012.xml\", 'r') as file:\n",
    "    filedata = file.read()\n",
    "\n",
    "# Converting xml to python dictionary (ordered dict)\n",
    "data_dict = xmltodict.parse(filedata)"
   ]
  },
  {
   "attachments": {},
   "cell_type": "markdown",
   "metadata": {},
   "source": [
    "## Step 1 convert xml file to pair-wise structure dataset"
   ]
  },
  {
   "cell_type": "code",
   "execution_count": 98,
   "metadata": {},
   "outputs": [
    {
     "data": {
      "text/plain": [
       "[OrderedDict([('@rdf:resource', '10010520.10010521')]),\n",
       " OrderedDict([('@rdf:resource', '10010520.10010553')]),\n",
       " OrderedDict([('@rdf:resource', '10010520.10010570')]),\n",
       " OrderedDict([('@rdf:resource', '10010520.10010575')])]"
      ]
     },
     "execution_count": 98,
     "metadata": {},
     "output_type": "execute_result"
    }
   ],
   "source": [
    "data_dict['rdf:RDF']['skos:Concept'][10]['skos:narrower']"
   ]
  },
  {
   "cell_type": "code",
   "execution_count": 99,
   "metadata": {},
   "outputs": [
    {
     "name": "stdout",
     "output_type": "stream",
     "text": [
      "OrderedDict([('@rdf:about', '10010583.10010600'), ('skos:prefLabel', OrderedDict([('@lang', 'en'), ('#text', 'Integrated circuits')])), ('skos:broader', OrderedDict([('@rdf:resource', '10010583')])), ('skos:narrower', [OrderedDict([('@rdf:resource', '10010583.10010600.10010601')]), OrderedDict([('@rdf:resource', '10010583.10010600.10010602')]), OrderedDict([('@rdf:resource', '10010583.10010600.10010607')]), OrderedDict([('@rdf:resource', '10010583.10010600.10010612')]), OrderedDict([('@rdf:resource', '10010583.10010600.10010615')]), OrderedDict([('@rdf:resource', '10010583.10010600.10010628')])])])\n",
      "OrderedDict([('@rdf:about', '10010583.10010633'), ('skos:prefLabel', OrderedDict([('@lang', 'en'), ('#text', 'Very large scale integration design')])), ('skos:broader', OrderedDict([('@rdf:resource', '10010583')])), ('skos:narrower', [OrderedDict([('@rdf:resource', '10010583.10010633.10010601')]), OrderedDict([('@rdf:resource', '10010583.10010633.10010634')]), OrderedDict([('@rdf:resource', '10010583.10010633.10010640')]), OrderedDict([('@rdf:resource', '10010583.10010633.10010645')]), OrderedDict([('@rdf:resource', '10010583.10010633.10010649')]), OrderedDict([('@rdf:resource', '10010583.10010633.10010650')]), OrderedDict([('@rdf:resource', '10010583.10010633.10010651')]), OrderedDict([('@rdf:resource', '10010583.10010633.10010652')]), OrderedDict([('@rdf:resource', '10010583.10010633.10010653')]), OrderedDict([('@rdf:resource', '10010583.10010633.10010654')]), OrderedDict([('@rdf:resource', '10010583.10010633.10010655')]), OrderedDict([('@rdf:resource', '10010583.10010633.10010656')]), OrderedDict([('@rdf:resource', '10010583.10010633.10010659')])])])\n"
     ]
    }
   ],
   "source": [
    "concept_id=[]\n",
    "concept_name=[]\n",
    "child_pair=[]\n",
    "group_code=[]\n",
    "for i in range(len(data_dict['rdf:RDF']['skos:Concept'])):\n",
    "\n",
    "    id_=data_dict['rdf:RDF']['skos:Concept'][i]['@rdf:about'][-8:]\n",
    "    if id_=='10010600' or id_=='10010633':\n",
    "        print(data_dict['rdf:RDF']['skos:Concept'][i])\n",
    "    concept_id.append(id_)\n",
    "    concept_name.append(data_dict['rdf:RDF']['skos:Concept'][i]['skos:prefLabel']['#text'])\n",
    "    try: \n",
    "        len_child=len(data_dict['rdf:RDF']['skos:Concept'][i]['skos:narrower'])\n",
    "    except:\n",
    "        len_child=0\n",
    "    if len_child>1:\n",
    "        list_child=[]\n",
    "        for list_id in [data_dict['rdf:RDF']['skos:Concept'][i]['skos:narrower'][j]['@rdf:resource'] for j in range(len_child)]:\n",
    "            if id_ in list_id:\n",
    "                list_child.append(list_id[-8:])\n",
    "            \n",
    "        child_pair.append(list_child)\n",
    "    elif len_child==1:\n",
    "        \n",
    "        child_pair.append(data_dict['rdf:RDF']['skos:Concept'][i]['skos:narrower']['@rdf:resource'][-8:])\n",
    "        \n",
    "    else:\n",
    "        child_pair.append([])\n",
    "    group=data_dict['rdf:RDF']['skos:Concept'][i][list(data_dict['rdf:RDF']['skos:Concept'][i].keys())[2]]['@rdf:resource']\n",
    "    if len(group)<8:\n",
    "        group_code.append(id_)\n",
    "    else:\n",
    "        group_code.append(group[:8])"
   ]
  },
  {
   "cell_type": "code",
   "execution_count": 100,
   "metadata": {},
   "outputs": [],
   "source": [
    "acm_css = pd.DataFrame(\n",
    "    {'concept_id': concept_id,\n",
    "     'concept_name': concept_name,\n",
    "     'child_pair': child_pair,\n",
    "     'group_code':group_code\n",
    "    })\n"
   ]
  },
  {
   "cell_type": "code",
   "execution_count": 101,
   "metadata": {},
   "outputs": [],
   "source": [
    "acm_css.to_csv('acm_css.csv')"
   ]
  },
  {
   "cell_type": "code",
   "execution_count": 102,
   "metadata": {},
   "outputs": [],
   "source": [
    "acm_css.explode('child_pair').to_csv('acm_css_pair_wise_v2.csv')"
   ]
  },
  {
   "cell_type": "code",
   "execution_count": 103,
   "metadata": {},
   "outputs": [
    {
     "name": "stdout",
     "output_type": "stream",
     "text": [
      "<class 'pandas.core.frame.DataFrame'>\n",
      "Int64Index: 3782 entries, 0 to 2112\n",
      "Data columns (total 4 columns):\n",
      " #   Column        Non-Null Count  Dtype \n",
      "---  ------        --------------  ----- \n",
      " 0   concept_id    3782 non-null   object\n",
      " 1   concept_name  3782 non-null   object\n",
      " 2   child_pair    2100 non-null   object\n",
      " 3   group_code    3782 non-null   object\n",
      "dtypes: object(4)\n",
      "memory usage: 147.7+ KB\n"
     ]
    }
   ],
   "source": [
    "import numpy as np\n",
    "df_pair=acm_css.explode('child_pair')\n",
    "df_pair.info()"
   ]
  },
  {
   "cell_type": "code",
   "execution_count": 104,
   "metadata": {},
   "outputs": [],
   "source": [
    "df_res=df_pair.merge(df_pair[['concept_id','concept_name']].drop_duplicates('concept_id'),left_on='child_pair',right_on='concept_id',how='left')"
   ]
  },
  {
   "cell_type": "code",
   "execution_count": 105,
   "metadata": {},
   "outputs": [],
   "source": [
    "df_final=df_res[['concept_id_x', 'concept_name_x', 'child_pair', 'concept_name_y', 'group_code']]"
   ]
  },
  {
   "cell_type": "code",
   "execution_count": 106,
   "metadata": {},
   "outputs": [],
   "source": [
    "df_final.columns=['concept_id', 'concept_name', 'child_id',  'child_name','group_code']"
   ]
  },
  {
   "cell_type": "code",
   "execution_count": 107,
   "metadata": {},
   "outputs": [],
   "source": [
    "df_final=df_final.dropna(subset=['child_id'])"
   ]
  },
  {
   "cell_type": "code",
   "execution_count": 108,
   "metadata": {},
   "outputs": [],
   "source": [
    "df_final.to_csv('acm_css_pair_wise.csv')"
   ]
  },
  {
   "cell_type": "code",
   "execution_count": 109,
   "metadata": {},
   "outputs": [
    {
     "data": {
      "text/html": [
       "<div>\n",
       "<style scoped>\n",
       "    .dataframe tbody tr th:only-of-type {\n",
       "        vertical-align: middle;\n",
       "    }\n",
       "\n",
       "    .dataframe tbody tr th {\n",
       "        vertical-align: top;\n",
       "    }\n",
       "\n",
       "    .dataframe thead th {\n",
       "        text-align: right;\n",
       "    }\n",
       "</style>\n",
       "<table border=\"1\" class=\"dataframe\">\n",
       "  <thead>\n",
       "    <tr style=\"text-align: right;\">\n",
       "      <th></th>\n",
       "      <th>concept_id</th>\n",
       "      <th>concept_name</th>\n",
       "      <th>child_id</th>\n",
       "      <th>child_name</th>\n",
       "      <th>group_code</th>\n",
       "    </tr>\n",
       "  </thead>\n",
       "  <tbody>\n",
       "    <tr>\n",
       "      <th>0</th>\n",
       "      <td>10002944</td>\n",
       "      <td>General and reference</td>\n",
       "      <td>10011122</td>\n",
       "      <td>Document types</td>\n",
       "      <td>10002944</td>\n",
       "    </tr>\n",
       "    <tr>\n",
       "      <th>1</th>\n",
       "      <td>10002944</td>\n",
       "      <td>General and reference</td>\n",
       "      <td>10011123</td>\n",
       "      <td>Cross-computing tools and techniques</td>\n",
       "      <td>10002944</td>\n",
       "    </tr>\n",
       "    <tr>\n",
       "      <th>2</th>\n",
       "      <td>10002950</td>\n",
       "      <td>Mathematics of computing</td>\n",
       "      <td>10003624</td>\n",
       "      <td>Discrete mathematics</td>\n",
       "      <td>10002950</td>\n",
       "    </tr>\n",
       "    <tr>\n",
       "      <th>3</th>\n",
       "      <td>10002950</td>\n",
       "      <td>Mathematics of computing</td>\n",
       "      <td>10003648</td>\n",
       "      <td>Probability and statistics</td>\n",
       "      <td>10002950</td>\n",
       "    </tr>\n",
       "    <tr>\n",
       "      <th>4</th>\n",
       "      <td>10002950</td>\n",
       "      <td>Mathematics of computing</td>\n",
       "      <td>10003705</td>\n",
       "      <td>Mathematical software</td>\n",
       "      <td>10002950</td>\n",
       "    </tr>\n",
       "    <tr>\n",
       "      <th>...</th>\n",
       "      <td>...</td>\n",
       "      <td>...</td>\n",
       "      <td>...</td>\n",
       "      <td>...</td>\n",
       "      <td>...</td>\n",
       "    </tr>\n",
       "    <tr>\n",
       "      <th>3665</th>\n",
       "      <td>10010957</td>\n",
       "      <td>Process management</td>\n",
       "      <td>10010964</td>\n",
       "      <td>Power management</td>\n",
       "      <td>10011007</td>\n",
       "    </tr>\n",
       "    <tr>\n",
       "      <th>3666</th>\n",
       "      <td>10010957</td>\n",
       "      <td>Process management</td>\n",
       "      <td>10011678</td>\n",
       "      <td>Process synchronization</td>\n",
       "      <td>10011007</td>\n",
       "    </tr>\n",
       "    <tr>\n",
       "      <th>3667</th>\n",
       "      <td>10010965</td>\n",
       "      <td>Communications management</td>\n",
       "      <td>10010966</td>\n",
       "      <td>Buffering</td>\n",
       "      <td>10011007</td>\n",
       "    </tr>\n",
       "    <tr>\n",
       "      <th>3668</th>\n",
       "      <td>10010965</td>\n",
       "      <td>Communications management</td>\n",
       "      <td>10010967</td>\n",
       "      <td>Input / output</td>\n",
       "      <td>10011007</td>\n",
       "    </tr>\n",
       "    <tr>\n",
       "      <th>3669</th>\n",
       "      <td>10010965</td>\n",
       "      <td>Communications management</td>\n",
       "      <td>10010968</td>\n",
       "      <td>Message passing</td>\n",
       "      <td>10011007</td>\n",
       "    </tr>\n",
       "  </tbody>\n",
       "</table>\n",
       "<p>2100 rows × 5 columns</p>\n",
       "</div>"
      ],
      "text/plain": [
       "     concept_id               concept_name  child_id  \\\n",
       "0      10002944      General and reference  10011122   \n",
       "1      10002944      General and reference  10011123   \n",
       "2      10002950   Mathematics of computing  10003624   \n",
       "3      10002950   Mathematics of computing  10003648   \n",
       "4      10002950   Mathematics of computing  10003705   \n",
       "...         ...                        ...       ...   \n",
       "3665   10010957         Process management  10010964   \n",
       "3666   10010957         Process management  10011678   \n",
       "3667   10010965  Communications management  10010966   \n",
       "3668   10010965  Communications management  10010967   \n",
       "3669   10010965  Communications management  10010968   \n",
       "\n",
       "                                child_name group_code  \n",
       "0                           Document types   10002944  \n",
       "1     Cross-computing tools and techniques   10002944  \n",
       "2                     Discrete mathematics   10002950  \n",
       "3               Probability and statistics   10002950  \n",
       "4                    Mathematical software   10002950  \n",
       "...                                    ...        ...  \n",
       "3665                      Power management   10011007  \n",
       "3666               Process synchronization   10011007  \n",
       "3667                             Buffering   10011007  \n",
       "3668                        Input / output   10011007  \n",
       "3669                       Message passing   10011007  \n",
       "\n",
       "[2100 rows x 5 columns]"
      ]
     },
     "execution_count": 109,
     "metadata": {},
     "output_type": "execute_result"
    }
   ],
   "source": [
    "df_final"
   ]
  },
  {
   "attachments": {},
   "cell_type": "markdown",
   "metadata": {},
   "source": [
    "## Step 2 Split Trees to Subtrees from root level"
   ]
  },
  {
   "cell_type": "code",
   "execution_count": 111,
   "metadata": {},
   "outputs": [
    {
     "data": {
      "text/plain": [
       "10002951    323\n",
       "10010147    276\n",
       "10010583    224\n",
       "10003752    223\n",
       "10011007    215\n",
       "10010405    160\n",
       "10002950    148\n",
       "10003456    138\n",
       "10003120    118\n",
       "10003033    117\n",
       "10002978     78\n",
       "10010520     61\n",
       "10002944     19\n",
       "Name: group_code, dtype: int64"
      ]
     },
     "execution_count": 111,
     "metadata": {},
     "output_type": "execute_result"
    }
   ],
   "source": [
    "df_final.group_code.value_counts()"
   ]
  },
  {
   "cell_type": "code",
   "execution_count": 112,
   "metadata": {},
   "outputs": [
    {
     "data": {
      "text/plain": [
       "['10002944',\n",
       " '10002950',\n",
       " '10002951',\n",
       " '10002978',\n",
       " '10003033',\n",
       " '10003120',\n",
       " '10003456',\n",
       " '10003752',\n",
       " '10010147',\n",
       " '10010405',\n",
       " '10010520',\n",
       " '10010583',\n",
       " '10011007']"
      ]
     },
     "execution_count": 112,
     "metadata": {},
     "output_type": "execute_result"
    }
   ],
   "source": [
    "list(df_final.group_code.unique())"
   ]
  },
  {
   "cell_type": "code",
   "execution_count": 113,
   "metadata": {},
   "outputs": [
    {
     "data": {
      "text/plain": [
       "['10002944',\n",
       " '10002950',\n",
       " '10002951',\n",
       " '10002978',\n",
       " '10003033',\n",
       " '10003120',\n",
       " '10003456',\n",
       " '10003752',\n",
       " '10010147',\n",
       " '10010405',\n",
       " '10010520',\n",
       " '10010583',\n",
       " '10011007']"
      ]
     },
     "execution_count": 113,
     "metadata": {},
     "output_type": "execute_result"
    }
   ],
   "source": [
    "list(df_final.group_code.unique())"
   ]
  },
  {
   "cell_type": "code",
   "execution_count": 119,
   "metadata": {},
   "outputs": [],
   "source": [
    "df_network=df_final"
   ]
  },
  {
   "cell_type": "code",
   "execution_count": 131,
   "metadata": {},
   "outputs": [],
   "source": [
    "\n",
    "import networkx as nx\n",
    "def split_group(df_network):\n",
    "    f_pair_list=[]\n",
    "    for g in list(df_network.group_code.unique()):\n",
    "        num_i=len(df_network[df_network.group_code==g])\n",
    "        if num_i>61:\n",
    "            new_roots=list(df_network[df_network.concept_id==g].child_name.unique())\n",
    "            df_group=df_network.drop(df_network[df_network.concept_id==g].index)\n",
    "            G = nx.from_pandas_edgelist(df_group, 'concept_name', 'child_name', create_using=nx.DiGraph)\n",
    "            counter=1\n",
    "\n",
    "            for root in new_roots:\n",
    "                group=list(nx.dfs_edges(G, source=root))\n",
    "                if len(group)>1:\n",
    "                    update_g_code= [list(tup)+[str(g)+\"_\"+str(counter)] for tup in group]\n",
    "                    f_pair_list=f_pair_list+update_g_code\n",
    "                    counter+=1\n",
    "    df_new_pairs = pd.DataFrame(f_pair_list, columns=['parent_name','child_name','group'])\n",
    "    return df_new_pairs\n",
    "        \n",
    "        "
   ]
  },
  {
   "cell_type": "code",
   "execution_count": 132,
   "metadata": {},
   "outputs": [],
   "source": [
    "df_new_pairs=split_group(df_network)"
   ]
  },
  {
   "cell_type": "code",
   "execution_count": 134,
   "metadata": {},
   "outputs": [],
   "source": [
    "df_new_pairs.to_csv('cleaned_ccs_july_9.csv')"
   ]
  },
  {
   "attachments": {},
   "cell_type": "markdown",
   "metadata": {},
   "source": [
    "## Step 3 Clean duplicates relationships/ subtrees"
   ]
  },
  {
   "cell_type": "code",
   "execution_count": 135,
   "metadata": {},
   "outputs": [
    {
     "data": {
      "text/plain": [
       "10002951_1    87\n",
       "10011007_1    86\n",
       "10010147_4    86\n",
       "10010147_3    82\n",
       "10011007_2    75\n",
       "              ..\n",
       "10010147_7     4\n",
       "10002978_8     4\n",
       "10002950_3     3\n",
       "10010147_8     2\n",
       "10010583_1     2\n",
       "Name: group, Length: 77, dtype: int64"
      ]
     },
     "execution_count": 135,
     "metadata": {},
     "output_type": "execute_result"
    }
   ],
   "source": [
    "df_new_pairs.group.value_counts()"
   ]
  },
  {
   "cell_type": "code",
   "execution_count": 165,
   "metadata": {},
   "outputs": [],
   "source": [
    "df_dup = df_new_pairs[df_new_pairs.duplicated(subset=['parent_name','child_name'], keep=False)]\n",
    "df_non_dup=df_new_pairs[~df_new_pairs.duplicated(subset=['parent_name','child_name'], keep=False)]"
   ]
  },
  {
   "cell_type": "code",
   "execution_count": 153,
   "metadata": {},
   "outputs": [
    {
     "data": {
      "text/plain": [
       "Electronic commerce                                     16\n",
       "Continuous optimization                                 16\n",
       "Collaborative and social computing systems and tools    16\n",
       "Parallel algorithms                                     10\n",
       "Network security                                        10\n",
       "Enterprise information systems                          10\n",
       "Reinforcement learning                                  10\n",
       "Mathematical optimization                                8\n",
       "Optimization with randomized search heuristics           8\n",
       "Markup languages                                         6\n",
       "Calculus                                                 6\n",
       "Discrete optimization                                    4\n",
       "Kernel methods                                           4\n",
       "Non-parametric optimization                              4\n",
       "Social engineering attacks                               4\n",
       "Mixed discrete-continuous optimization                   4\n",
       "Name: parent_name, dtype: int64"
      ]
     },
     "execution_count": 153,
     "metadata": {},
     "output_type": "execute_result"
    }
   ],
   "source": [
    "df_dup.parent_name.value_counts()"
   ]
  },
  {
   "cell_type": "code",
   "execution_count": 172,
   "metadata": {},
   "outputs": [],
   "source": [
    "def clean_dup(df_dup):\n",
    "    list_group=[]\n",
    "    for item in list(df_dup.parent_name.unique()):\n",
    "        df_i=df_dup[df_dup.parent_name==item]\n",
    "        max_g=len(df_dup)\n",
    "        group_k=\"\"\n",
    "        for g in  list(df_i.group.unique()):\n",
    "            num=len(df_i[df_i.group==g])\n",
    "            if max_g>num:\n",
    "                max_g=num\n",
    "                group_k=g\n",
    "        list_group.append(group_k)\n",
    "\n",
    "    df_clean_g=df_dup[df_dup.group.isin(set(list_group))]\n",
    "    return df_clean_g\n",
    "            "
   ]
  },
  {
   "cell_type": "code",
   "execution_count": 173,
   "metadata": {},
   "outputs": [],
   "source": [
    "df_clean_g=clean_dup(df_dup)"
   ]
  },
  {
   "cell_type": "code",
   "execution_count": 174,
   "metadata": {},
   "outputs": [],
   "source": [
    "df_clean_f = pd.concat([df_non_dup, df_clean_g], ignore_index=True, sort=False)\n"
   ]
  },
  {
   "cell_type": "code",
   "execution_count": 176,
   "metadata": {},
   "outputs": [],
   "source": [
    "df_clean_f.to_csv('acm_ccs_clean.csv')"
   ]
  },
  {
   "attachments": {},
   "cell_type": "markdown",
   "metadata": {},
   "source": [
    "## Step 4: Dataset split"
   ]
  },
  {
   "cell_type": "code",
   "execution_count": 29,
   "metadata": {
    "tags": []
   },
   "outputs": [],
   "source": [
    "import pandas as pd\n",
    "import matplotlib.pyplot as plt\n",
    "from sklearn.model_selection import train_test_split\n",
    "import random\n",
    "val_ratio = 0.15\n",
    "test_ratio = 0.15"
   ]
  },
  {
   "cell_type": "code",
   "execution_count": 12,
   "metadata": {},
   "outputs": [],
   "source": [
    "df = pd.read_csv('data/acm_ccs_clean.csv')"
   ]
  },
  {
   "cell_type": "code",
   "execution_count": 22,
   "metadata": {},
   "outputs": [
    {
     "data": {
      "text/plain": [
       "(array([27., 15., 11.,  6.,  2.,  3.,  3.,  2.,  3.,  4.]),\n",
       " array([ 2. , 10.5, 19. , 27.5, 36. , 44.5, 53. , 61.5, 70. , 78.5, 87. ]),\n",
       " <BarContainer object of 10 artists>)"
      ]
     },
     "execution_count": 22,
     "metadata": {},
     "output_type": "execute_result"
    },
    {
     "data": {
      "image/png": "[encoded data removed]",
      "text/plain": [
       "<Figure size 640x480 with 1 Axes>"
      ]
     },
     "metadata": {},
     "output_type": "display_data"
    }
   ],
   "source": [
    "counts = df['group'].value_counts()\n",
    "plt.hist(counts)"
   ]
  },
  {
   "cell_type": "code",
   "execution_count": 26,
   "metadata": {},
   "outputs": [],
   "source": [
    "# Since the distribution is skewed, we separate the groups into four parts, and split each of them independently\n",
    "# into train, validation, and test sets.\n",
    "splits = [[], [], [], []]\n",
    "for group, count in counts.items():\n",
    "    if count <= 20:\n",
    "        splits[0].append(group)\n",
    "    elif count <= 40:\n",
    "        splits[1].append(group)\n",
    "    elif count <= 60:\n",
    "        splits[2].append(group)\n",
    "    else:\n",
    "        splits[3].append(group)"
   ]
  },
  {
   "cell_type": "code",
   "execution_count": 37,
   "metadata": {},
   "outputs": [],
   "source": [
    "train_groups = []\n",
    "val_groups = []\n",
    "test_groups = []\n",
    "\n",
    "for split in splits:\n",
    "    random.shuffle(split)\n",
    "    length = len(split)\n",
    "    train_length = int(length * (1 - val_ratio - test_ratio))\n",
    "    val_length = int(length * val_ratio)\n",
    "    test_length = int(length * test_ratio) \n",
    "\n",
    "    train = split[:train_length]\n",
    "    val = split[train_length:train_length + val_length]\n",
    "    test = split[train_length + val_length:]\n",
    "\n",
    "    train_groups.extend(train)\n",
    "    val_groups.extend(val)\n",
    "    test_groups.extend(test)"
   ]
  },
  {
   "cell_type": "code",
   "execution_count": 38,
   "metadata": {},
   "outputs": [
    {
     "data": {
      "text/plain": [
       "51"
      ]
     },
     "execution_count": 38,
     "metadata": {},
     "output_type": "execute_result"
    }
   ],
   "source": [
    "len(train_groups)"
   ]
  },
  {
   "cell_type": "code",
   "execution_count": 39,
   "metadata": {},
   "outputs": [
    {
     "data": {
      "text/plain": [
       "10"
      ]
     },
     "execution_count": 39,
     "metadata": {},
     "output_type": "execute_result"
    }
   ],
   "source": [
    "len(val_groups)"
   ]
  },
  {
   "cell_type": "code",
   "execution_count": 41,
   "metadata": {},
   "outputs": [],
   "source": [
    "def assign_split(group):\n",
    "    if group in train_groups:\n",
    "        return 'train'\n",
    "    elif group in val_groups:\n",
    "        return 'val'\n",
    "    elif group in test_groups:\n",
    "        return 'test'\n",
    "    else:\n",
    "        return 'error'\n",
    "\n",
    "df['type'] = df['group'].apply(assign_split)"
   ]
  },
  {
   "cell_type": "code",
   "execution_count": 44,
   "metadata": {},
   "outputs": [],
   "source": [
    "df.to_csv('data/acm_ccs_clean.csv', index=None)"
   ]
  },
  {
   "cell_type": "code",
   "execution_count": null,
   "metadata": {},
   "outputs": [],
   "source": []
  }
 ],
 "metadata": {
  "kernelspec": {
   "display_name": "Python 3 (ipykernel)",
   "language": "python",
   "name": "python3"
  },
  "language_info": {
   "codemirror_mode": {
    "name": "ipython",
    "version": 3
   },
   "file_extension": ".py",
   "mimetype": "text/x-python",
   "name": "python",
   "nbconvert_exporter": "python",
   "pygments_lexer": "ipython3",
   "version": "3.8.10"
  }
 },
 "nbformat": 4,
 "nbformat_minor": 4
}
