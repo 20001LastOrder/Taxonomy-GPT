{
 "cells": [
  {
   "cell_type": "code",
   "execution_count": 1,
   "metadata": {},
   "outputs": [],
   "source": [
    "import pandas as pd\n",
    "%load_ext autoreload\n",
    "%autoreload 2\n",
    "import torch\n",
    "from transformers import GPTNeoForSequenceClassification, GPTNeoForCausalLM, GPT2Tokenizer\n",
    "from model import GPTNeoForSequenceClassificationBinary\n",
    "import lightning.pytorch as pl\n",
    "from model import GPTSequenceClassifiationModule"
   ]
  },
  {
   "cell_type": "code",
   "execution_count": 139,
   "metadata": {
    "tags": []
   },
   "outputs": [
    {
     "name": "stdout",
     "output_type": "stream",
     "text": [
      "The autoreload extension is already loaded. To reload it, use:\n",
      "  %reload_ext autoreload\n"
     ]
    },
    {
     "name": "stderr",
     "output_type": "stream",
     "text": [
      "Some weights of GPTNeoForSequenceClassification were not initialized from the model checkpoint at EleutherAI/gpt-neo-1.3B and are newly initialized: ['score.weight', 'transformer.h.13.attn.attention.bias', 'transformer.h.7.attn.attention.bias', 'transformer.h.19.attn.attention.bias', 'transformer.h.3.attn.attention.bias', 'transformer.h.1.attn.attention.bias', 'transformer.h.21.attn.attention.bias', 'transformer.h.9.attn.attention.bias', 'transformer.h.5.attn.attention.bias', 'transformer.h.11.attn.attention.bias', 'transformer.h.17.attn.attention.bias', 'transformer.h.15.attn.attention.bias', 'transformer.h.23.attn.attention.bias']\n",
      "You should probably TRAIN this model on a down-stream task to be able to use it for predictions and inference.\n"
     ]
    },
    {
     "name": "stdout",
     "output_type": "stream",
     "text": [
      "trainable params: 1576962 || all params: 1317152770 || trainable%: 0.11972506423837229\n",
      "PeftModelForSequenceClassification(\n",
      "  (base_model): LoraModel(\n",
      "    (model): GPTNeoForSequenceClassification(\n",
      "      (transformer): GPTNeoModel(\n",
      "        (wte): Embedding(50257, 2048)\n",
      "        (wpe): Embedding(2048, 2048)\n",
      "        (drop): Dropout(p=0.0, inplace=False)\n",
      "        (h): ModuleList(\n",
      "          (0-23): 24 x GPTNeoBlock(\n",
      "            (ln_1): LayerNorm((2048,), eps=1e-05, elementwise_affine=True)\n",
      "            (attn): GPTNeoAttention(\n",
      "              (attention): GPTNeoSelfAttention(\n",
      "                (attn_dropout): Dropout(p=0.0, inplace=False)\n",
      "                (resid_dropout): Dropout(p=0.0, inplace=False)\n",
      "                (k_proj): Linear(in_features=2048, out_features=2048, bias=False)\n",
      "                (v_proj): Linear(\n",
      "                  in_features=2048, out_features=2048, bias=False\n",
      "                  (lora_dropout): ModuleDict(\n",
      "                    (default): Dropout(p=0.1, inplace=False)\n",
      "                  )\n",
      "                  (lora_A): ModuleDict(\n",
      "                    (default): Linear(in_features=2048, out_features=8, bias=False)\n",
      "                  )\n",
      "                  (lora_B): ModuleDict(\n",
      "                    (default): Linear(in_features=8, out_features=2048, bias=False)\n",
      "                  )\n",
      "                  (lora_embedding_A): ParameterDict()\n",
      "                  (lora_embedding_B): ParameterDict()\n",
      "                )\n",
      "                (q_proj): Linear(\n",
      "                  in_features=2048, out_features=2048, bias=False\n",
      "                  (lora_dropout): ModuleDict(\n",
      "                    (default): Dropout(p=0.1, inplace=False)\n",
      "                  )\n",
      "                  (lora_A): ModuleDict(\n",
      "                    (default): Linear(in_features=2048, out_features=8, bias=False)\n",
      "                  )\n",
      "                  (lora_B): ModuleDict(\n",
      "                    (default): Linear(in_features=8, out_features=2048, bias=False)\n",
      "                  )\n",
      "                  (lora_embedding_A): ParameterDict()\n",
      "                  (lora_embedding_B): ParameterDict()\n",
      "                )\n",
      "                (out_proj): Linear(in_features=2048, out_features=2048, bias=True)\n",
      "              )\n",
      "            )\n",
      "            (ln_2): LayerNorm((2048,), eps=1e-05, elementwise_affine=True)\n",
      "            (mlp): GPTNeoMLP(\n",
      "              (c_fc): Linear(in_features=2048, out_features=8192, bias=True)\n",
      "              (c_proj): Linear(in_features=8192, out_features=2048, bias=True)\n",
      "              (act): NewGELUActivation()\n",
      "              (dropout): Dropout(p=0.0, inplace=False)\n",
      "            )\n",
      "          )\n",
      "        )\n",
      "        (ln_f): LayerNorm((2048,), eps=1e-05, elementwise_affine=True)\n",
      "      )\n",
      "      (score): ModulesToSaveWrapper(\n",
      "        (original_module): Linear(in_features=2048, out_features=1, bias=True)\n",
      "        (modules_to_save): ModuleDict(\n",
      "          (default): Linear(in_features=2048, out_features=1, bias=True)\n",
      "        )\n",
      "      )\n",
      "    )\n",
      "  )\n",
      ")\n"
     ]
    }
   ],
   "source": [
    "\n",
    "\n",
    "test_name = 'data/wordnet_all_false_july4_test.csv' #'data/ccs_test.csv'\n",
    "actual_tree = 'data/bansal_wordnet_true_pairs.csv' #'data/acm_ccs_clean.csv'\n",
    "model_path = '/root/autodl-tmp/runs/lora_8.ckpt'\n",
    "save_path = 'results/wordnet/lora.csv'\n",
    "\n",
    "model = GPTSequenceClassifiationModule.load_from_checkpoint(model_path)\n",
    "tokenizer = GPT2Tokenizer.from_pretrained(\"EleutherAI/gpt-neo-1.3B\")"
   ]
  },
  {
   "cell_type": "code",
   "execution_count": 140,
   "metadata": {
    "tags": []
   },
   "outputs": [],
   "source": [
    "\n",
    "model=model.eval()\n",
    "model=model.cuda()"
   ]
  },
  {
   "cell_type": "code",
   "execution_count": 141,
   "metadata": {
    "tags": []
   },
   "outputs": [],
   "source": [
    "# test_name='/root/Taxonomy-GPT/data/wordnet_all_false_july4_test.csv'\n",
    "# actual_tree='/root/Taxonomy-GPT/data/bansal_wordnet_true_pairs.csv'\n",
    "# test_name='/root/Taxonomy-GPT/data/ccs_test.csv'\n",
    "# actual_tree='/root/Taxonomy-GPT/data/acm_ccs_clean.csv'"
   ]
  },
  {
   "cell_type": "code",
   "execution_count": 142,
   "metadata": {
    "tags": []
   },
   "outputs": [
    {
     "name": "stderr",
     "output_type": "stream",
     "text": [
      "Found cached dataset csv (/root/.cache/huggingface/datasets/csv/default-78e6d1eb18fc7984/0.0.0/eea64c71ca8b46dd3f537ed218fc9bf495d5707789152eb2764f5c78fa66d59d)\n",
      "Loading cached processed dataset at /root/.cache/huggingface/datasets/csv/default-78e6d1eb18fc7984/0.0.0/eea64c71ca8b46dd3f537ed218fc9bf495d5707789152eb2764f5c78fa66d59d/cache-efeade2dc67e1dd3.arrow\n"
     ]
    }
   ],
   "source": [
    "from dataset import get_taxonomy_dataset, get_taxonomy_dataset_binary\n",
    "dataset = get_taxonomy_dataset_binary(test_name, entire_dataset=True,remove_columns=True)"
   ]
  },
  {
   "cell_type": "code",
   "execution_count": 143,
   "metadata": {
    "tags": []
   },
   "outputs": [
    {
     "data": {
      "text/plain": [
       "{'test': Dataset({\n",
       "     features: ['flag', 'input_ids', 'labels'],\n",
       "     num_rows: 53968\n",
       " })}"
      ]
     },
     "execution_count": 143,
     "metadata": {},
     "output_type": "execute_result"
    }
   ],
   "source": [
    "dataset"
   ]
  },
  {
   "cell_type": "code",
   "execution_count": 144,
   "metadata": {
    "tags": []
   },
   "outputs": [],
   "source": [
    "def format_dataset(example,tokenizer):\n",
    "    prompt_template = \"I am doing the taxonomy research. I think {child} is a subtopic of {parent}\"\n",
    "    prompt = prompt_template.format(child=example['child'], parent=example['parent'])\n",
    "    example['input_ids'] = tokenizer.encode(prompt)\n",
    "    return example\n",
    "\n",
    "def test_dataloader(str_path,batch_size):\n",
    "    dataset= get_taxonomy_dataset_binary(str_path,entire_dataset=True)\n",
    "    dataset = dataset['test']\n",
    "    dataset = dataset.map(lambda example: format_dataset(example,tokenizer))\n",
    "    dataset = dataset.remove_columns(['child', 'parent', 'group'])\n",
    "\n",
    "    return torch.utils.data.DataLoader(\n",
    "        dataset,\n",
    "        batch_size=batch_size,\n",
    "        collate_fn=DataCollatorWithPadding(tokenizer),\n",
    "        num_workers=4,\n",
    "    )"
   ]
  },
  {
   "cell_type": "code",
   "execution_count": 145,
   "metadata": {
    "tags": []
   },
   "outputs": [
    {
     "name": "stderr",
     "output_type": "stream",
     "text": [
      "Found cached dataset csv (/root/.cache/huggingface/datasets/csv/default-78e6d1eb18fc7984/0.0.0/eea64c71ca8b46dd3f537ed218fc9bf495d5707789152eb2764f5c78fa66d59d)\n",
      "Loading cached processed dataset at /root/.cache/huggingface/datasets/csv/default-78e6d1eb18fc7984/0.0.0/eea64c71ca8b46dd3f537ed218fc9bf495d5707789152eb2764f5c78fa66d59d/cache-efeade2dc67e1dd3.arrow\n",
      "Loading cached processed dataset at /root/.cache/huggingface/datasets/csv/default-78e6d1eb18fc7984/0.0.0/eea64c71ca8b46dd3f537ed218fc9bf495d5707789152eb2764f5c78fa66d59d/cache-67b183b76ee90bd1.arrow\n"
     ]
    },
    {
     "data": {
      "application/vnd.jupyter.widget-view+json": {
       "model_id": "29faf54800a94ec797e060de006c108d",
       "version_major": 2,
       "version_minor": 0
      },
      "text/plain": [
       "  0%|          | 0/844 [00:00<?, ?it/s]"
      ]
     },
     "metadata": {},
     "output_type": "display_data"
    }
   ],
   "source": [
    "from torch.utils.data import DataLoader\n",
    "from transformers.data.data_collator import DataCollatorWithPadding\n",
    "from tqdm.notebook import tqdm\n",
    "import torch \n",
    "\n",
    "results = []\n",
    "tokenizer.pad_token = tokenizer.eos_token\n",
    "data_collator = DataCollatorWithPadding(tokenizer)\n",
    "\n",
    "testdataloader = test_dataloader(test_name, 64)\n",
    "with torch.no_grad():\n",
    "    for step, batch in enumerate(tqdm(testdataloader)):\n",
    "        batch = batch.to('cuda')\n",
    "        output = model(batch['input_ids'], batch['attention_mask'])\n",
    "        predicted_labels = torch.sigmoid(output)\n",
    "        results.extend(predicted_labels.cpu().detach().numpy().tolist())"
   ]
  },
  {
   "cell_type": "code",
   "execution_count": 146,
   "metadata": {
    "tags": []
   },
   "outputs": [],
   "source": [
    "import pandas as pd\n",
    "df = pd.read_csv(test_name)\n",
    "df['predict'] = results\n",
    "df['pred_flag']=[True if i>0.5 else False for i in df['predict']]"
   ]
  },
  {
   "cell_type": "code",
   "execution_count": 147,
   "metadata": {
    "tags": []
   },
   "outputs": [],
   "source": [
    "df.to_csv(save_path, index=False)"
   ]
  },
  {
   "cell_type": "code",
   "execution_count": 148,
   "metadata": {
    "tags": []
   },
   "outputs": [
    {
     "name": "stdout",
     "output_type": "stream",
     "text": [
      "0.639635335965705\n",
      "0.6056394770396241\n",
      "0.7610640290182216\n",
      "0.9004780610732286\n"
     ]
    }
   ],
   "source": [
    "from sklearn.metrics import accuracy_score, f1_score, precision_score, recall_score, classification_report, confusion_matrix\n",
    "y_test=df['flag']\n",
    "y_pred=df['pred_flag']\n",
    "print(f1_score(y_test, y_pred, average=\"macro\"))\n",
    "print(precision_score(y_test, y_pred, average=\"macro\"))\n",
    "print(recall_score(y_test, y_pred, average=\"macro\"))\n",
    "print(accuracy_score(y_test, y_pred))"
   ]
  },
  {
   "cell_type": "code",
   "execution_count": 149,
   "metadata": {
    "tags": []
   },
   "outputs": [
    {
     "name": "stdout",
     "output_type": "stream",
     "text": [
      "              precision    recall  f1-score   support\n",
      "\n",
      "       False       0.98      0.91      0.95     51767\n",
      "        True       0.23      0.61      0.33      2201\n",
      "\n",
      "    accuracy                           0.90     53968\n",
      "   macro avg       0.61      0.76      0.64     53968\n",
      "weighted avg       0.95      0.90      0.92     53968\n",
      "\n"
     ]
    }
   ],
   "source": [
    "print(classification_report(y_test, y_pred))"
   ]
  },
  {
   "cell_type": "markdown",
   "metadata": {},
   "source": [
    "## Post processing"
   ]
  },
  {
   "cell_type": "code",
   "execution_count": 240,
   "metadata": {},
   "outputs": [],
   "source": [
    "from utils import (\n",
    "    convert_to_ancestor_graph, \n",
    "    maximum_absorbance, \n",
    "    dataframe_to_ancestor_graph, \n",
    "    evaluate_groups,\n",
    "    maximum_likelihood\n",
    ")\n",
    "\n",
    "from tqdm import tqdm\n"
   ]
  },
  {
   "cell_type": "code",
   "execution_count": 289,
   "metadata": {
    "tags": []
   },
   "outputs": [],
   "source": [
    "save_path = 'results/ccs/finetune.csv' # 'results/wordnet/lora.csv'\n",
    "actual_tree = 'data/acm_ccs_clean.csv' # 'data/bansal_wordnet_true_pairs.csv'\n",
    "post_process = maximum_likelihood # maximum_likelihood maximum_absorbance\n",
    "\n",
    "df_t = pd.read_csv(save_path)"
   ]
  },
  {
   "cell_type": "code",
   "execution_count": 290,
   "metadata": {},
   "outputs": [],
   "source": [
    "df_t['predict'] = np.log(df_t['predict'])"
   ]
  },
  {
   "cell_type": "code",
   "execution_count": 291,
   "metadata": {},
   "outputs": [
    {
     "data": {
      "text/plain": [
       "0       -0.323099\n",
       "1       -0.463524\n",
       "2       -0.245057\n",
       "3       -0.326255\n",
       "4       -0.279465\n",
       "           ...   \n",
       "21795   -0.058393\n",
       "21796   -0.059638\n",
       "21797   -0.188928\n",
       "21798   -0.062616\n",
       "21799   -0.109479\n",
       "Name: predict, Length: 21800, dtype: float64"
      ]
     },
     "execution_count": 291,
     "metadata": {},
     "output_type": "execute_result"
    }
   ],
   "source": [
    "df_t['predict']"
   ]
  },
  {
   "cell_type": "code",
   "execution_count": 292,
   "metadata": {
    "tags": []
   },
   "outputs": [
    {
     "name": "stderr",
     "output_type": "stream",
     "text": [
      "  0%|          | 0/15 [00:00<?, ?it/s]100%|██████████| 15/15 [00:00<00:00, 217.39it/s]\n"
     ]
    }
   ],
   "source": [
    "forest=[]\n",
    "for g in tqdm(list(set(df_t.group))):\n",
    "    df = post_process(df_t, g)\n",
    "    forest.append(df)"
   ]
  },
  {
   "cell_type": "code",
   "execution_count": 293,
   "metadata": {
    "tags": []
   },
   "outputs": [],
   "source": [
    "res_v2=pd.concat(forest, ignore_index=True)\n"
   ]
  },
  {
   "cell_type": "code",
   "execution_count": 294,
   "metadata": {
    "tags": []
   },
   "outputs": [
    {
     "data": {
      "text/html": [
       "<div>\n",
       "<style scoped>\n",
       "    .dataframe tbody tr th:only-of-type {\n",
       "        vertical-align: middle;\n",
       "    }\n",
       "\n",
       "    .dataframe tbody tr th {\n",
       "        vertical-align: top;\n",
       "    }\n",
       "\n",
       "    .dataframe thead th {\n",
       "        text-align: right;\n",
       "    }\n",
       "</style>\n",
       "<table border=\"1\" class=\"dataframe\">\n",
       "  <thead>\n",
       "    <tr style=\"text-align: right;\">\n",
       "      <th></th>\n",
       "      <th>parent</th>\n",
       "      <th>child</th>\n",
       "      <th>group</th>\n",
       "      <th>compare</th>\n",
       "    </tr>\n",
       "  </thead>\n",
       "  <tbody>\n",
       "    <tr>\n",
       "      <th>0</th>\n",
       "      <td>Time series analysis</td>\n",
       "      <td>Bayesian nonparametric models</td>\n",
       "      <td>10002950_2</td>\n",
       "      <td>Time series analysisBayesian nonparametric mod...</td>\n",
       "    </tr>\n",
       "    <tr>\n",
       "      <th>1</th>\n",
       "      <td>Time series analysis</td>\n",
       "      <td>Quantile regression</td>\n",
       "      <td>10002950_2</td>\n",
       "      <td>Time series analysisQuantile regression10002950_2</td>\n",
       "    </tr>\n",
       "    <tr>\n",
       "      <th>2</th>\n",
       "      <td>Time series analysis</td>\n",
       "      <td>Simulated annealing</td>\n",
       "      <td>10002950_2</td>\n",
       "      <td>Time series analysisSimulated annealing10002950_2</td>\n",
       "    </tr>\n",
       "    <tr>\n",
       "      <th>3</th>\n",
       "      <td>Time series analysis</td>\n",
       "      <td>Markov-chain Monte Carlo convergence measures</td>\n",
       "      <td>10002950_2</td>\n",
       "      <td>Time series analysisMarkov-chain Monte Carlo c...</td>\n",
       "    </tr>\n",
       "    <tr>\n",
       "      <th>4</th>\n",
       "      <td>Time series analysis</td>\n",
       "      <td>Causal networks</td>\n",
       "      <td>10002950_2</td>\n",
       "      <td>Time series analysisCausal networks10002950_2</td>\n",
       "    </tr>\n",
       "    <tr>\n",
       "      <th>...</th>\n",
       "      <td>...</td>\n",
       "      <td>...</td>\n",
       "      <td>...</td>\n",
       "      <td>...</td>\n",
       "    </tr>\n",
       "    <tr>\n",
       "      <th>5060</th>\n",
       "      <td>Security services</td>\n",
       "      <td>Access control</td>\n",
       "      <td>10002978_3</td>\n",
       "      <td>Security servicesAccess control10002978_3</td>\n",
       "    </tr>\n",
       "    <tr>\n",
       "      <th>5061</th>\n",
       "      <td>Security services</td>\n",
       "      <td>Graphical / visual passwords</td>\n",
       "      <td>10002978_3</td>\n",
       "      <td>Security servicesGraphical / visual passwords1...</td>\n",
       "    </tr>\n",
       "    <tr>\n",
       "      <th>5062</th>\n",
       "      <td>Security services</td>\n",
       "      <td>Digital rights management</td>\n",
       "      <td>10002978_3</td>\n",
       "      <td>Security servicesDigital rights management1000...</td>\n",
       "    </tr>\n",
       "    <tr>\n",
       "      <th>5063</th>\n",
       "      <td>Authentication</td>\n",
       "      <td>Authorization</td>\n",
       "      <td>10002978_3</td>\n",
       "      <td>AuthenticationAuthorization10002978_3</td>\n",
       "    </tr>\n",
       "    <tr>\n",
       "      <th>5064</th>\n",
       "      <td>Authentication</td>\n",
       "      <td>Multi-factor authentication</td>\n",
       "      <td>10002978_3</td>\n",
       "      <td>AuthenticationMulti-factor authentication10002...</td>\n",
       "    </tr>\n",
       "  </tbody>\n",
       "</table>\n",
       "<p>5065 rows × 4 columns</p>\n",
       "</div>"
      ],
      "text/plain": [
       "                    parent                                          child  \\\n",
       "0     Time series analysis                  Bayesian nonparametric models   \n",
       "1     Time series analysis                            Quantile regression   \n",
       "2     Time series analysis                            Simulated annealing   \n",
       "3     Time series analysis  Markov-chain Monte Carlo convergence measures   \n",
       "4     Time series analysis                                Causal networks   \n",
       "...                    ...                                            ...   \n",
       "5060     Security services                                 Access control   \n",
       "5061     Security services                   Graphical / visual passwords   \n",
       "5062     Security services                      Digital rights management   \n",
       "5063        Authentication                                  Authorization   \n",
       "5064        Authentication                    Multi-factor authentication   \n",
       "\n",
       "           group                                            compare  \n",
       "0     10002950_2  Time series analysisBayesian nonparametric mod...  \n",
       "1     10002950_2  Time series analysisQuantile regression10002950_2  \n",
       "2     10002950_2  Time series analysisSimulated annealing10002950_2  \n",
       "3     10002950_2  Time series analysisMarkov-chain Monte Carlo c...  \n",
       "4     10002950_2      Time series analysisCausal networks10002950_2  \n",
       "...          ...                                                ...  \n",
       "5060  10002978_3          Security servicesAccess control10002978_3  \n",
       "5061  10002978_3  Security servicesGraphical / visual passwords1...  \n",
       "5062  10002978_3  Security servicesDigital rights management1000...  \n",
       "5063  10002978_3              AuthenticationAuthorization10002978_3  \n",
       "5064  10002978_3  AuthenticationMulti-factor authentication10002...  \n",
       "\n",
       "[5065 rows x 4 columns]"
      ]
     },
     "execution_count": 294,
     "metadata": {},
     "output_type": "execute_result"
    }
   ],
   "source": [
    "res_v2"
   ]
  },
  {
   "cell_type": "code",
   "execution_count": 295,
   "metadata": {
    "tags": []
   },
   "outputs": [
    {
     "data": {
      "text/plain": [
       "10010147_3     2094\n",
       "10002951_5     1346\n",
       "10002950_2      442\n",
       "10010583_10     361\n",
       "10010147_5      241\n",
       "10010405_4      223\n",
       "10010583_2      182\n",
       "10003120_3       82\n",
       "10003456_2       55\n",
       "10002978_9       15\n",
       "10002978_3       11\n",
       "10002950_5        7\n",
       "10010583_8        4\n",
       "10010583_7        2\n",
       "Name: group, dtype: int64"
      ]
     },
     "execution_count": 295,
     "metadata": {},
     "output_type": "execute_result"
    }
   ],
   "source": [
    "res_v2['group'].value_counts()"
   ]
  },
  {
   "cell_type": "code",
   "execution_count": 296,
   "metadata": {
    "tags": []
   },
   "outputs": [],
   "source": [
    "df_actual=pd.read_csv(actual_tree)\n",
    "df_actual=df_actual[df_actual['type'] == 'test']\n",
    "df_actual['compare']=df_actual['parent']+df_actual['child']+df_actual['group'].astype(str)"
   ]
  },
  {
   "cell_type": "code",
   "execution_count": 297,
   "metadata": {},
   "outputs": [
    {
     "data": {
      "text/plain": [
       "23      10002950_2\n",
       "24      10002950_2\n",
       "25      10002950_2\n",
       "26      10002950_2\n",
       "27      10002950_2\n",
       "           ...    \n",
       "1838    10003120_3\n",
       "1839    10003120_3\n",
       "1840    10003120_3\n",
       "1841    10003120_3\n",
       "1842    10003120_3\n",
       "Name: group, Length: 442, dtype: object"
      ]
     },
     "execution_count": 297,
     "metadata": {},
     "output_type": "execute_result"
    }
   ],
   "source": [
    "df_actual.group"
   ]
  },
  {
   "cell_type": "code",
   "execution_count": 298,
   "metadata": {
    "tags": []
   },
   "outputs": [
    {
     "name": "stderr",
     "output_type": "stream",
     "text": [
      "100%|██████████| 15/15 [00:00<00:00, 937.29it/s]\n"
     ]
    },
    {
     "data": {
      "text/plain": [
       "10010147_3     186\n",
       "10002951_5     145\n",
       "10002950_2     110\n",
       "10003456_2      98\n",
       "10010147_5      55\n",
       "10010583_10     51\n",
       "10003120_3      45\n",
       "10010405_4      35\n",
       "10010583_7      33\n",
       "10010583_2      25\n",
       "10010583_8      15\n",
       "10002950_5      15\n",
       "10002978_3      12\n",
       "10002978_9       5\n",
       "10002950_3       3\n",
       "Name: group, dtype: int64"
      ]
     },
     "execution_count": 298,
     "metadata": {},
     "output_type": "execute_result"
    }
   ],
   "source": [
    "df_actual = dataframe_to_ancestor_graph(df_actual)\n",
    "df_actual['group'].value_counts()"
   ]
  },
  {
   "cell_type": "code",
   "execution_count": 299,
   "metadata": {
    "tags": []
   },
   "outputs": [
    {
     "data": {
      "text/html": [
       "<div>\n",
       "<style scoped>\n",
       "    .dataframe tbody tr th:only-of-type {\n",
       "        vertical-align: middle;\n",
       "    }\n",
       "\n",
       "    .dataframe tbody tr th {\n",
       "        vertical-align: top;\n",
       "    }\n",
       "\n",
       "    .dataframe thead th {\n",
       "        text-align: right;\n",
       "    }\n",
       "</style>\n",
       "<table border=\"1\" class=\"dataframe\">\n",
       "  <thead>\n",
       "    <tr style=\"text-align: right;\">\n",
       "      <th></th>\n",
       "      <th>parent</th>\n",
       "      <th>child</th>\n",
       "      <th>group</th>\n",
       "      <th>compare</th>\n",
       "    </tr>\n",
       "  </thead>\n",
       "  <tbody>\n",
       "    <tr>\n",
       "      <th>110</th>\n",
       "      <td>Artificial intelligence</td>\n",
       "      <td>Matching</td>\n",
       "      <td>10010147_3</td>\n",
       "      <td>Artificial intelligenceMatching10010147_3</td>\n",
       "    </tr>\n",
       "    <tr>\n",
       "      <th>111</th>\n",
       "      <td>Artificial intelligence</td>\n",
       "      <td>Probabilistic reasoning</td>\n",
       "      <td>10010147_3</td>\n",
       "      <td>Artificial intelligenceProbabilistic reasoning...</td>\n",
       "    </tr>\n",
       "    <tr>\n",
       "      <th>112</th>\n",
       "      <td>Artificial intelligence</td>\n",
       "      <td>Computer vision</td>\n",
       "      <td>10010147_3</td>\n",
       "      <td>Artificial intelligenceComputer vision10010147_3</td>\n",
       "    </tr>\n",
       "    <tr>\n",
       "      <th>113</th>\n",
       "      <td>Artificial intelligence</td>\n",
       "      <td>Object identification</td>\n",
       "      <td>10010147_3</td>\n",
       "      <td>Artificial intelligenceObject identification10...</td>\n",
       "    </tr>\n",
       "    <tr>\n",
       "      <th>114</th>\n",
       "      <td>Artificial intelligence</td>\n",
       "      <td>Biometrics</td>\n",
       "      <td>10010147_3</td>\n",
       "      <td>Artificial intelligenceBiometrics10010147_3</td>\n",
       "    </tr>\n",
       "    <tr>\n",
       "      <th>...</th>\n",
       "      <td>...</td>\n",
       "      <td>...</td>\n",
       "      <td>...</td>\n",
       "      <td>...</td>\n",
       "    </tr>\n",
       "    <tr>\n",
       "      <th>291</th>\n",
       "      <td>Control methods</td>\n",
       "      <td>Computational control theory</td>\n",
       "      <td>10010147_3</td>\n",
       "      <td>Control methodsComputational control theory100...</td>\n",
       "    </tr>\n",
       "    <tr>\n",
       "      <th>292</th>\n",
       "      <td>Computer vision representations</td>\n",
       "      <td>Shape representations</td>\n",
       "      <td>10010147_3</td>\n",
       "      <td>Computer vision representationsShape represent...</td>\n",
       "    </tr>\n",
       "    <tr>\n",
       "      <th>293</th>\n",
       "      <td>Computer vision representations</td>\n",
       "      <td>Appearance and texture representations</td>\n",
       "      <td>10010147_3</td>\n",
       "      <td>Computer vision representationsAppearance and ...</td>\n",
       "    </tr>\n",
       "    <tr>\n",
       "      <th>294</th>\n",
       "      <td>Computer vision representations</td>\n",
       "      <td>Hierarchical representations</td>\n",
       "      <td>10010147_3</td>\n",
       "      <td>Computer vision representationsHierarchical re...</td>\n",
       "    </tr>\n",
       "    <tr>\n",
       "      <th>295</th>\n",
       "      <td>Computer vision representations</td>\n",
       "      <td>Image representations</td>\n",
       "      <td>10010147_3</td>\n",
       "      <td>Computer vision representationsImage represent...</td>\n",
       "    </tr>\n",
       "  </tbody>\n",
       "</table>\n",
       "<p>186 rows × 4 columns</p>\n",
       "</div>"
      ],
      "text/plain": [
       "                              parent                                   child  \\\n",
       "110          Artificial intelligence                                Matching   \n",
       "111          Artificial intelligence                 Probabilistic reasoning   \n",
       "112          Artificial intelligence                         Computer vision   \n",
       "113          Artificial intelligence                   Object identification   \n",
       "114          Artificial intelligence                              Biometrics   \n",
       "..                               ...                                     ...   \n",
       "291                  Control methods            Computational control theory   \n",
       "292  Computer vision representations                   Shape representations   \n",
       "293  Computer vision representations  Appearance and texture representations   \n",
       "294  Computer vision representations            Hierarchical representations   \n",
       "295  Computer vision representations                   Image representations   \n",
       "\n",
       "          group                                            compare  \n",
       "110  10010147_3          Artificial intelligenceMatching10010147_3  \n",
       "111  10010147_3  Artificial intelligenceProbabilistic reasoning...  \n",
       "112  10010147_3   Artificial intelligenceComputer vision10010147_3  \n",
       "113  10010147_3  Artificial intelligenceObject identification10...  \n",
       "114  10010147_3        Artificial intelligenceBiometrics10010147_3  \n",
       "..          ...                                                ...  \n",
       "291  10010147_3  Control methodsComputational control theory100...  \n",
       "292  10010147_3  Computer vision representationsShape represent...  \n",
       "293  10010147_3  Computer vision representationsAppearance and ...  \n",
       "294  10010147_3  Computer vision representationsHierarchical re...  \n",
       "295  10010147_3  Computer vision representationsImage represent...  \n",
       "\n",
       "[186 rows x 4 columns]"
      ]
     },
     "execution_count": 299,
     "metadata": {},
     "output_type": "execute_result"
    }
   ],
   "source": [
    "df_actual[df_actual.group=='10010147_3']"
   ]
  },
  {
   "cell_type": "code",
   "execution_count": 300,
   "metadata": {
    "tags": []
   },
   "outputs": [
    {
     "data": {
      "text/html": [
       "<div>\n",
       "<style scoped>\n",
       "    .dataframe tbody tr th:only-of-type {\n",
       "        vertical-align: middle;\n",
       "    }\n",
       "\n",
       "    .dataframe tbody tr th {\n",
       "        vertical-align: top;\n",
       "    }\n",
       "\n",
       "    .dataframe thead th {\n",
       "        text-align: right;\n",
       "    }\n",
       "</style>\n",
       "<table border=\"1\" class=\"dataframe\">\n",
       "  <thead>\n",
       "    <tr style=\"text-align: right;\">\n",
       "      <th></th>\n",
       "      <th>parent</th>\n",
       "      <th>child</th>\n",
       "      <th>group</th>\n",
       "      <th>compare</th>\n",
       "    </tr>\n",
       "  </thead>\n",
       "  <tbody>\n",
       "    <tr>\n",
       "      <th>442</th>\n",
       "      <td>Computer vision tasks</td>\n",
       "      <td>Matching</td>\n",
       "      <td>10010147_3</td>\n",
       "      <td>Computer vision tasksMatching10010147_3</td>\n",
       "    </tr>\n",
       "    <tr>\n",
       "      <th>443</th>\n",
       "      <td>Computer vision tasks</td>\n",
       "      <td>Probabilistic reasoning</td>\n",
       "      <td>10010147_3</td>\n",
       "      <td>Computer vision tasksProbabilistic reasoning10...</td>\n",
       "    </tr>\n",
       "    <tr>\n",
       "      <th>444</th>\n",
       "      <td>Computer vision tasks</td>\n",
       "      <td>Artificial intelligence</td>\n",
       "      <td>10010147_3</td>\n",
       "      <td>Computer vision tasksArtificial intelligence10...</td>\n",
       "    </tr>\n",
       "    <tr>\n",
       "      <th>445</th>\n",
       "      <td>Computer vision tasks</td>\n",
       "      <td>Computer vision</td>\n",
       "      <td>10010147_3</td>\n",
       "      <td>Computer vision tasksComputer vision10010147_3</td>\n",
       "    </tr>\n",
       "    <tr>\n",
       "      <th>446</th>\n",
       "      <td>Computer vision tasks</td>\n",
       "      <td>Object identification</td>\n",
       "      <td>10010147_3</td>\n",
       "      <td>Computer vision tasksObject identification1001...</td>\n",
       "    </tr>\n",
       "    <tr>\n",
       "      <th>...</th>\n",
       "      <td>...</td>\n",
       "      <td>...</td>\n",
       "      <td>...</td>\n",
       "      <td>...</td>\n",
       "    </tr>\n",
       "    <tr>\n",
       "      <th>2531</th>\n",
       "      <td>Computational control theory</td>\n",
       "      <td>Abstraction and micro-operators</td>\n",
       "      <td>10010147_3</td>\n",
       "      <td>Computational control theoryAbstraction and mi...</td>\n",
       "    </tr>\n",
       "    <tr>\n",
       "      <th>2532</th>\n",
       "      <td>Computational control theory</td>\n",
       "      <td>Control methods</td>\n",
       "      <td>10010147_3</td>\n",
       "      <td>Computational control theoryControl methods100...</td>\n",
       "    </tr>\n",
       "    <tr>\n",
       "      <th>2533</th>\n",
       "      <td>Computational control theory</td>\n",
       "      <td>Robotic planning</td>\n",
       "      <td>10010147_3</td>\n",
       "      <td>Computational control theoryRobotic planning10...</td>\n",
       "    </tr>\n",
       "    <tr>\n",
       "      <th>2534</th>\n",
       "      <td>Object detection</td>\n",
       "      <td>Object recognition</td>\n",
       "      <td>10010147_3</td>\n",
       "      <td>Object detectionObject recognition10010147_3</td>\n",
       "    </tr>\n",
       "    <tr>\n",
       "      <th>2535</th>\n",
       "      <td>Object recognition</td>\n",
       "      <td>Object detection</td>\n",
       "      <td>10010147_3</td>\n",
       "      <td>Object recognitionObject detection10010147_3</td>\n",
       "    </tr>\n",
       "  </tbody>\n",
       "</table>\n",
       "<p>2094 rows × 4 columns</p>\n",
       "</div>"
      ],
      "text/plain": [
       "                            parent                            child  \\\n",
       "442          Computer vision tasks                         Matching   \n",
       "443          Computer vision tasks          Probabilistic reasoning   \n",
       "444          Computer vision tasks          Artificial intelligence   \n",
       "445          Computer vision tasks                  Computer vision   \n",
       "446          Computer vision tasks            Object identification   \n",
       "...                            ...                              ...   \n",
       "2531  Computational control theory  Abstraction and micro-operators   \n",
       "2532  Computational control theory                  Control methods   \n",
       "2533  Computational control theory                 Robotic planning   \n",
       "2534              Object detection               Object recognition   \n",
       "2535            Object recognition                 Object detection   \n",
       "\n",
       "           group                                            compare  \n",
       "442   10010147_3            Computer vision tasksMatching10010147_3  \n",
       "443   10010147_3  Computer vision tasksProbabilistic reasoning10...  \n",
       "444   10010147_3  Computer vision tasksArtificial intelligence10...  \n",
       "445   10010147_3     Computer vision tasksComputer vision10010147_3  \n",
       "446   10010147_3  Computer vision tasksObject identification1001...  \n",
       "...          ...                                                ...  \n",
       "2531  10010147_3  Computational control theoryAbstraction and mi...  \n",
       "2532  10010147_3  Computational control theoryControl methods100...  \n",
       "2533  10010147_3  Computational control theoryRobotic planning10...  \n",
       "2534  10010147_3       Object detectionObject recognition10010147_3  \n",
       "2535  10010147_3       Object recognitionObject detection10010147_3  \n",
       "\n",
       "[2094 rows x 4 columns]"
      ]
     },
     "execution_count": 300,
     "metadata": {},
     "output_type": "execute_result"
    }
   ],
   "source": [
    "res_v2[res_v2.group=='10010147_3']"
   ]
  },
  {
   "cell_type": "code",
   "execution_count": 301,
   "metadata": {},
   "outputs": [
    {
     "name": "stderr",
     "output_type": "stream",
     "text": [
      "100%|██████████| 15/15 [00:00<00:00, 732.46it/s]\n"
     ]
    }
   ],
   "source": [
    "recall, precision, f1 = evaluate_groups(df_actual, res_v2)"
   ]
  },
  {
   "cell_type": "code",
   "execution_count": 302,
   "metadata": {},
   "outputs": [
    {
     "data": {
      "text/plain": [
       "0.5545976766455171"
      ]
     },
     "execution_count": 302,
     "metadata": {},
     "output_type": "execute_result"
    }
   ],
   "source": [
    "recall"
   ]
  },
  {
   "cell_type": "code",
   "execution_count": 303,
   "metadata": {},
   "outputs": [
    {
     "data": {
      "text/plain": [
       "0.2623150088461571"
      ]
     },
     "execution_count": 303,
     "metadata": {},
     "output_type": "execute_result"
    }
   ],
   "source": [
    "precision"
   ]
  },
  {
   "cell_type": "code",
   "execution_count": 304,
   "metadata": {},
   "outputs": [
    {
     "data": {
      "text/plain": [
       "0.2651459080063267"
      ]
     },
     "execution_count": 304,
     "metadata": {},
     "output_type": "execute_result"
    }
   ],
   "source": [
    "f1"
   ]
  },
  {
   "cell_type": "code",
   "execution_count": 188,
   "metadata": {
    "tags": []
   },
   "outputs": [],
   "source": [
    "df_common = pd.merge(df_actual, res_v2, on=['compare'], how='inner')"
   ]
  },
  {
   "cell_type": "code",
   "execution_count": 189,
   "metadata": {
    "tags": []
   },
   "outputs": [
    {
     "data": {
      "text/plain": [
       "0.40734309104440586"
      ]
     },
     "execution_count": 189,
     "metadata": {},
     "output_type": "execute_result"
    }
   ],
   "source": [
    "len(df_common)/len(df_actual)"
   ]
  },
  {
   "cell_type": "code",
   "execution_count": 190,
   "metadata": {
    "tags": []
   },
   "outputs": [
    {
     "data": {
      "text/plain": [
       "0.559836345039209"
      ]
     },
     "execution_count": 190,
     "metadata": {},
     "output_type": "execute_result"
    }
   ],
   "source": [
    "len(df_common)/len(res_v2)"
   ]
  },
  {
   "cell_type": "code",
   "execution_count": 89,
   "metadata": {
    "tags": []
   },
   "outputs": [
    {
     "name": "stderr",
     "output_type": "stream",
     "text": [
      "  0%|          | 0/114 [00:00<?, ?it/s]100%|██████████| 114/114 [00:00<00:00, 475.12it/s]\n"
     ]
    }
   ],
   "source": [
    "recall = []\n",
    "precision = []\n",
    "f1 = []\n",
    "for group in tqdm(list(set(df_actual.group))):\n",
    "    group_actual = df_actual[df_actual.group == group]\n",
    "    group_pred = res_v2[res_v2.group == group]\n",
    "    recall.append(len(group_actual.merge(group_pred, on='compare')) / len(group_actual))\n",
    "    precision.append(len(group_actual.merge(group_pred, on='compare')) / len(group_pred))\n",
    "    if precision[-1] + recall[-1] == 0:\n",
    "        f1.append(0)\n",
    "    else:\n",
    "        f1.append(2 * (precision[-1] * recall[-1]) / (precision[-1] + recall[-1]))"
   ]
  },
  {
   "cell_type": "code",
   "execution_count": 82,
   "metadata": {
    "tags": []
   },
   "outputs": [
    {
     "data": {
      "text/plain": [
       "0.5121387919282124"
      ]
     },
     "execution_count": 82,
     "metadata": {},
     "output_type": "execute_result"
    }
   ],
   "source": [
    "import numpy as np\n",
    "np.mean(recall)"
   ]
  },
  {
   "cell_type": "code",
   "execution_count": 83,
   "metadata": {
    "tags": []
   },
   "outputs": [
    {
     "data": {
      "text/plain": [
       "0.6256533225972404"
      ]
     },
     "execution_count": 83,
     "metadata": {},
     "output_type": "execute_result"
    }
   ],
   "source": [
    "np.mean(precision)"
   ]
  },
  {
   "cell_type": "code",
   "execution_count": 84,
   "metadata": {
    "tags": []
   },
   "outputs": [
    {
     "data": {
      "text/plain": [
       "0.550320877862728"
      ]
     },
     "execution_count": 84,
     "metadata": {},
     "output_type": "execute_result"
    }
   ],
   "source": [
    "np.mean(f1)"
   ]
  },
  {
   "cell_type": "code",
   "execution_count": null,
   "metadata": {},
   "outputs": [],
   "source": []
  }
 ],
 "metadata": {
  "kernelspec": {
   "display_name": "Python 3",
   "language": "python",
   "name": "python3"
  },
  "language_info": {
   "codemirror_mode": {
    "name": "ipython",
    "version": 3
   },
   "file_extension": ".py",
   "mimetype": "text/x-python",
   "name": "python",
   "nbconvert_exporter": "python",
   "pygments_lexer": "ipython3",
   "version": "3.7.4"
  }
 },
 "nbformat": 4,
 "nbformat_minor": 5
}
