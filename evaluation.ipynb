{
 "cells": [
  {
   "cell_type": "code",
   "execution_count": 2,
   "id": "5558b9a2-f57a-48e8-8019-231067759e32",
   "metadata": {},
   "outputs": [
    {
     "name": "stderr",
     "output_type": "stream",
     "text": [
      "Some weights of GPTNeoForSequenceClassification were not initialized from the model checkpoint at EleutherAI/gpt-neo-1.3B and are newly initialized: ['transformer.h.21.attn.attention.bias', 'transformer.h.17.attn.attention.bias', 'transformer.h.23.attn.attention.bias', 'transformer.h.3.attn.attention.bias', 'transformer.h.15.attn.attention.bias', 'transformer.h.19.attn.attention.bias', 'transformer.h.11.attn.attention.bias', 'score.weight', 'transformer.h.5.attn.attention.bias', 'transformer.h.7.attn.attention.bias', 'transformer.h.13.attn.attention.bias', 'transformer.h.9.attn.attention.bias', 'transformer.h.1.attn.attention.bias']\n",
      "You should probably TRAIN this model on a down-stream task to be able to use it for predictions and inference.\n"
     ]
    },
    {
     "name": "stdout",
     "output_type": "stream",
     "text": [
      "Changing layer  23\n",
      "Changing layer  22\n",
      "Changing layer  21\n",
      "Changing layer  20\n"
     ]
    }
   ],
   "source": [
    "import pandas as pd\n",
    "%load_ext autoreload\n",
    "%autoreload 2\n",
    "import torch\n",
    "from transformers import GPTNeoForSequenceClassification, GPTNeoForCausalLM, GPT2Tokenizer\n",
    "from model import GPTNeoForSequenceClassificationBinary\n",
    "import lightning.pytorch as pl\n",
    "from model import GPTSequenceClassifiationModule\n",
    "model = GPTSequenceClassifiationModule.load_from_checkpoint(\"/root/autodl-tmp/runs/wordnet.ckpt\")\n",
    "tokenizer = GPT2Tokenizer.from_pretrained(\"EleutherAI/gpt-neo-1.3B\")"
   ]
  },
  {
   "cell_type": "code",
   "execution_count": 6,
   "id": "812ecc6f-25f8-432b-be56-5185f0506832",
   "metadata": {
    "tags": []
   },
   "outputs": [],
   "source": [
    "model=model.eval()\n",
    "model=model.cuda()"
   ]
  },
  {
   "cell_type": "code",
   "execution_count": 10,
   "id": "2c3b2a80",
   "metadata": {},
   "outputs": [],
   "source": [
    "test_name='/root/Taxonomy-GPT/data/wordnet_flase_all_test.csv'\n",
    "actual_tree='/root/Taxonomy-GPT/data/bansal_wordnet_true_pairs.csv'"
   ]
  },
  {
   "cell_type": "code",
   "execution_count": 11,
   "id": "eadbc954-5449-4585-bd4b-34089b924bc3",
   "metadata": {},
   "outputs": [
    {
     "name": "stdout",
     "output_type": "stream",
     "text": [
      "Downloading and preparing dataset csv/default to /root/.cache/huggingface/datasets/csv/default-b8869f2337fd4bd7/0.0.0/eea64c71ca8b46dd3f537ed218fc9bf495d5707789152eb2764f5c78fa66d59d...\n"
     ]
    },
    {
     "data": {
      "application/vnd.jupyter.widget-view+json": {
       "model_id": "8676263b292a4368913d3b7942ee35b6",
       "version_major": 2,
       "version_minor": 0
      },
      "text/plain": [
       "Downloading data files:   0%|          | 0/1 [00:00<?, ?it/s]"
      ]
     },
     "metadata": {},
     "output_type": "display_data"
    },
    {
     "data": {
      "application/vnd.jupyter.widget-view+json": {
       "model_id": "3ce6f4ecaee2475d9b5efbae8d9ed1be",
       "version_major": 2,
       "version_minor": 0
      },
      "text/plain": [
       "Extracting data files:   0%|          | 0/1 [00:00<?, ?it/s]"
      ]
     },
     "metadata": {},
     "output_type": "display_data"
    },
    {
     "data": {
      "application/vnd.jupyter.widget-view+json": {
       "model_id": "d21d3901faba400391ae70d5f6ca07a0",
       "version_major": 2,
       "version_minor": 0
      },
      "text/plain": [
       "Generating train split: 0 examples [00:00, ? examples/s]"
      ]
     },
     "metadata": {},
     "output_type": "display_data"
    },
    {
     "name": "stdout",
     "output_type": "stream",
     "text": [
      "Dataset csv downloaded and prepared to /root/.cache/huggingface/datasets/csv/default-b8869f2337fd4bd7/0.0.0/eea64c71ca8b46dd3f537ed218fc9bf495d5707789152eb2764f5c78fa66d59d. Subsequent calls will reuse this data.\n"
     ]
    },
    {
     "data": {
      "application/vnd.jupyter.widget-view+json": {
       "model_id": "a7a7006235ef4888ba4940ac768f0917",
       "version_major": 2,
       "version_minor": 0
      },
      "text/plain": [
       "Map:   0%|          | 0/17331 [00:00<?, ? examples/s]"
      ]
     },
     "metadata": {},
     "output_type": "display_data"
    }
   ],
   "source": [
    "from dataset import get_taxonomy_dataset, get_taxonomy_dataset_binary\n",
    "dataset = get_taxonomy_dataset_binary(test_name, entire_dataset=True,remove_columns=True)"
   ]
  },
  {
   "cell_type": "code",
   "execution_count": 12,
   "id": "7cd59f06-9b2f-4bf6-913d-5b6565daf4a7",
   "metadata": {},
   "outputs": [
    {
     "data": {
      "text/plain": [
       "{'test': Dataset({\n",
       "     features: ['flag', 'input_ids', 'labels'],\n",
       "     num_rows: 17331\n",
       " })}"
      ]
     },
     "execution_count": 12,
     "metadata": {},
     "output_type": "execute_result"
    }
   ],
   "source": [
    "dataset"
   ]
  },
  {
   "cell_type": "code",
   "execution_count": 13,
   "id": "eaffe6cf-76fe-4af8-ab60-49b3dbdd29d8",
   "metadata": {},
   "outputs": [],
   "source": [
    "def format_dataset(example,tokenizer):\n",
    "    prompt_template = \"I am doing the taxonomy research. I think {child} is a subtopic of {parent}\"\n",
    "    prompt = prompt_template.format(child=example['child'], parent=example['parent'])\n",
    "    example['input_ids'] = tokenizer.encode(prompt)\n",
    "    return example\n",
    "def test_dataloader(str_path,batch_size):\n",
    "    dataset= get_taxonomy_dataset_binary(str_path,entire_dataset=True)\n",
    "    dataset = dataset['test']\n",
    "    dataset = dataset.map(lambda example: format_dataset(example,tokenizer))\n",
    "    dataset = dataset.remove_columns(['child', 'parent', 'group'])\n",
    "\n",
    "    return torch.utils.data.DataLoader(\n",
    "        dataset,\n",
    "        batch_size=batch_size,\n",
    "        collate_fn=DataCollatorWithPadding(tokenizer),\n",
    "        num_workers=4,\n",
    "    )"
   ]
  },
  {
   "cell_type": "code",
   "execution_count": 14,
   "id": "610f19f2-1d4c-4c89-876e-73102509d29b",
   "metadata": {},
   "outputs": [
    {
     "name": "stderr",
     "output_type": "stream",
     "text": [
      "Found cached dataset csv (/root/.cache/huggingface/datasets/csv/default-b8869f2337fd4bd7/0.0.0/eea64c71ca8b46dd3f537ed218fc9bf495d5707789152eb2764f5c78fa66d59d)\n",
      "Loading cached processed dataset at /root/.cache/huggingface/datasets/csv/default-b8869f2337fd4bd7/0.0.0/eea64c71ca8b46dd3f537ed218fc9bf495d5707789152eb2764f5c78fa66d59d/cache-57a547d2c57c5c6c.arrow\n"
     ]
    },
    {
     "data": {
      "application/vnd.jupyter.widget-view+json": {
       "model_id": "43d1684847644aa5820e3bab2c61e368",
       "version_major": 2,
       "version_minor": 0
      },
      "text/plain": [
       "Map:   0%|          | 0/17331 [00:00<?, ? examples/s]"
      ]
     },
     "metadata": {},
     "output_type": "display_data"
    },
    {
     "data": {
      "application/vnd.jupyter.widget-view+json": {
       "model_id": "7c7b21273ad8467583ba6eed9595d498",
       "version_major": 2,
       "version_minor": 0
      },
      "text/plain": [
       "  0%|          | 0/271 [00:00<?, ?it/s]"
      ]
     },
     "metadata": {},
     "output_type": "display_data"
    },
    {
     "name": "stdout",
     "output_type": "stream",
     "text": [
      "huggingface/tokenizers: The current process just got forked, after parallelism has already been used. Disabling parallelism to avoid deadlocks...\n",
      "To disable this warning, you can either:\n",
      "\t- Avoid using `tokenizers` before the fork if possible\n",
      "\t- Explicitly set the environment variable TOKENIZERS_PARALLELISM=(true | false)\n",
      "huggingface/tokenizers: The current process just got forked, after parallelism has already been used. Disabling parallelism to avoid deadlocks...\n",
      "To disable this warning, you can either:\n",
      "\t- Avoid using `tokenizers` before the fork if possible\n",
      "\t- Explicitly set the environment variable TOKENIZERS_PARALLELISM=(true | false)\n",
      "huggingface/tokenizers: The current process just got forked, after parallelism has already been used. Disabling parallelism to avoid deadlocks...\n",
      "To disable this warning, you can either:\n",
      "\t- Avoid using `tokenizers` before the fork if possible\n",
      "\t- Explicitly set the environment variable TOKENIZERS_PARALLELISM=(true | false)\n",
      "huggingface/tokenizers: The current process just got forked, after parallelism has already been used. Disabling parallelism to avoid deadlocks...\n",
      "To disable this warning, you can either:\n",
      "\t- Avoid using `tokenizers` before the fork if possible\n",
      "\t- Explicitly set the environment variable TOKENIZERS_PARALLELISM=(true | false)\n",
      "huggingface/tokenizers: The current process just got forked, after parallelism has already been used. Disabling parallelism to avoid deadlocks...\n",
      "To disable this warning, you can either:\n",
      "\t- Avoid using `tokenizers` before the fork if possible\n",
      "\t- Explicitly set the environment variable TOKENIZERS_PARALLELISM=(true | false)\n",
      "huggingface/tokenizers: The current process just got forked, after parallelism has already been used. Disabling parallelism to avoid deadlocks...\n",
      "To disable this warning, you can either:\n",
      "\t- Avoid using `tokenizers` before the fork if possible\n",
      "\t- Explicitly set the environment variable TOKENIZERS_PARALLELISM=(true | false)\n"
     ]
    }
   ],
   "source": [
    "from torch.utils.data import DataLoader\n",
    "from transformers.data.data_collator import DataCollatorWithPadding\n",
    "from tqdm.notebook import tqdm\n",
    "import torch \n",
    "\n",
    "results = []\n",
    "tokenizer.pad_token = tokenizer.eos_token\n",
    "data_collator = DataCollatorWithPadding(tokenizer)\n",
    "\n",
    "testdataloader = test_dataloader(test_name, 64)\n",
    "with torch.no_grad():\n",
    "    for step, batch in enumerate(tqdm(testdataloader)):\n",
    "        batch = batch.to('cuda')\n",
    "        output = model(batch['input_ids'], batch['attention_mask'])\n",
    "        predicted_labels = torch.sigmoid(output)\n",
    "        results.extend(predicted_labels.cpu().detach().numpy().tolist())"
   ]
  },
  {
   "cell_type": "code",
   "execution_count": 30,
   "id": "84f2bd49-6192-4f1b-a60b-899a2469380f",
   "metadata": {},
   "outputs": [],
   "source": [
    "\n",
    "import pandas as pd\n",
    "df = pd.read_csv(test_name)\n",
    "df['predict'] = results\n",
    "df['pred_flag']=[True if i>0.5 else False for i in df['predict']]"
   ]
  },
  {
   "cell_type": "code",
   "execution_count": 31,
   "id": "2d52d0e8-0b4e-4b97-b35a-35e51ffa2258",
   "metadata": {},
   "outputs": [],
   "source": [
    "df.to_csv('/notebooks/test_all_res_jun_21.csv', index=False)"
   ]
  },
  {
   "cell_type": "code",
   "execution_count": 32,
   "id": "ee92ee0e-b8a9-4647-8a74-1faff2fb6aeb",
   "metadata": {},
   "outputs": [
    {
     "name": "stdout",
     "output_type": "stream",
     "text": [
      "0.4581522588713459\n",
      "0.5\n",
      "0.42276844959898446\n",
      "0.8455368991979689\n"
     ]
    },
    {
     "name": "stderr",
     "output_type": "stream",
     "text": [
      "/root/miniconda3/lib/python3.8/site-packages/sklearn/metrics/_classification.py:1344: UndefinedMetricWarning: Recall is ill-defined and being set to 0.0 in labels with no true samples. Use `zero_division` parameter to control this behavior.\n",
      "  _warn_prf(average, modifier, msg_start, len(result))\n"
     ]
    }
   ],
   "source": [
    "from sklearn.metrics import accuracy_score, f1_score, precision_score, recall_score, classification_report, confusion_matrix\n",
    "y_test=df['flag']\n",
    "y_pred=df['pred_flag']\n",
    "print(f1_score(y_test, y_pred, average=\"macro\"))\n",
    "print(precision_score(y_test, y_pred, average=\"macro\"))\n",
    "print(recall_score(y_test, y_pred, average=\"macro\"))\n",
    "print(accuracy_score(y_test, y_pred))"
   ]
  },
  {
   "attachments": {},
   "cell_type": "markdown",
   "id": "6e238dff",
   "metadata": {},
   "source": [
    "maximum spanning tree"
   ]
  },
  {
   "cell_type": "code",
   "execution_count": 33,
   "id": "793f8f04",
   "metadata": {},
   "outputs": [
    {
     "data": {
      "text/html": [
       "<div>\n",
       "<style scoped>\n",
       "    .dataframe tbody tr th:only-of-type {\n",
       "        vertical-align: middle;\n",
       "    }\n",
       "\n",
       "    .dataframe tbody tr th {\n",
       "        vertical-align: top;\n",
       "    }\n",
       "\n",
       "    .dataframe thead th {\n",
       "        text-align: right;\n",
       "    }\n",
       "</style>\n",
       "<table border=\"1\" class=\"dataframe\">\n",
       "  <thead>\n",
       "    <tr style=\"text-align: right;\">\n",
       "      <th></th>\n",
       "      <th>parent</th>\n",
       "      <th>child</th>\n",
       "      <th>group</th>\n",
       "      <th>flag</th>\n",
       "      <th>predict</th>\n",
       "      <th>pred_flag</th>\n",
       "    </tr>\n",
       "  </thead>\n",
       "  <tbody>\n",
       "    <tr>\n",
       "      <th>0</th>\n",
       "      <td>blast</td>\n",
       "      <td>airburst</td>\n",
       "      <td>647</td>\n",
       "      <td>False</td>\n",
       "      <td>0.714626</td>\n",
       "      <td>True</td>\n",
       "    </tr>\n",
       "    <tr>\n",
       "      <th>1</th>\n",
       "      <td>blast</td>\n",
       "      <td>big_bang</td>\n",
       "      <td>647</td>\n",
       "      <td>False</td>\n",
       "      <td>0.635304</td>\n",
       "      <td>True</td>\n",
       "    </tr>\n",
       "    <tr>\n",
       "      <th>2</th>\n",
       "      <td>blast</td>\n",
       "      <td>backfire</td>\n",
       "      <td>647</td>\n",
       "      <td>False</td>\n",
       "      <td>0.204883</td>\n",
       "      <td>False</td>\n",
       "    </tr>\n",
       "    <tr>\n",
       "      <th>3</th>\n",
       "      <td>blast</td>\n",
       "      <td>inflation</td>\n",
       "      <td>647</td>\n",
       "      <td>False</td>\n",
       "      <td>0.105706</td>\n",
       "      <td>False</td>\n",
       "    </tr>\n",
       "    <tr>\n",
       "      <th>4</th>\n",
       "      <td>blast</td>\n",
       "      <td>fragmentation</td>\n",
       "      <td>647</td>\n",
       "      <td>False</td>\n",
       "      <td>0.182145</td>\n",
       "      <td>False</td>\n",
       "    </tr>\n",
       "    <tr>\n",
       "      <th>...</th>\n",
       "      <td>...</td>\n",
       "      <td>...</td>\n",
       "      <td>...</td>\n",
       "      <td>...</td>\n",
       "      <td>...</td>\n",
       "      <td>...</td>\n",
       "    </tr>\n",
       "    <tr>\n",
       "      <th>17326</th>\n",
       "      <td>alpha-linolenic_acid</td>\n",
       "      <td>eicosapentaenoic_acid</td>\n",
       "      <td>760</td>\n",
       "      <td>False</td>\n",
       "      <td>0.145877</td>\n",
       "      <td>False</td>\n",
       "    </tr>\n",
       "    <tr>\n",
       "      <th>17327</th>\n",
       "      <td>alpha-linolenic_acid</td>\n",
       "      <td>ricinoleic_acid</td>\n",
       "      <td>760</td>\n",
       "      <td>False</td>\n",
       "      <td>0.132844</td>\n",
       "      <td>False</td>\n",
       "    </tr>\n",
       "    <tr>\n",
       "      <th>17328</th>\n",
       "      <td>alpha-linolenic_acid</td>\n",
       "      <td>monounsaturated_fatty_acid</td>\n",
       "      <td>760</td>\n",
       "      <td>False</td>\n",
       "      <td>0.064017</td>\n",
       "      <td>False</td>\n",
       "    </tr>\n",
       "    <tr>\n",
       "      <th>17329</th>\n",
       "      <td>alpha-linolenic_acid</td>\n",
       "      <td>elaidic_acid</td>\n",
       "      <td>760</td>\n",
       "      <td>False</td>\n",
       "      <td>0.140639</td>\n",
       "      <td>False</td>\n",
       "    </tr>\n",
       "    <tr>\n",
       "      <th>17330</th>\n",
       "      <td>alpha-linolenic_acid</td>\n",
       "      <td>linolenic_acid</td>\n",
       "      <td>760</td>\n",
       "      <td>False</td>\n",
       "      <td>0.180675</td>\n",
       "      <td>False</td>\n",
       "    </tr>\n",
       "  </tbody>\n",
       "</table>\n",
       "<p>17331 rows × 6 columns</p>\n",
       "</div>"
      ],
      "text/plain": [
       "                     parent                       child  group   flag  \\\n",
       "0                     blast                    airburst    647  False   \n",
       "1                     blast                    big_bang    647  False   \n",
       "2                     blast                    backfire    647  False   \n",
       "3                     blast                   inflation    647  False   \n",
       "4                     blast               fragmentation    647  False   \n",
       "...                     ...                         ...    ...    ...   \n",
       "17326  alpha-linolenic_acid       eicosapentaenoic_acid    760  False   \n",
       "17327  alpha-linolenic_acid             ricinoleic_acid    760  False   \n",
       "17328  alpha-linolenic_acid  monounsaturated_fatty_acid    760  False   \n",
       "17329  alpha-linolenic_acid                elaidic_acid    760  False   \n",
       "17330  alpha-linolenic_acid              linolenic_acid    760  False   \n",
       "\n",
       "        predict  pred_flag  \n",
       "0      0.714626       True  \n",
       "1      0.635304       True  \n",
       "2      0.204883      False  \n",
       "3      0.105706      False  \n",
       "4      0.182145      False  \n",
       "...         ...        ...  \n",
       "17326  0.145877      False  \n",
       "17327  0.132844      False  \n",
       "17328  0.064017      False  \n",
       "17329  0.140639      False  \n",
       "17330  0.180675      False  \n",
       "\n",
       "[17331 rows x 6 columns]"
      ]
     },
     "execution_count": 33,
     "metadata": {},
     "output_type": "execute_result"
    }
   ],
   "source": [
    "df"
   ]
  },
  {
   "cell_type": "code",
   "execution_count": 34,
   "id": "b664b6c5",
   "metadata": {},
   "outputs": [],
   "source": [
    "df_t=df"
   ]
  },
  {
   "cell_type": "code",
   "execution_count": 40,
   "id": "c8559710-0b31-4e13-aed5-1485ba6b5583",
   "metadata": {},
   "outputs": [
    {
     "name": "stdout",
     "output_type": "stream",
     "text": [
      "{'airburst', 'nuclear_explosion', 'bomb_blast', 'fragmentation', 'backfire', 'blowback', 'blast', 'inflation', 'big_bang', 'backblast'}\n",
      "10\n",
      "647\n"
     ]
    },
    {
     "ename": "NetworkXNotImplemented",
     "evalue": "not implemented for directed type",
     "output_type": "error",
     "traceback": [
      "\u001b[0;31m---------------------------------------------------------------------------\u001b[0m",
      "\u001b[0;31mNetworkXNotImplemented\u001b[0m                    Traceback (most recent call last)",
      "\u001b[1;32m/root/Taxonomy-GPT/evaluation.ipynb Cell 14\u001b[0m in \u001b[0;36m<cell line: 4>\u001b[0;34m()\u001b[0m\n\u001b[1;32m     <a href='vscode-notebook-cell://ssh-remote%2Bregion-3.seetacloud.com/root/Taxonomy-GPT/evaluation.ipynb#X14sdnNjb2RlLXJlbW90ZQ%3D%3D?line=15'>16</a>\u001b[0m \u001b[39mfor\u001b[39;00m i \u001b[39min\u001b[39;00m \u001b[39mrange\u001b[39m(\u001b[39mlen\u001b[39m(parents)):\n\u001b[1;32m     <a href='vscode-notebook-cell://ssh-remote%2Bregion-3.seetacloud.com/root/Taxonomy-GPT/evaluation.ipynb#X14sdnNjb2RlLXJlbW90ZQ%3D%3D?line=16'>17</a>\u001b[0m     graph\u001b[39m.\u001b[39madd_edge(parents[i], children[i], weight\u001b[39m=\u001b[39mprobabilities[i])\n\u001b[0;32m---> <a href='vscode-notebook-cell://ssh-remote%2Bregion-3.seetacloud.com/root/Taxonomy-GPT/evaluation.ipynb#X14sdnNjb2RlLXJlbW90ZQ%3D%3D?line=17'>18</a>\u001b[0m \u001b[39mprint\u001b[39m(nx\u001b[39m.\u001b[39;49mis_connected(graph))\n\u001b[1;32m     <a href='vscode-notebook-cell://ssh-remote%2Bregion-3.seetacloud.com/root/Taxonomy-GPT/evaluation.ipynb#X14sdnNjb2RlLXJlbW90ZQ%3D%3D?line=18'>19</a>\u001b[0m T\u001b[39m=\u001b[39mnx\u001b[39m.\u001b[39mmaximum_spanning_arborescence(graph)\n\u001b[1;32m     <a href='vscode-notebook-cell://ssh-remote%2Bregion-3.seetacloud.com/root/Taxonomy-GPT/evaluation.ipynb#X14sdnNjb2RlLXJlbW90ZQ%3D%3D?line=19'>20</a>\u001b[0m df\u001b[39m=\u001b[39mnx\u001b[39m.\u001b[39mto_pandas_edgelist(T)\n",
      "File \u001b[0;32m~/miniconda3/lib/python3.8/site-packages/networkx/classes/backends.py:148\u001b[0m, in \u001b[0;36m_dispatch.<locals>.wrapper\u001b[0;34m(*args, **kwds)\u001b[0m\n\u001b[1;32m    144\u001b[0m         \u001b[39melse\u001b[39;00m:\n\u001b[1;32m    145\u001b[0m             \u001b[39mraise\u001b[39;00m NetworkXNotImplemented(\n\u001b[1;32m    146\u001b[0m                 \u001b[39mf\u001b[39m\u001b[39m\"\u001b[39m\u001b[39m'\u001b[39m\u001b[39m{\u001b[39;00mname\u001b[39m}\u001b[39;00m\u001b[39m'\u001b[39m\u001b[39m not implemented by \u001b[39m\u001b[39m{\u001b[39;00mplugin_name\u001b[39m}\u001b[39;00m\u001b[39m\"\u001b[39m\n\u001b[1;32m    147\u001b[0m             )\n\u001b[0;32m--> 148\u001b[0m \u001b[39mreturn\u001b[39;00m func(\u001b[39m*\u001b[39;49margs, \u001b[39m*\u001b[39;49m\u001b[39m*\u001b[39;49mkwds)\n",
      "File \u001b[0;32m<class 'networkx.utils.decorators.argmap'> compilation 24:3\u001b[0m, in \u001b[0;36margmap_is_connected_21\u001b[0;34m(G)\u001b[0m\n\u001b[1;32m      1\u001b[0m \u001b[39mimport\u001b[39;00m \u001b[39mbz2\u001b[39;00m\n\u001b[1;32m      2\u001b[0m \u001b[39mimport\u001b[39;00m \u001b[39mcollections\u001b[39;00m\n\u001b[0;32m----> 3\u001b[0m \u001b[39mimport\u001b[39;00m \u001b[39mgzip\u001b[39;00m\n\u001b[1;32m      4\u001b[0m \u001b[39mimport\u001b[39;00m \u001b[39minspect\u001b[39;00m\n\u001b[1;32m      5\u001b[0m \u001b[39mimport\u001b[39;00m \u001b[39mitertools\u001b[39;00m\n",
      "File \u001b[0;32m~/miniconda3/lib/python3.8/site-packages/networkx/utils/decorators.py:86\u001b[0m, in \u001b[0;36mnot_implemented_for.<locals>._not_implemented_for\u001b[0;34m(g)\u001b[0m\n\u001b[1;32m     82\u001b[0m \u001b[39mdef\u001b[39;00m \u001b[39m_not_implemented_for\u001b[39m(g):\n\u001b[1;32m     83\u001b[0m     \u001b[39mif\u001b[39;00m (mval \u001b[39mis\u001b[39;00m \u001b[39mNone\u001b[39;00m \u001b[39mor\u001b[39;00m mval \u001b[39m==\u001b[39m g\u001b[39m.\u001b[39mis_multigraph()) \u001b[39mand\u001b[39;00m (\n\u001b[1;32m     84\u001b[0m         dval \u001b[39mis\u001b[39;00m \u001b[39mNone\u001b[39;00m \u001b[39mor\u001b[39;00m dval \u001b[39m==\u001b[39m g\u001b[39m.\u001b[39mis_directed()\n\u001b[1;32m     85\u001b[0m     ):\n\u001b[0;32m---> 86\u001b[0m         \u001b[39mraise\u001b[39;00m nx\u001b[39m.\u001b[39mNetworkXNotImplemented(errmsg)\n\u001b[1;32m     88\u001b[0m     \u001b[39mreturn\u001b[39;00m g\n",
      "\u001b[0;31mNetworkXNotImplemented\u001b[0m: not implemented for directed type"
     ]
    }
   ],
   "source": [
    "import networkx as nx\n",
    "\n",
    "forest=[]\n",
    "for g in set(list(df_t.group)):\n",
    "    df_tree=df_t[df_t.group==g]\n",
    "    graph = nx.DiGraph()\n",
    "    parents=df_tree['parent'].tolist()\n",
    "    children=df_tree['child'].tolist()\n",
    "    probabilities=df_tree['predict'].tolist()\n",
    "    nodes = set(parents + children)\n",
    "    print(nodes)\n",
    "    print(len(nodes))\n",
    "    print(g)\n",
    "    for node in nodes:\n",
    "        graph.add_node(node)\n",
    "    for i in range(len(parents)):\n",
    "        graph.add_edge(parents[i], children[i], weight=probabilities[i])\n",
    "    # print(nx.is_connected(graph))\n",
    "    T=nx.maximum_spanning_arborescence(graph)\n",
    "    df=nx.to_pandas_edgelist(T)\n",
    "    df['group']=g\n",
    "    forest.append(df)"
   ]
  },
  {
   "cell_type": "code",
   "execution_count": 12,
   "id": "7a30cee8-b62e-4cd8-bb1f-10045d3bc9ea",
   "metadata": {},
   "outputs": [],
   "source": [
    "res_v2=pd.concat(forest, ignore_index=True)"
   ]
  },
  {
   "cell_type": "code",
   "execution_count": 13,
   "id": "e09ccffd",
   "metadata": {},
   "outputs": [
    {
     "data": {
      "text/html": [
       "<div>\n",
       "<style scoped>\n",
       "    .dataframe tbody tr th:only-of-type {\n",
       "        vertical-align: middle;\n",
       "    }\n",
       "\n",
       "    .dataframe tbody tr th {\n",
       "        vertical-align: top;\n",
       "    }\n",
       "\n",
       "    .dataframe thead th {\n",
       "        text-align: right;\n",
       "    }\n",
       "</style>\n",
       "<table border=\"1\" class=\"dataframe\">\n",
       "  <thead>\n",
       "    <tr style=\"text-align: right;\">\n",
       "      <th></th>\n",
       "      <th>source</th>\n",
       "      <th>target</th>\n",
       "      <th>weight</th>\n",
       "      <th>group</th>\n",
       "    </tr>\n",
       "  </thead>\n",
       "  <tbody>\n",
       "    <tr>\n",
       "      <th>0</th>\n",
       "      <td>explosion</td>\n",
       "      <td>airburst</td>\n",
       "      <td>0.963787</td>\n",
       "      <td>647</td>\n",
       "    </tr>\n",
       "    <tr>\n",
       "      <th>1</th>\n",
       "      <td>explosion</td>\n",
       "      <td>blowback</td>\n",
       "      <td>0.692026</td>\n",
       "      <td>647</td>\n",
       "    </tr>\n",
       "    <tr>\n",
       "      <th>2</th>\n",
       "      <td>explosion</td>\n",
       "      <td>big_bang</td>\n",
       "      <td>0.915881</td>\n",
       "      <td>647</td>\n",
       "    </tr>\n",
       "    <tr>\n",
       "      <th>3</th>\n",
       "      <td>explosion</td>\n",
       "      <td>inflation</td>\n",
       "      <td>0.717169</td>\n",
       "      <td>647</td>\n",
       "    </tr>\n",
       "    <tr>\n",
       "      <th>4</th>\n",
       "      <td>explosion</td>\n",
       "      <td>blast</td>\n",
       "      <td>0.863965</td>\n",
       "      <td>647</td>\n",
       "    </tr>\n",
       "    <tr>\n",
       "      <th>...</th>\n",
       "      <td>...</td>\n",
       "      <td>...</td>\n",
       "      <td>...</td>\n",
       "      <td>...</td>\n",
       "    </tr>\n",
       "    <tr>\n",
       "      <th>2221</th>\n",
       "      <td>omega-6_fatty_acid</td>\n",
       "      <td>linolenic_acid</td>\n",
       "      <td>0.546980</td>\n",
       "      <td>760</td>\n",
       "    </tr>\n",
       "    <tr>\n",
       "      <th>2222</th>\n",
       "      <td>omega-3_fatty_acid</td>\n",
       "      <td>eicosapentaenoic_acid</td>\n",
       "      <td>0.584579</td>\n",
       "      <td>760</td>\n",
       "    </tr>\n",
       "    <tr>\n",
       "      <th>2223</th>\n",
       "      <td>omega-3_fatty_acid</td>\n",
       "      <td>alpha-linolenic_acid</td>\n",
       "      <td>0.522469</td>\n",
       "      <td>760</td>\n",
       "    </tr>\n",
       "    <tr>\n",
       "      <th>2224</th>\n",
       "      <td>monounsaturated_fatty_acid</td>\n",
       "      <td>elaidic_acid</td>\n",
       "      <td>0.837551</td>\n",
       "      <td>760</td>\n",
       "    </tr>\n",
       "    <tr>\n",
       "      <th>2225</th>\n",
       "      <td>monounsaturated_fatty_acid</td>\n",
       "      <td>oleic_acid</td>\n",
       "      <td>0.779340</td>\n",
       "      <td>760</td>\n",
       "    </tr>\n",
       "  </tbody>\n",
       "</table>\n",
       "<p>2226 rows × 4 columns</p>\n",
       "</div>"
      ],
      "text/plain": [
       "                          source                 target    weight  group\n",
       "0                      explosion               airburst  0.963787    647\n",
       "1                      explosion               blowback  0.692026    647\n",
       "2                      explosion               big_bang  0.915881    647\n",
       "3                      explosion              inflation  0.717169    647\n",
       "4                      explosion                  blast  0.863965    647\n",
       "...                          ...                    ...       ...    ...\n",
       "2221          omega-6_fatty_acid         linolenic_acid  0.546980    760\n",
       "2222          omega-3_fatty_acid  eicosapentaenoic_acid  0.584579    760\n",
       "2223          omega-3_fatty_acid   alpha-linolenic_acid  0.522469    760\n",
       "2224  monounsaturated_fatty_acid           elaidic_acid  0.837551    760\n",
       "2225  monounsaturated_fatty_acid             oleic_acid  0.779340    760\n",
       "\n",
       "[2226 rows x 4 columns]"
      ]
     },
     "execution_count": 13,
     "metadata": {},
     "output_type": "execute_result"
    }
   ],
   "source": [
    "res_v2"
   ]
  },
  {
   "cell_type": "code",
   "execution_count": 14,
   "id": "d1dc3f75-c1d6-4b3c-8664-6993acfbd367",
   "metadata": {},
   "outputs": [
    {
     "data": {
      "text/plain": [
       "group\n",
       "677    45\n",
       "666    39\n",
       "702    39\n",
       "697    38\n",
       "712    37\n",
       "       ..\n",
       "744    10\n",
       "648    10\n",
       "738    10\n",
       "737    10\n",
       "647    10\n",
       "Name: count, Length: 114, dtype: int64"
      ]
     },
     "execution_count": 14,
     "metadata": {},
     "output_type": "execute_result"
    }
   ],
   "source": [
    "res_v2.columns=['parent','child','weight','group']\n",
    "res_v2['compare']=res_v2['parent']+res_v2['child']+res_v2['group'].astype(str)\n",
    "res_v2['group'].value_counts()"
   ]
  },
  {
   "cell_type": "code",
   "execution_count": 15,
   "id": "aa3f2688-5afb-4d8f-898f-98a8e16475e9",
   "metadata": {},
   "outputs": [],
   "source": [
    "df_actual=pd.read_csv(actual_tree)\n",
    "df_actual=df_actual[df_actual['group']>= 647]\n",
    "df_actual['compare']=df_actual['parent']+df_actual['child']+df_actual['group'].astype(str)"
   ]
  },
  {
   "cell_type": "code",
   "execution_count": 16,
   "id": "3f53dae4",
   "metadata": {},
   "outputs": [
    {
     "data": {
      "text/html": [
       "<div>\n",
       "<style scoped>\n",
       "    .dataframe tbody tr th:only-of-type {\n",
       "        vertical-align: middle;\n",
       "    }\n",
       "\n",
       "    .dataframe tbody tr th {\n",
       "        vertical-align: top;\n",
       "    }\n",
       "\n",
       "    .dataframe thead th {\n",
       "        text-align: right;\n",
       "    }\n",
       "</style>\n",
       "<table border=\"1\" class=\"dataframe\">\n",
       "  <thead>\n",
       "    <tr style=\"text-align: right;\">\n",
       "      <th></th>\n",
       "      <th>parent</th>\n",
       "      <th>child</th>\n",
       "      <th>group</th>\n",
       "      <th>type</th>\n",
       "      <th>compare</th>\n",
       "    </tr>\n",
       "  </thead>\n",
       "  <tbody>\n",
       "    <tr>\n",
       "      <th>12646</th>\n",
       "      <td>explosion</td>\n",
       "      <td>airburst</td>\n",
       "      <td>647</td>\n",
       "      <td>test</td>\n",
       "      <td>explosionairburst647</td>\n",
       "    </tr>\n",
       "    <tr>\n",
       "      <th>12647</th>\n",
       "      <td>explosion</td>\n",
       "      <td>blowback</td>\n",
       "      <td>647</td>\n",
       "      <td>test</td>\n",
       "      <td>explosionblowback647</td>\n",
       "    </tr>\n",
       "    <tr>\n",
       "      <th>12648</th>\n",
       "      <td>explosion</td>\n",
       "      <td>big_bang</td>\n",
       "      <td>647</td>\n",
       "      <td>test</td>\n",
       "      <td>explosionbig_bang647</td>\n",
       "    </tr>\n",
       "    <tr>\n",
       "      <th>12649</th>\n",
       "      <td>explosion</td>\n",
       "      <td>inflation</td>\n",
       "      <td>647</td>\n",
       "      <td>test</td>\n",
       "      <td>explosioninflation647</td>\n",
       "    </tr>\n",
       "    <tr>\n",
       "      <th>12650</th>\n",
       "      <td>explosion</td>\n",
       "      <td>blast</td>\n",
       "      <td>647</td>\n",
       "      <td>test</td>\n",
       "      <td>explosionblast647</td>\n",
       "    </tr>\n",
       "    <tr>\n",
       "      <th>...</th>\n",
       "      <td>...</td>\n",
       "      <td>...</td>\n",
       "      <td>...</td>\n",
       "      <td>...</td>\n",
       "      <td>...</td>\n",
       "    </tr>\n",
       "    <tr>\n",
       "      <th>14867</th>\n",
       "      <td>polyunsaturated_fatty_acid</td>\n",
       "      <td>omega-6_fatty_acid</td>\n",
       "      <td>760</td>\n",
       "      <td>test</td>\n",
       "      <td>polyunsaturated_fatty_acidomega-6_fatty_acid760</td>\n",
       "    </tr>\n",
       "    <tr>\n",
       "      <th>14868</th>\n",
       "      <td>omega-3_fatty_acid</td>\n",
       "      <td>docosahexaenoic_acid</td>\n",
       "      <td>760</td>\n",
       "      <td>test</td>\n",
       "      <td>omega-3_fatty_aciddocosahexaenoic_acid760</td>\n",
       "    </tr>\n",
       "    <tr>\n",
       "      <th>14869</th>\n",
       "      <td>omega-3_fatty_acid</td>\n",
       "      <td>eicosapentaenoic_acid</td>\n",
       "      <td>760</td>\n",
       "      <td>test</td>\n",
       "      <td>omega-3_fatty_acideicosapentaenoic_acid760</td>\n",
       "    </tr>\n",
       "    <tr>\n",
       "      <th>14870</th>\n",
       "      <td>omega-3_fatty_acid</td>\n",
       "      <td>alpha-linolenic_acid</td>\n",
       "      <td>760</td>\n",
       "      <td>test</td>\n",
       "      <td>omega-3_fatty_acidalpha-linolenic_acid760</td>\n",
       "    </tr>\n",
       "    <tr>\n",
       "      <th>14871</th>\n",
       "      <td>omega-6_fatty_acid</td>\n",
       "      <td>linolenic_acid</td>\n",
       "      <td>760</td>\n",
       "      <td>test</td>\n",
       "      <td>omega-6_fatty_acidlinolenic_acid760</td>\n",
       "    </tr>\n",
       "  </tbody>\n",
       "</table>\n",
       "<p>2226 rows × 5 columns</p>\n",
       "</div>"
      ],
      "text/plain": [
       "                           parent                  child  group  type  \\\n",
       "12646                   explosion               airburst    647  test   \n",
       "12647                   explosion               blowback    647  test   \n",
       "12648                   explosion               big_bang    647  test   \n",
       "12649                   explosion              inflation    647  test   \n",
       "12650                   explosion                  blast    647  test   \n",
       "...                           ...                    ...    ...   ...   \n",
       "14867  polyunsaturated_fatty_acid     omega-6_fatty_acid    760  test   \n",
       "14868          omega-3_fatty_acid   docosahexaenoic_acid    760  test   \n",
       "14869          omega-3_fatty_acid  eicosapentaenoic_acid    760  test   \n",
       "14870          omega-3_fatty_acid   alpha-linolenic_acid    760  test   \n",
       "14871          omega-6_fatty_acid         linolenic_acid    760  test   \n",
       "\n",
       "                                               compare  \n",
       "12646                             explosionairburst647  \n",
       "12647                             explosionblowback647  \n",
       "12648                             explosionbig_bang647  \n",
       "12649                            explosioninflation647  \n",
       "12650                                explosionblast647  \n",
       "...                                                ...  \n",
       "14867  polyunsaturated_fatty_acidomega-6_fatty_acid760  \n",
       "14868        omega-3_fatty_aciddocosahexaenoic_acid760  \n",
       "14869       omega-3_fatty_acideicosapentaenoic_acid760  \n",
       "14870        omega-3_fatty_acidalpha-linolenic_acid760  \n",
       "14871              omega-6_fatty_acidlinolenic_acid760  \n",
       "\n",
       "[2226 rows x 5 columns]"
      ]
     },
     "execution_count": 16,
     "metadata": {},
     "output_type": "execute_result"
    }
   ],
   "source": [
    "df_actual"
   ]
  },
  {
   "cell_type": "code",
   "execution_count": 17,
   "id": "87651263-deca-4a72-b8ce-8b455f8dfa1c",
   "metadata": {},
   "outputs": [
    {
     "data": {
      "text/html": [
       "<div>\n",
       "<style scoped>\n",
       "    .dataframe tbody tr th:only-of-type {\n",
       "        vertical-align: middle;\n",
       "    }\n",
       "\n",
       "    .dataframe tbody tr th {\n",
       "        vertical-align: top;\n",
       "    }\n",
       "\n",
       "    .dataframe thead th {\n",
       "        text-align: right;\n",
       "    }\n",
       "</style>\n",
       "<table border=\"1\" class=\"dataframe\">\n",
       "  <thead>\n",
       "    <tr style=\"text-align: right;\">\n",
       "      <th></th>\n",
       "      <th>parent</th>\n",
       "      <th>child</th>\n",
       "      <th>weight</th>\n",
       "      <th>group</th>\n",
       "      <th>compare</th>\n",
       "    </tr>\n",
       "  </thead>\n",
       "  <tbody>\n",
       "    <tr>\n",
       "      <th>0</th>\n",
       "      <td>explosion</td>\n",
       "      <td>airburst</td>\n",
       "      <td>0.963787</td>\n",
       "      <td>647</td>\n",
       "      <td>explosionairburst647</td>\n",
       "    </tr>\n",
       "    <tr>\n",
       "      <th>1</th>\n",
       "      <td>explosion</td>\n",
       "      <td>blowback</td>\n",
       "      <td>0.692026</td>\n",
       "      <td>647</td>\n",
       "      <td>explosionblowback647</td>\n",
       "    </tr>\n",
       "    <tr>\n",
       "      <th>2</th>\n",
       "      <td>explosion</td>\n",
       "      <td>big_bang</td>\n",
       "      <td>0.915881</td>\n",
       "      <td>647</td>\n",
       "      <td>explosionbig_bang647</td>\n",
       "    </tr>\n",
       "    <tr>\n",
       "      <th>3</th>\n",
       "      <td>explosion</td>\n",
       "      <td>inflation</td>\n",
       "      <td>0.717169</td>\n",
       "      <td>647</td>\n",
       "      <td>explosioninflation647</td>\n",
       "    </tr>\n",
       "    <tr>\n",
       "      <th>4</th>\n",
       "      <td>explosion</td>\n",
       "      <td>blast</td>\n",
       "      <td>0.863965</td>\n",
       "      <td>647</td>\n",
       "      <td>explosionblast647</td>\n",
       "    </tr>\n",
       "    <tr>\n",
       "      <th>...</th>\n",
       "      <td>...</td>\n",
       "      <td>...</td>\n",
       "      <td>...</td>\n",
       "      <td>...</td>\n",
       "      <td>...</td>\n",
       "    </tr>\n",
       "    <tr>\n",
       "      <th>2221</th>\n",
       "      <td>omega-6_fatty_acid</td>\n",
       "      <td>linolenic_acid</td>\n",
       "      <td>0.546980</td>\n",
       "      <td>760</td>\n",
       "      <td>omega-6_fatty_acidlinolenic_acid760</td>\n",
       "    </tr>\n",
       "    <tr>\n",
       "      <th>2222</th>\n",
       "      <td>omega-3_fatty_acid</td>\n",
       "      <td>eicosapentaenoic_acid</td>\n",
       "      <td>0.584579</td>\n",
       "      <td>760</td>\n",
       "      <td>omega-3_fatty_acideicosapentaenoic_acid760</td>\n",
       "    </tr>\n",
       "    <tr>\n",
       "      <th>2223</th>\n",
       "      <td>omega-3_fatty_acid</td>\n",
       "      <td>alpha-linolenic_acid</td>\n",
       "      <td>0.522469</td>\n",
       "      <td>760</td>\n",
       "      <td>omega-3_fatty_acidalpha-linolenic_acid760</td>\n",
       "    </tr>\n",
       "    <tr>\n",
       "      <th>2224</th>\n",
       "      <td>monounsaturated_fatty_acid</td>\n",
       "      <td>elaidic_acid</td>\n",
       "      <td>0.837551</td>\n",
       "      <td>760</td>\n",
       "      <td>monounsaturated_fatty_acidelaidic_acid760</td>\n",
       "    </tr>\n",
       "    <tr>\n",
       "      <th>2225</th>\n",
       "      <td>monounsaturated_fatty_acid</td>\n",
       "      <td>oleic_acid</td>\n",
       "      <td>0.779340</td>\n",
       "      <td>760</td>\n",
       "      <td>monounsaturated_fatty_acidoleic_acid760</td>\n",
       "    </tr>\n",
       "  </tbody>\n",
       "</table>\n",
       "<p>2226 rows × 5 columns</p>\n",
       "</div>"
      ],
      "text/plain": [
       "                          parent                  child    weight  group  \\\n",
       "0                      explosion               airburst  0.963787    647   \n",
       "1                      explosion               blowback  0.692026    647   \n",
       "2                      explosion               big_bang  0.915881    647   \n",
       "3                      explosion              inflation  0.717169    647   \n",
       "4                      explosion                  blast  0.863965    647   \n",
       "...                          ...                    ...       ...    ...   \n",
       "2221          omega-6_fatty_acid         linolenic_acid  0.546980    760   \n",
       "2222          omega-3_fatty_acid  eicosapentaenoic_acid  0.584579    760   \n",
       "2223          omega-3_fatty_acid   alpha-linolenic_acid  0.522469    760   \n",
       "2224  monounsaturated_fatty_acid           elaidic_acid  0.837551    760   \n",
       "2225  monounsaturated_fatty_acid             oleic_acid  0.779340    760   \n",
       "\n",
       "                                         compare  \n",
       "0                           explosionairburst647  \n",
       "1                           explosionblowback647  \n",
       "2                           explosionbig_bang647  \n",
       "3                          explosioninflation647  \n",
       "4                              explosionblast647  \n",
       "...                                          ...  \n",
       "2221         omega-6_fatty_acidlinolenic_acid760  \n",
       "2222  omega-3_fatty_acideicosapentaenoic_acid760  \n",
       "2223   omega-3_fatty_acidalpha-linolenic_acid760  \n",
       "2224   monounsaturated_fatty_acidelaidic_acid760  \n",
       "2225     monounsaturated_fatty_acidoleic_acid760  \n",
       "\n",
       "[2226 rows x 5 columns]"
      ]
     },
     "execution_count": 17,
     "metadata": {},
     "output_type": "execute_result"
    }
   ],
   "source": [
    "res_v2"
   ]
  },
  {
   "cell_type": "code",
   "execution_count": 18,
   "id": "a78d9804-fbd9-4dca-a5f6-324cfbbe8bc1",
   "metadata": {},
   "outputs": [],
   "source": [
    "df_actual.merge(res_v2, on='compare',how='left').to_csv('/root/Taxonomy-GPT/data/group_wise_jun_21.csv')"
   ]
  },
  {
   "cell_type": "code",
   "execution_count": 19,
   "id": "8998061d-999f-47b5-9b88-b57f5258cbc2",
   "metadata": {},
   "outputs": [
    {
     "data": {
      "text/plain": [
       "0.9227313566936208"
      ]
     },
     "execution_count": 19,
     "metadata": {},
     "output_type": "execute_result"
    }
   ],
   "source": [
    "len(df_actual.merge(res_v2, on='compare'))/len(df_actual)"
   ]
  },
  {
   "cell_type": "code",
   "execution_count": null,
   "id": "d3f068bd",
   "metadata": {},
   "outputs": [],
   "source": []
  }
 ],
 "metadata": {
  "kernelspec": {
   "display_name": "Python 3 (ipykernel)",
   "language": "python",
   "name": "python3"
  },
  "language_info": {
   "codemirror_mode": {
    "name": "ipython",
    "version": 3
   },
   "file_extension": ".py",
   "mimetype": "text/x-python",
   "name": "python",
   "nbconvert_exporter": "python",
   "pygments_lexer": "ipython3",
   "version": "3.8.10"
  }
 },
 "nbformat": 4,
 "nbformat_minor": 5
}
