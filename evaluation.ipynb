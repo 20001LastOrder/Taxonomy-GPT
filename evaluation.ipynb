{
 "cells": [
  {
   "cell_type": "code",
   "execution_count": 1,
   "metadata": {},
   "outputs": [],
   "source": [
    "import pandas as pd\n",
    "%load_ext autoreload\n",
    "%autoreload 2\n",
    "import torch\n",
    "from transformers import GPTNeoForSequenceClassification, GPTNeoForCausalLM, GPT2Tokenizer\n",
    "from model import GPTNeoForSequenceClassificationBinary\n",
    "import lightning.pytorch as pl\n",
    "from model import GPTSequenceClassifiationModule"
   ]
  },
  {
   "cell_type": "code",
   "execution_count": 3,
   "metadata": {
    "tags": []
   },
   "outputs": [
    {
     "name": "stderr",
     "output_type": "stream",
     "text": [
      "Some weights of GPTNeoForSequenceClassification were not initialized from the model checkpoint at EleutherAI/gpt-neo-1.3B and are newly initialized: ['transformer.h.1.attn.attention.bias', 'transformer.h.23.attn.attention.bias', 'transformer.h.15.attn.attention.bias', 'transformer.h.19.attn.attention.bias', 'transformer.h.9.attn.attention.bias', 'transformer.h.21.attn.attention.bias', 'score.weight', 'transformer.h.11.attn.attention.bias', 'transformer.h.5.attn.attention.bias', 'transformer.h.17.attn.attention.bias', 'transformer.h.7.attn.attention.bias', 'transformer.h.13.attn.attention.bias', 'transformer.h.3.attn.attention.bias']\n",
      "You should probably TRAIN this model on a down-stream task to be able to use it for predictions and inference.\n"
     ]
    },
    {
     "name": "stdout",
     "output_type": "stream",
     "text": [
      "GPTNeoForSequenceClassification(\n",
      "  (transformer): GPTNeoModel(\n",
      "    (wte): Embedding(50257, 2048)\n",
      "    (wpe): Embedding(2048, 2048)\n",
      "    (drop): Dropout(p=0.0, inplace=False)\n",
      "    (h): ModuleList(\n",
      "      (0-23): 24 x GPTNeoBlock(\n",
      "        (ln_1): LayerNorm((2048,), eps=1e-05, elementwise_affine=True)\n",
      "        (attn): GPTNeoAttention(\n",
      "          (attention): GPTNeoSelfAttention(\n",
      "            (attn_dropout): Dropout(p=0.0, inplace=False)\n",
      "            (resid_dropout): Dropout(p=0.0, inplace=False)\n",
      "            (k_proj): Linear(in_features=2048, out_features=2048, bias=False)\n",
      "            (v_proj): Linear(in_features=2048, out_features=2048, bias=False)\n",
      "            (q_proj): Linear(in_features=2048, out_features=2048, bias=False)\n",
      "            (out_proj): Linear(in_features=2048, out_features=2048, bias=True)\n",
      "          )\n",
      "        )\n",
      "        (ln_2): LayerNorm((2048,), eps=1e-05, elementwise_affine=True)\n",
      "        (mlp): GPTNeoMLP(\n",
      "          (c_fc): Linear(in_features=2048, out_features=8192, bias=True)\n",
      "          (c_proj): Linear(in_features=8192, out_features=2048, bias=True)\n",
      "          (act): NewGELUActivation()\n",
      "          (dropout): Dropout(p=0.0, inplace=False)\n",
      "        )\n",
      "      )\n",
      "    )\n",
      "    (ln_f): LayerNorm((2048,), eps=1e-05, elementwise_affine=True)\n",
      "  )\n",
      "  (score): Linear(in_features=2048, out_features=1, bias=True)\n",
      ")\n",
      "Changing layer  23\n",
      "Changing layer  22\n",
      "Changing layer  21\n",
      "Changing layer  20\n",
      "Changing layer  19\n"
     ]
    }
   ],
   "source": [
    "\n",
    "\n",
    "test_name = 'data/ccs_test.csv' #'data/wordnet_all_false_july4_test.csv' #'data/ccs_test.csv'\n",
    "actual_tree = 'data/acm_ccs_clean.csv' #'data/bansal_wordnet_true_pairs.csv' #'data/acm_ccs_clean.csv'\n",
    "model_path = '/root/autodl-tmp/runs/ccs/finetune.ckpt'\n",
    "save_path = 'results/ccs/random.csv'\n",
    "\n",
    "model = GPTSequenceClassifiationModule.load_from_checkpoint(model_path)\n",
    "tokenizer = GPT2Tokenizer.from_pretrained(\"EleutherAI/gpt-neo-1.3B\")"
   ]
  },
  {
   "cell_type": "code",
   "execution_count": 111,
   "id": "b11bb006",
   "metadata": {},
   "outputs": [
    {
     "name": "stdout",
     "output_type": "stream",
     "text": [
      "Initializing layer  23\n",
      "Initializing layer  22\n",
      "Initializing layer  21\n",
      "Initializing layer  20\n",
      "Initializing layer  19\n"
     ]
    }
   ],
   "source": [
    "# randomly initialize the model\n",
    "def random_init(model):\n",
    "    num_layers = len(model.model.transformer.h)\n",
    "    learnable_layers = model.hparams.learnable_layers if model.hparams.learnable_layers != -1 else num_layers\n",
    "    for i in range(learnable_layers):\n",
    "        print('Initializing layer ', num_layers - 1 - i)\n",
    "        model.model.transformer.h[num_layers - 1 - i].mlp.apply(model.model._init_weights)\n",
    "    model.model.score.apply(model.model._init_weights)\n",
    "\n",
    "random_initialize_model = False\n",
    "if random_initialize_model:\n",
    "    random_init(model)"
   ]
  },
  {
   "cell_type": "code",
   "execution_count": 112,
   "metadata": {
    "tags": []
   },
   "outputs": [],
   "source": [
    "\n",
    "model=model.eval()\n",
    "model=model.cuda()"
   ]
  },
  {
   "cell_type": "code",
   "execution_count": 113,
   "metadata": {
    "tags": []
   },
   "outputs": [],
   "source": [
    "# test_name='/root/Taxonomy-GPT/data/wordnet_all_false_july4_test.csv'\n",
    "# actual_tree='/root/Taxonomy-GPT/data/bansal_wordnet_true_pairs.csv'\n",
    "# test_name='/root/Taxonomy-GPT/data/ccs_test.csv'\n",
    "# actual_tree='/root/Taxonomy-GPT/data/acm_ccs_clean.csv'"
   ]
  },
  {
   "cell_type": "code",
   "execution_count": 114,
   "metadata": {
    "tags": []
   },
   "outputs": [
    {
     "name": "stderr",
     "output_type": "stream",
     "text": [
      "Found cached dataset csv (/root/.cache/huggingface/datasets/csv/default-4c1478a641ccb039/0.0.0/eea64c71ca8b46dd3f537ed218fc9bf495d5707789152eb2764f5c78fa66d59d)\n",
      "Loading cached processed dataset at /root/.cache/huggingface/datasets/csv/default-4c1478a641ccb039/0.0.0/eea64c71ca8b46dd3f537ed218fc9bf495d5707789152eb2764f5c78fa66d59d/cache-63444c9d80fd9331.arrow\n"
     ]
    }
   ],
   "source": [
    "from dataset import get_taxonomy_dataset, get_taxonomy_dataset_binary\n",
    "dataset = get_taxonomy_dataset_binary(test_name, entire_dataset=True,remove_columns=True)"
   ]
  },
  {
   "cell_type": "code",
   "execution_count": 115,
   "metadata": {
    "tags": []
   },
   "outputs": [
    {
     "data": {
      "text/plain": [
       "{'test': Dataset({\n",
       "     features: ['flag', 'input_ids', 'labels'],\n",
       "     num_rows: 21800\n",
       " })}"
      ]
     },
     "execution_count": 115,
     "metadata": {},
     "output_type": "execute_result"
    }
   ],
   "source": [
    "dataset"
   ]
  },
  {
   "cell_type": "code",
   "execution_count": 116,
   "metadata": {
    "tags": []
   },
   "outputs": [],
   "source": [
    "def format_dataset(example,tokenizer):\n",
    "    prompt_template = \"I am doing the taxonomy research. I think {child} is a subtopic of {parent}\"\n",
    "    prompt = prompt_template.format(child=example['child'], parent=example['parent'])\n",
    "    example['input_ids'] = tokenizer.encode(prompt)\n",
    "    return example\n",
    "\n",
    "def test_dataloader(str_path,batch_size):\n",
    "    dataset= get_taxonomy_dataset_binary(str_path,entire_dataset=True)\n",
    "    dataset = dataset['test']\n",
    "    dataset = dataset.map(lambda example: format_dataset(example,tokenizer))\n",
    "    dataset = dataset.remove_columns(['child', 'parent', 'group'])\n",
    "\n",
    "    return torch.utils.data.DataLoader(\n",
    "        dataset,\n",
    "        batch_size=batch_size,\n",
    "        collate_fn=DataCollatorWithPadding(tokenizer),\n",
    "        num_workers=4,\n",
    "    )"
   ]
  },
  {
   "cell_type": "code",
   "execution_count": 117,
   "metadata": {
    "tags": []
   },
   "outputs": [
    {
     "name": "stderr",
     "output_type": "stream",
     "text": [
      "Found cached dataset csv (/root/.cache/huggingface/datasets/csv/default-4c1478a641ccb039/0.0.0/eea64c71ca8b46dd3f537ed218fc9bf495d5707789152eb2764f5c78fa66d59d)\n",
      "Loading cached processed dataset at /root/.cache/huggingface/datasets/csv/default-4c1478a641ccb039/0.0.0/eea64c71ca8b46dd3f537ed218fc9bf495d5707789152eb2764f5c78fa66d59d/cache-63444c9d80fd9331.arrow\n",
      "Loading cached processed dataset at /root/.cache/huggingface/datasets/csv/default-4c1478a641ccb039/0.0.0/eea64c71ca8b46dd3f537ed218fc9bf495d5707789152eb2764f5c78fa66d59d/cache-8e4487ffbe6f9edf.arrow\n"
     ]
    },
    {
     "data": {
      "application/vnd.jupyter.widget-view+json": {
       "model_id": "0669a13b463b4144a0dacf99285e1a1a",
       "version_major": 2,
       "version_minor": 0
      },
      "text/plain": [
       "  0%|          | 0/341 [00:00<?, ?it/s]"
      ]
     },
     "metadata": {},
     "output_type": "display_data"
    }
   ],
   "source": [
    "from torch.utils.data import DataLoader\n",
    "from transformers.data.data_collator import DataCollatorWithPadding\n",
    "from tqdm.notebook import tqdm\n",
    "import torch \n",
    "\n",
    "results = []\n",
    "tokenizer.pad_token = tokenizer.eos_token\n",
    "data_collator = DataCollatorWithPadding(tokenizer)\n",
    "\n",
    "testdataloader = test_dataloader(test_name, 64)\n",
    "with torch.no_grad():\n",
    "    for step, batch in enumerate(tqdm(testdataloader)):\n",
    "        batch = batch.to('cuda')\n",
    "        output = model(batch['input_ids'], batch['attention_mask'])\n",
    "        predicted_labels = torch.sigmoid(output)\n",
    "        results.extend(predicted_labels.cpu().detach().numpy().tolist())"
   ]
  },
  {
   "cell_type": "code",
   "execution_count": 118,
   "metadata": {
    "tags": []
   },
   "outputs": [],
   "source": [
    "import pandas as pd\n",
    "df = pd.read_csv(test_name)\n",
    "df['predict'] = results\n",
    "df['pred_flag']=[True if i>0.5 else False for i in df['predict']]"
   ]
  },
  {
   "cell_type": "code",
   "execution_count": 119,
   "metadata": {
    "tags": []
   },
   "outputs": [],
   "source": [
    "df.to_csv(save_path, index=False)"
   ]
  },
  {
   "cell_type": "code",
   "execution_count": 120,
   "metadata": {
    "tags": []
   },
   "outputs": [
    {
     "name": "stdout",
     "output_type": "stream",
     "text": [
      "0.019967733678225963\n",
      "0.5101385448206257\n",
      "0.5000468208633767\n",
      "0.02036697247706422\n"
     ]
    }
   ],
   "source": [
    "from sklearn.metrics import accuracy_score, f1_score, precision_score, recall_score, classification_report, confusion_matrix\n",
    "y_test=df['flag']\n",
    "y_pred=df['pred_flag']\n",
    "print(f1_score(y_test, y_pred, average=\"macro\"))\n",
    "print(precision_score(y_test, y_pred, average=\"macro\"))\n",
    "print(recall_score(y_test, y_pred, average=\"macro\"))\n",
    "print(accuracy_score(y_test, y_pred))"
   ]
  },
  {
   "cell_type": "code",
   "execution_count": 121,
   "metadata": {
    "tags": []
   },
   "outputs": [
    {
     "name": "stdout",
     "output_type": "stream",
     "text": [
      "              precision    recall  f1-score   support\n",
      "\n",
      "       False       1.00      0.00      0.00     21358\n",
      "        True       0.02      1.00      0.04       442\n",
      "\n",
      "    accuracy                           0.02     21800\n",
      "   macro avg       0.51      0.50      0.02     21800\n",
      "weighted avg       0.98      0.02      0.00     21800\n",
      "\n"
     ]
    }
   ],
   "source": [
    "print(classification_report(y_test, y_pred))"
   ]
  },
  {
   "attachments": {},
   "cell_type": "markdown",
   "metadata": {},
   "source": [
    "## Post processing"
   ]
  },
  {
   "cell_type": "code",
   "execution_count": 122,
   "metadata": {},
   "outputs": [],
   "source": [
    "from utils import (\n",
    "    convert_to_ancestor_graph, \n",
    "    maximum_absorbance, \n",
    "    dataframe_to_ancestor_graph, \n",
    "    evaluate_groups,\n",
    "    maximum_likelihood\n",
    ")\n",
    "\n",
    "from tqdm import tqdm\n",
    "import numpy as np\n"
   ]
  },
  {
   "cell_type": "code",
   "execution_count": 155,
   "metadata": {
    "tags": []
   },
   "outputs": [],
   "source": [
    "save_path = 'results/ccs/random.csv' # 'results/wordnet/lora.csv'\n",
    "actual_tree = 'data/acm_ccs_clean.csv' # 'data/bansal_wordnet_true_pairs.csv'\n",
    "post_process = maximum_absorbance #maximum_likelihood # maximum_likelihood maximum_absorbance\n",
    "\n",
    "df_t = pd.read_csv(save_path)"
   ]
  },
  {
   "cell_type": "code",
   "execution_count": 156,
   "metadata": {},
   "outputs": [],
   "source": [
    "df_t['predict'] = np.log(df_t['predict'])"
   ]
  },
  {
   "cell_type": "code",
   "execution_count": 157,
   "metadata": {},
   "outputs": [
    {
     "data": {
      "text/plain": [
       "0       -0.203009\n",
       "1       -0.195474\n",
       "2       -0.183556\n",
       "3       -0.209004\n",
       "4       -0.184365\n",
       "           ...   \n",
       "21795   -0.191086\n",
       "21796   -0.191347\n",
       "21797   -0.198790\n",
       "21798   -0.189187\n",
       "21799   -0.194152\n",
       "Name: predict, Length: 21800, dtype: float64"
      ]
     },
     "execution_count": 157,
     "metadata": {},
     "output_type": "execute_result"
    }
   ],
   "source": [
    "df_t['predict']"
   ]
  },
  {
   "cell_type": "code",
   "execution_count": 158,
   "metadata": {
    "tags": []
   },
   "outputs": [
    {
     "name": "stderr",
     "output_type": "stream",
     "text": [
      "  0%|          | 0/15 [00:00<?, ?it/s]"
     ]
    },
    {
     "name": "stderr",
     "output_type": "stream",
     "text": [
      "100%|██████████| 15/15 [00:10<00:00,  1.37it/s]\n"
     ]
    }
   ],
   "source": [
    "forest=[]\n",
    "for g in tqdm(list(set(df_t.group))):\n",
    "    df = post_process(df_t, g)\n",
    "    forest.append(df)"
   ]
  },
  {
   "cell_type": "code",
   "execution_count": 159,
   "metadata": {
    "tags": []
   },
   "outputs": [
    {
     "name": "stderr",
     "output_type": "stream",
     "text": [
      "100%|██████████| 15/15 [00:00<00:00, 456.72it/s]\n"
     ]
    }
   ],
   "source": [
    "res_v2=pd.concat(forest, ignore_index=True)\n",
    "res_v2=dataframe_to_ancestor_graph(res_v2)"
   ]
  },
  {
   "cell_type": "code",
   "execution_count": 160,
   "metadata": {
    "tags": []
   },
   "outputs": [
    {
     "data": {
      "text/html": [
       "<div>\n",
       "<style scoped>\n",
       "    .dataframe tbody tr th:only-of-type {\n",
       "        vertical-align: middle;\n",
       "    }\n",
       "\n",
       "    .dataframe tbody tr th {\n",
       "        vertical-align: top;\n",
       "    }\n",
       "\n",
       "    .dataframe thead th {\n",
       "        text-align: right;\n",
       "    }\n",
       "</style>\n",
       "<table border=\"1\" class=\"dataframe\">\n",
       "  <thead>\n",
       "    <tr style=\"text-align: right;\">\n",
       "      <th></th>\n",
       "      <th>parent</th>\n",
       "      <th>child</th>\n",
       "      <th>group</th>\n",
       "      <th>compare</th>\n",
       "    </tr>\n",
       "  </thead>\n",
       "  <tbody>\n",
       "    <tr>\n",
       "      <th>0</th>\n",
       "      <td>Software security engineering</td>\n",
       "      <td>Domain-specific security and privacy architect...</td>\n",
       "      <td>10002978_9</td>\n",
       "      <td>Software security engineeringDomain-specific s...</td>\n",
       "    </tr>\n",
       "    <tr>\n",
       "      <th>1</th>\n",
       "      <td>Software security engineering</td>\n",
       "      <td>Software and application security</td>\n",
       "      <td>10002978_9</td>\n",
       "      <td>Software security engineeringSoftware and appl...</td>\n",
       "    </tr>\n",
       "    <tr>\n",
       "      <th>2</th>\n",
       "      <td>Software security engineering</td>\n",
       "      <td>Social network security and privacy</td>\n",
       "      <td>10002978_9</td>\n",
       "      <td>Software security engineeringSocial network se...</td>\n",
       "    </tr>\n",
       "    <tr>\n",
       "      <th>3</th>\n",
       "      <td>Software and application security</td>\n",
       "      <td>Domain-specific security and privacy architect...</td>\n",
       "      <td>10002978_9</td>\n",
       "      <td>Software and application securityDomain-specif...</td>\n",
       "    </tr>\n",
       "    <tr>\n",
       "      <th>4</th>\n",
       "      <td>Software and application security</td>\n",
       "      <td>Social network security and privacy</td>\n",
       "      <td>10002978_9</td>\n",
       "      <td>Software and application securitySocial networ...</td>\n",
       "    </tr>\n",
       "    <tr>\n",
       "      <th>...</th>\n",
       "      <td>...</td>\n",
       "      <td>...</td>\n",
       "      <td>...</td>\n",
       "      <td>...</td>\n",
       "    </tr>\n",
       "    <tr>\n",
       "      <th>740</th>\n",
       "      <td>Signal processing systems</td>\n",
       "      <td>Beamforming</td>\n",
       "      <td>10010583_2</td>\n",
       "      <td>Signal processing systemsBeamforming10010583_2</td>\n",
       "    </tr>\n",
       "    <tr>\n",
       "      <th>741</th>\n",
       "      <td>Signal processing systems</td>\n",
       "      <td>Sensor applications and deployments</td>\n",
       "      <td>10010583_2</td>\n",
       "      <td>Signal processing systemsSensor applications a...</td>\n",
       "    </tr>\n",
       "    <tr>\n",
       "      <th>742</th>\n",
       "      <td>Signal processing systems</td>\n",
       "      <td>External storage</td>\n",
       "      <td>10010583_2</td>\n",
       "      <td>Signal processing systemsExternal storage10010...</td>\n",
       "    </tr>\n",
       "    <tr>\n",
       "      <th>743</th>\n",
       "      <td>Signal processing systems</td>\n",
       "      <td>Electro-mechanical devices</td>\n",
       "      <td>10010583_2</td>\n",
       "      <td>Signal processing systemsElectro-mechanical de...</td>\n",
       "    </tr>\n",
       "    <tr>\n",
       "      <th>744</th>\n",
       "      <td>Signal processing systems</td>\n",
       "      <td>Sound-based input / output</td>\n",
       "      <td>10010583_2</td>\n",
       "      <td>Signal processing systemsSound-based input / o...</td>\n",
       "    </tr>\n",
       "  </tbody>\n",
       "</table>\n",
       "<p>745 rows × 4 columns</p>\n",
       "</div>"
      ],
      "text/plain": [
       "                                parent  \\\n",
       "0        Software security engineering   \n",
       "1        Software security engineering   \n",
       "2        Software security engineering   \n",
       "3    Software and application security   \n",
       "4    Software and application security   \n",
       "..                                 ...   \n",
       "740          Signal processing systems   \n",
       "741          Signal processing systems   \n",
       "742          Signal processing systems   \n",
       "743          Signal processing systems   \n",
       "744          Signal processing systems   \n",
       "\n",
       "                                                 child       group  \\\n",
       "0    Domain-specific security and privacy architect...  10002978_9   \n",
       "1                    Software and application security  10002978_9   \n",
       "2                  Social network security and privacy  10002978_9   \n",
       "3    Domain-specific security and privacy architect...  10002978_9   \n",
       "4                  Social network security and privacy  10002978_9   \n",
       "..                                                 ...         ...   \n",
       "740                                        Beamforming  10010583_2   \n",
       "741                Sensor applications and deployments  10010583_2   \n",
       "742                                   External storage  10010583_2   \n",
       "743                         Electro-mechanical devices  10010583_2   \n",
       "744                         Sound-based input / output  10010583_2   \n",
       "\n",
       "                                               compare  \n",
       "0    Software security engineeringDomain-specific s...  \n",
       "1    Software security engineeringSoftware and appl...  \n",
       "2    Software security engineeringSocial network se...  \n",
       "3    Software and application securityDomain-specif...  \n",
       "4    Software and application securitySocial networ...  \n",
       "..                                                 ...  \n",
       "740     Signal processing systemsBeamforming10010583_2  \n",
       "741  Signal processing systemsSensor applications a...  \n",
       "742  Signal processing systemsExternal storage10010...  \n",
       "743  Signal processing systemsElectro-mechanical de...  \n",
       "744  Signal processing systemsSound-based input / o...  \n",
       "\n",
       "[745 rows x 4 columns]"
      ]
     },
     "execution_count": 160,
     "metadata": {},
     "output_type": "execute_result"
    }
   ],
   "source": [
    "res_v2"
   ]
  },
  {
   "cell_type": "code",
   "execution_count": 161,
   "metadata": {
    "tags": []
   },
   "outputs": [
    {
     "data": {
      "text/plain": [
       "group\n",
       "10002951_5     182\n",
       "10010147_3     156\n",
       "10003456_2     102\n",
       "10002950_2      64\n",
       "10010583_10     46\n",
       "10010583_7      33\n",
       "10010147_5      30\n",
       "10003120_3      26\n",
       "10010405_4      22\n",
       "10002978_3      20\n",
       "10010583_8      20\n",
       "10010583_2      20\n",
       "10002950_5      11\n",
       "10002978_9      10\n",
       "10002950_3       3\n",
       "Name: count, dtype: int64"
      ]
     },
     "execution_count": 161,
     "metadata": {},
     "output_type": "execute_result"
    }
   ],
   "source": [
    "res_v2['group'].value_counts()"
   ]
  },
  {
   "cell_type": "code",
   "execution_count": 162,
   "metadata": {
    "tags": []
   },
   "outputs": [],
   "source": [
    "df_actual=pd.read_csv(actual_tree)\n",
    "df_actual=df_actual[df_actual['type'] == 'test']\n",
    "df_actual['compare']=df_actual['parent']+df_actual['child']+df_actual['group'].astype(str)"
   ]
  },
  {
   "cell_type": "code",
   "execution_count": 163,
   "metadata": {},
   "outputs": [
    {
     "data": {
      "text/plain": [
       "23      10002950_2\n",
       "24      10002950_2\n",
       "25      10002950_2\n",
       "26      10002950_2\n",
       "27      10002950_2\n",
       "           ...    \n",
       "1838    10003120_3\n",
       "1839    10003120_3\n",
       "1840    10003120_3\n",
       "1841    10003120_3\n",
       "1842    10003120_3\n",
       "Name: group, Length: 442, dtype: object"
      ]
     },
     "execution_count": 163,
     "metadata": {},
     "output_type": "execute_result"
    }
   ],
   "source": [
    "df_actual.group"
   ]
  },
  {
   "cell_type": "code",
   "execution_count": 164,
   "metadata": {
    "tags": []
   },
   "outputs": [
    {
     "name": "stderr",
     "output_type": "stream",
     "text": [
      "100%|██████████| 15/15 [00:00<00:00, 457.63it/s]\n"
     ]
    },
    {
     "data": {
      "text/plain": [
       "group\n",
       "10010147_3     186\n",
       "10002951_5     145\n",
       "10002950_2     110\n",
       "10003456_2      98\n",
       "10010147_5      55\n",
       "10010583_10     51\n",
       "10003120_3      45\n",
       "10010405_4      35\n",
       "10010583_7      33\n",
       "10010583_2      25\n",
       "10010583_8      15\n",
       "10002950_5      15\n",
       "10002978_3      12\n",
       "10002978_9       5\n",
       "10002950_3       3\n",
       "Name: count, dtype: int64"
      ]
     },
     "execution_count": 164,
     "metadata": {},
     "output_type": "execute_result"
    }
   ],
   "source": [
    "df_actual = dataframe_to_ancestor_graph(df_actual)\n",
    "df_actual['group'].value_counts()"
   ]
  },
  {
   "cell_type": "code",
   "execution_count": 165,
   "metadata": {
    "tags": []
   },
   "outputs": [
    {
     "data": {
      "text/html": [
       "<div>\n",
       "<style scoped>\n",
       "    .dataframe tbody tr th:only-of-type {\n",
       "        vertical-align: middle;\n",
       "    }\n",
       "\n",
       "    .dataframe tbody tr th {\n",
       "        vertical-align: top;\n",
       "    }\n",
       "\n",
       "    .dataframe thead th {\n",
       "        text-align: right;\n",
       "    }\n",
       "</style>\n",
       "<table border=\"1\" class=\"dataframe\">\n",
       "  <thead>\n",
       "    <tr style=\"text-align: right;\">\n",
       "      <th></th>\n",
       "      <th>parent</th>\n",
       "      <th>child</th>\n",
       "      <th>group</th>\n",
       "      <th>compare</th>\n",
       "    </tr>\n",
       "  </thead>\n",
       "  <tbody>\n",
       "    <tr>\n",
       "      <th>509</th>\n",
       "      <td>Artificial intelligence</td>\n",
       "      <td>Discrete space search</td>\n",
       "      <td>10010147_3</td>\n",
       "      <td>Artificial intelligenceDiscrete space search10...</td>\n",
       "    </tr>\n",
       "    <tr>\n",
       "      <th>510</th>\n",
       "      <td>Artificial intelligence</td>\n",
       "      <td>Matching</td>\n",
       "      <td>10010147_3</td>\n",
       "      <td>Artificial intelligenceMatching10010147_3</td>\n",
       "    </tr>\n",
       "    <tr>\n",
       "      <th>511</th>\n",
       "      <td>Artificial intelligence</td>\n",
       "      <td>Planning with abstraction and generalization</td>\n",
       "      <td>10010147_3</td>\n",
       "      <td>Artificial intelligencePlanning with abstracti...</td>\n",
       "    </tr>\n",
       "    <tr>\n",
       "      <th>512</th>\n",
       "      <td>Artificial intelligence</td>\n",
       "      <td>Interest point and salient region detections</td>\n",
       "      <td>10010147_3</td>\n",
       "      <td>Artificial intelligenceInterest point and sali...</td>\n",
       "    </tr>\n",
       "    <tr>\n",
       "      <th>513</th>\n",
       "      <td>Artificial intelligence</td>\n",
       "      <td>Robotic planning</td>\n",
       "      <td>10010147_3</td>\n",
       "      <td>Artificial intelligenceRobotic planning10010147_3</td>\n",
       "    </tr>\n",
       "    <tr>\n",
       "      <th>...</th>\n",
       "      <td>...</td>\n",
       "      <td>...</td>\n",
       "      <td>...</td>\n",
       "      <td>...</td>\n",
       "    </tr>\n",
       "    <tr>\n",
       "      <th>690</th>\n",
       "      <td>Natural language processing</td>\n",
       "      <td>Phonology / morphology</td>\n",
       "      <td>10010147_3</td>\n",
       "      <td>Natural language processingPhonology / morphol...</td>\n",
       "    </tr>\n",
       "    <tr>\n",
       "      <th>691</th>\n",
       "      <td>Philosophical/theoretical foundations of artif...</td>\n",
       "      <td>Cognitive science</td>\n",
       "      <td>10010147_3</td>\n",
       "      <td>Philosophical/theoretical foundations of artif...</td>\n",
       "    </tr>\n",
       "    <tr>\n",
       "      <th>692</th>\n",
       "      <td>Philosophical/theoretical foundations of artif...</td>\n",
       "      <td>Theory of mind</td>\n",
       "      <td>10010147_3</td>\n",
       "      <td>Philosophical/theoretical foundations of artif...</td>\n",
       "    </tr>\n",
       "    <tr>\n",
       "      <th>693</th>\n",
       "      <td>Control methods</td>\n",
       "      <td>Motion path planning</td>\n",
       "      <td>10010147_3</td>\n",
       "      <td>Control methodsMotion path planning10010147_3</td>\n",
       "    </tr>\n",
       "    <tr>\n",
       "      <th>694</th>\n",
       "      <td>Control methods</td>\n",
       "      <td>Computational control theory</td>\n",
       "      <td>10010147_3</td>\n",
       "      <td>Control methodsComputational control theory100...</td>\n",
       "    </tr>\n",
       "  </tbody>\n",
       "</table>\n",
       "<p>186 rows × 4 columns</p>\n",
       "</div>"
      ],
      "text/plain": [
       "                                                parent  \\\n",
       "509                            Artificial intelligence   \n",
       "510                            Artificial intelligence   \n",
       "511                            Artificial intelligence   \n",
       "512                            Artificial intelligence   \n",
       "513                            Artificial intelligence   \n",
       "..                                                 ...   \n",
       "690                        Natural language processing   \n",
       "691  Philosophical/theoretical foundations of artif...   \n",
       "692  Philosophical/theoretical foundations of artif...   \n",
       "693                                    Control methods   \n",
       "694                                    Control methods   \n",
       "\n",
       "                                            child       group  \\\n",
       "509                         Discrete space search  10010147_3   \n",
       "510                                      Matching  10010147_3   \n",
       "511  Planning with abstraction and generalization  10010147_3   \n",
       "512  Interest point and salient region detections  10010147_3   \n",
       "513                              Robotic planning  10010147_3   \n",
       "..                                            ...         ...   \n",
       "690                        Phonology / morphology  10010147_3   \n",
       "691                             Cognitive science  10010147_3   \n",
       "692                                Theory of mind  10010147_3   \n",
       "693                          Motion path planning  10010147_3   \n",
       "694                  Computational control theory  10010147_3   \n",
       "\n",
       "                                               compare  \n",
       "509  Artificial intelligenceDiscrete space search10...  \n",
       "510          Artificial intelligenceMatching10010147_3  \n",
       "511  Artificial intelligencePlanning with abstracti...  \n",
       "512  Artificial intelligenceInterest point and sali...  \n",
       "513  Artificial intelligenceRobotic planning10010147_3  \n",
       "..                                                 ...  \n",
       "690  Natural language processingPhonology / morphol...  \n",
       "691  Philosophical/theoretical foundations of artif...  \n",
       "692  Philosophical/theoretical foundations of artif...  \n",
       "693      Control methodsMotion path planning10010147_3  \n",
       "694  Control methodsComputational control theory100...  \n",
       "\n",
       "[186 rows x 4 columns]"
      ]
     },
     "execution_count": 165,
     "metadata": {},
     "output_type": "execute_result"
    }
   ],
   "source": [
    "df_actual[df_actual.group=='10010147_3']"
   ]
  },
  {
   "cell_type": "code",
   "execution_count": 166,
   "metadata": {
    "tags": []
   },
   "outputs": [
    {
     "data": {
      "text/html": [
       "<div>\n",
       "<style scoped>\n",
       "    .dataframe tbody tr th:only-of-type {\n",
       "        vertical-align: middle;\n",
       "    }\n",
       "\n",
       "    .dataframe tbody tr th {\n",
       "        vertical-align: top;\n",
       "    }\n",
       "\n",
       "    .dataframe thead th {\n",
       "        text-align: right;\n",
       "    }\n",
       "</style>\n",
       "<table border=\"1\" class=\"dataframe\">\n",
       "  <thead>\n",
       "    <tr style=\"text-align: right;\">\n",
       "      <th></th>\n",
       "      <th>parent</th>\n",
       "      <th>child</th>\n",
       "      <th>group</th>\n",
       "      <th>compare</th>\n",
       "    </tr>\n",
       "  </thead>\n",
       "  <tbody>\n",
       "    <tr>\n",
       "      <th>539</th>\n",
       "      <td>Probabilistic reasoning</td>\n",
       "      <td>Discrete space search</td>\n",
       "      <td>10010147_3</td>\n",
       "      <td>Probabilistic reasoningDiscrete space search10...</td>\n",
       "    </tr>\n",
       "    <tr>\n",
       "      <th>540</th>\n",
       "      <td>Probabilistic reasoning</td>\n",
       "      <td>Matching</td>\n",
       "      <td>10010147_3</td>\n",
       "      <td>Probabilistic reasoningMatching10010147_3</td>\n",
       "    </tr>\n",
       "    <tr>\n",
       "      <th>541</th>\n",
       "      <td>Probabilistic reasoning</td>\n",
       "      <td>Planning with abstraction and generalization</td>\n",
       "      <td>10010147_3</td>\n",
       "      <td>Probabilistic reasoningPlanning with abstracti...</td>\n",
       "    </tr>\n",
       "    <tr>\n",
       "      <th>542</th>\n",
       "      <td>Probabilistic reasoning</td>\n",
       "      <td>Artificial intelligence</td>\n",
       "      <td>10010147_3</td>\n",
       "      <td>Probabilistic reasoningArtificial intelligence...</td>\n",
       "    </tr>\n",
       "    <tr>\n",
       "      <th>543</th>\n",
       "      <td>Probabilistic reasoning</td>\n",
       "      <td>Interest point and salient region detections</td>\n",
       "      <td>10010147_3</td>\n",
       "      <td>Probabilistic reasoningInterest point and sali...</td>\n",
       "    </tr>\n",
       "    <tr>\n",
       "      <th>...</th>\n",
       "      <td>...</td>\n",
       "      <td>...</td>\n",
       "      <td>...</td>\n",
       "      <td>...</td>\n",
       "    </tr>\n",
       "    <tr>\n",
       "      <th>690</th>\n",
       "      <td>Randomized search</td>\n",
       "      <td>Phonology / morphology</td>\n",
       "      <td>10010147_3</td>\n",
       "      <td>Randomized searchPhonology / morphology10010147_3</td>\n",
       "    </tr>\n",
       "    <tr>\n",
       "      <th>691</th>\n",
       "      <td>Randomized search</td>\n",
       "      <td>Theory of mind</td>\n",
       "      <td>10010147_3</td>\n",
       "      <td>Randomized searchTheory of mind10010147_3</td>\n",
       "    </tr>\n",
       "    <tr>\n",
       "      <th>692</th>\n",
       "      <td>Planning under uncertainty</td>\n",
       "      <td>Tracking</td>\n",
       "      <td>10010147_3</td>\n",
       "      <td>Planning under uncertaintyTracking10010147_3</td>\n",
       "    </tr>\n",
       "    <tr>\n",
       "      <th>693</th>\n",
       "      <td>Planning under uncertainty</td>\n",
       "      <td>Search methodologies</td>\n",
       "      <td>10010147_3</td>\n",
       "      <td>Planning under uncertaintySearch methodologies...</td>\n",
       "    </tr>\n",
       "    <tr>\n",
       "      <th>694</th>\n",
       "      <td>Knowledge representation and reasoning</td>\n",
       "      <td>Planning for deterministic actions</td>\n",
       "      <td>10010147_3</td>\n",
       "      <td>Knowledge representation and reasoningPlanning...</td>\n",
       "    </tr>\n",
       "  </tbody>\n",
       "</table>\n",
       "<p>156 rows × 4 columns</p>\n",
       "</div>"
      ],
      "text/plain": [
       "                                     parent  \\\n",
       "539                 Probabilistic reasoning   \n",
       "540                 Probabilistic reasoning   \n",
       "541                 Probabilistic reasoning   \n",
       "542                 Probabilistic reasoning   \n",
       "543                 Probabilistic reasoning   \n",
       "..                                      ...   \n",
       "690                       Randomized search   \n",
       "691                       Randomized search   \n",
       "692              Planning under uncertainty   \n",
       "693              Planning under uncertainty   \n",
       "694  Knowledge representation and reasoning   \n",
       "\n",
       "                                            child       group  \\\n",
       "539                         Discrete space search  10010147_3   \n",
       "540                                      Matching  10010147_3   \n",
       "541  Planning with abstraction and generalization  10010147_3   \n",
       "542                       Artificial intelligence  10010147_3   \n",
       "543  Interest point and salient region detections  10010147_3   \n",
       "..                                            ...         ...   \n",
       "690                        Phonology / morphology  10010147_3   \n",
       "691                                Theory of mind  10010147_3   \n",
       "692                                      Tracking  10010147_3   \n",
       "693                          Search methodologies  10010147_3   \n",
       "694            Planning for deterministic actions  10010147_3   \n",
       "\n",
       "                                               compare  \n",
       "539  Probabilistic reasoningDiscrete space search10...  \n",
       "540          Probabilistic reasoningMatching10010147_3  \n",
       "541  Probabilistic reasoningPlanning with abstracti...  \n",
       "542  Probabilistic reasoningArtificial intelligence...  \n",
       "543  Probabilistic reasoningInterest point and sali...  \n",
       "..                                                 ...  \n",
       "690  Randomized searchPhonology / morphology10010147_3  \n",
       "691          Randomized searchTheory of mind10010147_3  \n",
       "692       Planning under uncertaintyTracking10010147_3  \n",
       "693  Planning under uncertaintySearch methodologies...  \n",
       "694  Knowledge representation and reasoningPlanning...  \n",
       "\n",
       "[156 rows x 4 columns]"
      ]
     },
     "execution_count": 166,
     "metadata": {},
     "output_type": "execute_result"
    }
   ],
   "source": [
    "res_v2[res_v2.group=='10010147_3']"
   ]
  },
  {
   "cell_type": "code",
   "execution_count": 167,
   "metadata": {},
   "outputs": [
    {
     "name": "stderr",
     "output_type": "stream",
     "text": [
      "100%|██████████| 15/15 [00:00<00:00, 394.33it/s]\n"
     ]
    }
   ],
   "source": [
    "recall, precision, f1 = evaluate_groups(df_actual, res_v2)"
   ]
  },
  {
   "cell_type": "code",
   "execution_count": 168,
   "metadata": {},
   "outputs": [
    {
     "data": {
      "text/plain": [
       "0.17443432294547911"
      ]
     },
     "execution_count": 168,
     "metadata": {},
     "output_type": "execute_result"
    }
   ],
   "source": [
    "recall"
   ]
  },
  {
   "cell_type": "code",
   "execution_count": 169,
   "metadata": {},
   "outputs": [
    {
     "data": {
      "text/plain": [
       "0.162093908506952"
      ]
     },
     "execution_count": 169,
     "metadata": {},
     "output_type": "execute_result"
    }
   ],
   "source": [
    "precision"
   ]
  },
  {
   "cell_type": "code",
   "execution_count": 170,
   "metadata": {},
   "outputs": [
    {
     "data": {
      "text/plain": [
       "0.1607280989176318"
      ]
     },
     "execution_count": 170,
     "metadata": {},
     "output_type": "execute_result"
    }
   ],
   "source": [
    "f1"
   ]
  },
  {
   "cell_type": "code",
   "execution_count": 35,
   "metadata": {
    "tags": []
   },
   "outputs": [],
   "source": [
    "df_common = pd.merge(df_actual, res_v2, on=['compare'], how='inner')"
   ]
  },
  {
   "cell_type": "code",
   "execution_count": 36,
   "metadata": {
    "tags": []
   },
   "outputs": [
    {
     "data": {
      "text/plain": [
       "0.49339735894357745"
      ]
     },
     "execution_count": 36,
     "metadata": {},
     "output_type": "execute_result"
    }
   ],
   "source": [
    "len(df_common)/len(df_actual)"
   ]
  },
  {
   "cell_type": "code",
   "execution_count": 37,
   "metadata": {
    "tags": []
   },
   "outputs": [
    {
     "data": {
      "text/plain": [
       "0.2180371352785146"
      ]
     },
     "execution_count": 37,
     "metadata": {},
     "output_type": "execute_result"
    }
   ],
   "source": [
    "len(df_common)/len(res_v2)"
   ]
  },
  {
   "cell_type": "code",
   "execution_count": 38,
   "metadata": {
    "tags": []
   },
   "outputs": [
    {
     "name": "stderr",
     "output_type": "stream",
     "text": [
      "  7%|▋         | 1/15 [00:00<00:00, 93.23it/s]\n"
     ]
    },
    {
     "data": {
      "text/html": [
       "<pre style=\"white-space:pre;overflow-x:auto;line-height:normal;font-family:Menlo,'DejaVu Sans Mono',consolas,'Courier New',monospace\"><span style=\"color: #800000; text-decoration-color: #800000\">╭─────────────────────────────── </span><span style=\"color: #800000; text-decoration-color: #800000; font-weight: bold\">Traceback </span><span style=\"color: #bf7f7f; text-decoration-color: #bf7f7f; font-weight: bold\">(most recent call last)</span><span style=\"color: #800000; text-decoration-color: #800000\"> ────────────────────────────────╮</span>\n",
       "<span style=\"color: #800000; text-decoration-color: #800000\">│</span> in <span style=\"color: #00ff00; text-decoration-color: #00ff00\">&lt;module&gt;</span>:<span style=\"color: #0000ff; text-decoration-color: #0000ff\">8</span>                                                                                    <span style=\"color: #800000; text-decoration-color: #800000\">│</span>\n",
       "<span style=\"color: #800000; text-decoration-color: #800000\">│</span>                                                                                                  <span style=\"color: #800000; text-decoration-color: #800000\">│</span>\n",
       "<span style=\"color: #800000; text-decoration-color: #800000\">│</span>   <span style=\"color: #7f7f7f; text-decoration-color: #7f7f7f\"> 5 </span><span style=\"color: #7f7f7f; text-decoration-color: #7f7f7f\">│   </span>group_actual = df_actual[df_actual.group == group]                                      <span style=\"color: #800000; text-decoration-color: #800000\">│</span>\n",
       "<span style=\"color: #800000; text-decoration-color: #800000\">│</span>   <span style=\"color: #7f7f7f; text-decoration-color: #7f7f7f\"> 6 </span><span style=\"color: #7f7f7f; text-decoration-color: #7f7f7f\">│   </span>group_pred = res_v2[res_v2.group == group]                                              <span style=\"color: #800000; text-decoration-color: #800000\">│</span>\n",
       "<span style=\"color: #800000; text-decoration-color: #800000\">│</span>   <span style=\"color: #7f7f7f; text-decoration-color: #7f7f7f\"> 7 </span><span style=\"color: #7f7f7f; text-decoration-color: #7f7f7f\">│   </span>recall.append(<span style=\"color: #00ffff; text-decoration-color: #00ffff\">len</span>(group_actual.merge(group_pred, on=<span style=\"color: #808000; text-decoration-color: #808000\">'compare'</span>)) / <span style=\"color: #00ffff; text-decoration-color: #00ffff\">len</span>(group_actual))    <span style=\"color: #800000; text-decoration-color: #800000\">│</span>\n",
       "<span style=\"color: #800000; text-decoration-color: #800000\">│</span> <span style=\"color: #800000; text-decoration-color: #800000\">❱ </span> 8 <span style=\"color: #7f7f7f; text-decoration-color: #7f7f7f\">│   </span>precision.append(<span style=\"color: #00ffff; text-decoration-color: #00ffff\">len</span>(group_actual.merge(group_pred, on=<span style=\"color: #808000; text-decoration-color: #808000\">'compare'</span>)) / <span style=\"color: #00ffff; text-decoration-color: #00ffff\">len</span>(group_pred)    <span style=\"color: #800000; text-decoration-color: #800000\">│</span>\n",
       "<span style=\"color: #800000; text-decoration-color: #800000\">│</span>   <span style=\"color: #7f7f7f; text-decoration-color: #7f7f7f\"> 9 </span><span style=\"color: #7f7f7f; text-decoration-color: #7f7f7f\">│   </span><span style=\"color: #0000ff; text-decoration-color: #0000ff\">if</span> precision[-<span style=\"color: #0000ff; text-decoration-color: #0000ff\">1</span>] + recall[-<span style=\"color: #0000ff; text-decoration-color: #0000ff\">1</span>] == <span style=\"color: #0000ff; text-decoration-color: #0000ff\">0</span>:                                                     <span style=\"color: #800000; text-decoration-color: #800000\">│</span>\n",
       "<span style=\"color: #800000; text-decoration-color: #800000\">│</span>   <span style=\"color: #7f7f7f; text-decoration-color: #7f7f7f\">10 </span><span style=\"color: #7f7f7f; text-decoration-color: #7f7f7f\">│   │   </span>f1.append(<span style=\"color: #0000ff; text-decoration-color: #0000ff\">0</span>)                                                                        <span style=\"color: #800000; text-decoration-color: #800000\">│</span>\n",
       "<span style=\"color: #800000; text-decoration-color: #800000\">│</span>   <span style=\"color: #7f7f7f; text-decoration-color: #7f7f7f\">11 </span><span style=\"color: #7f7f7f; text-decoration-color: #7f7f7f\">│   </span><span style=\"color: #0000ff; text-decoration-color: #0000ff\">else</span>:                                                                                   <span style=\"color: #800000; text-decoration-color: #800000\">│</span>\n",
       "<span style=\"color: #800000; text-decoration-color: #800000\">╰──────────────────────────────────────────────────────────────────────────────────────────────────╯</span>\n",
       "<span style=\"color: #ff0000; text-decoration-color: #ff0000; font-weight: bold\">ZeroDivisionError: </span>division by zero\n",
       "</pre>\n"
      ],
      "text/plain": [
       "\u001b[31m╭─\u001b[0m\u001b[31m──────────────────────────────\u001b[0m\u001b[31m \u001b[0m\u001b[1;31mTraceback \u001b[0m\u001b[1;2;31m(most recent call last)\u001b[0m\u001b[31m \u001b[0m\u001b[31m───────────────────────────────\u001b[0m\u001b[31m─╮\u001b[0m\n",
       "\u001b[31m│\u001b[0m in \u001b[92m<module>\u001b[0m:\u001b[94m8\u001b[0m                                                                                    \u001b[31m│\u001b[0m\n",
       "\u001b[31m│\u001b[0m                                                                                                  \u001b[31m│\u001b[0m\n",
       "\u001b[31m│\u001b[0m   \u001b[2m 5 \u001b[0m\u001b[2m│   \u001b[0mgroup_actual = df_actual[df_actual.group == group]                                      \u001b[31m│\u001b[0m\n",
       "\u001b[31m│\u001b[0m   \u001b[2m 6 \u001b[0m\u001b[2m│   \u001b[0mgroup_pred = res_v2[res_v2.group == group]                                              \u001b[31m│\u001b[0m\n",
       "\u001b[31m│\u001b[0m   \u001b[2m 7 \u001b[0m\u001b[2m│   \u001b[0mrecall.append(\u001b[96mlen\u001b[0m(group_actual.merge(group_pred, on=\u001b[33m'\u001b[0m\u001b[33mcompare\u001b[0m\u001b[33m'\u001b[0m)) / \u001b[96mlen\u001b[0m(group_actual))    \u001b[31m│\u001b[0m\n",
       "\u001b[31m│\u001b[0m \u001b[31m❱ \u001b[0m 8 \u001b[2m│   \u001b[0mprecision.append(\u001b[96mlen\u001b[0m(group_actual.merge(group_pred, on=\u001b[33m'\u001b[0m\u001b[33mcompare\u001b[0m\u001b[33m'\u001b[0m)) / \u001b[96mlen\u001b[0m(group_pred)    \u001b[31m│\u001b[0m\n",
       "\u001b[31m│\u001b[0m   \u001b[2m 9 \u001b[0m\u001b[2m│   \u001b[0m\u001b[94mif\u001b[0m precision[-\u001b[94m1\u001b[0m] + recall[-\u001b[94m1\u001b[0m] == \u001b[94m0\u001b[0m:                                                     \u001b[31m│\u001b[0m\n",
       "\u001b[31m│\u001b[0m   \u001b[2m10 \u001b[0m\u001b[2m│   │   \u001b[0mf1.append(\u001b[94m0\u001b[0m)                                                                        \u001b[31m│\u001b[0m\n",
       "\u001b[31m│\u001b[0m   \u001b[2m11 \u001b[0m\u001b[2m│   \u001b[0m\u001b[94melse\u001b[0m:                                                                                   \u001b[31m│\u001b[0m\n",
       "\u001b[31m╰──────────────────────────────────────────────────────────────────────────────────────────────────╯\u001b[0m\n",
       "\u001b[1;91mZeroDivisionError: \u001b[0mdivision by zero\n"
      ]
     },
     "metadata": {},
     "output_type": "display_data"
    }
   ],
   "source": [
    "recall = []\n",
    "precision = []\n",
    "f1 = []\n",
    "for group in tqdm(list(set(df_actual.group))):\n",
    "    group_actual = df_actual[df_actual.group == group]\n",
    "    group_pred = res_v2[res_v2.group == group]\n",
    "    recall.append(len(group_actual.merge(group_pred, on='compare')) / len(group_actual))\n",
    "    precision.append(len(group_actual.merge(group_pred, on='compare')) / len(group_pred))\n",
    "    if precision[-1] + recall[-1] == 0:\n",
    "        f1.append(0)\n",
    "    else:\n",
    "        f1.append(2 * (precision[-1] * recall[-1]) / (precision[-1] + recall[-1]))"
   ]
  },
  {
   "cell_type": "code",
   "execution_count": 39,
   "metadata": {
    "tags": []
   },
   "outputs": [
    {
     "data": {
      "text/plain": [
       "0.5"
      ]
     },
     "execution_count": 39,
     "metadata": {},
     "output_type": "execute_result"
    }
   ],
   "source": [
    "import numpy as np\n",
    "np.mean(recall)"
   ]
  },
  {
   "cell_type": "code",
   "execution_count": 83,
   "metadata": {
    "tags": []
   },
   "outputs": [
    {
     "data": {
      "text/plain": [
       "0.6256533225972404"
      ]
     },
     "execution_count": 83,
     "metadata": {},
     "output_type": "execute_result"
    }
   ],
   "source": [
    "np.mean(precision)"
   ]
  },
  {
   "cell_type": "code",
   "execution_count": 84,
   "metadata": {
    "tags": []
   },
   "outputs": [
    {
     "data": {
      "text/plain": [
       "0.550320877862728"
      ]
     },
     "execution_count": 84,
     "metadata": {},
     "output_type": "execute_result"
    }
   ],
   "source": [
    "np.mean(f1)"
   ]
  },
  {
   "cell_type": "code",
   "execution_count": null,
   "metadata": {},
   "outputs": [],
   "source": []
  }
 ],
 "metadata": {
  "kernelspec": {
   "display_name": "Python 3",
   "language": "python",
   "name": "python3"
  },
  "language_info": {
   "codemirror_mode": {
    "name": "ipython",
    "version": 3
   },
   "file_extension": ".py",
   "mimetype": "text/x-python",
   "name": "python",
   "nbconvert_exporter": "python",
   "pygments_lexer": "ipython3",
   "version": "3.8.10"
  }
 },
 "nbformat": 4,
 "nbformat_minor": 5
}
