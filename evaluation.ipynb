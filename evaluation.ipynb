{
 "cells": [
  {
   "cell_type": "code",
   "execution_count": 59,
   "id": "5558b9a2-f57a-48e8-8019-231067759e32",
   "metadata": {
    "tags": []
   },
   "outputs": [
    {
     "name": "stdout",
     "output_type": "stream",
     "text": [
      "The autoreload extension is already loaded. To reload it, use:\n",
      "  %reload_ext autoreload\n"
     ]
    },
    {
     "name": "stderr",
     "output_type": "stream",
     "text": [
      "Some weights of GPTNeoForSequenceClassification were not initialized from the model checkpoint at EleutherAI/gpt-neo-1.3B and are newly initialized: ['transformer.h.11.attn.attention.bias', 'score.weight', 'transformer.h.5.attn.attention.bias', 'transformer.h.15.attn.attention.bias', 'transformer.h.9.attn.attention.bias', 'transformer.h.23.attn.attention.bias', 'transformer.h.17.attn.attention.bias', 'transformer.h.3.attn.attention.bias', 'transformer.h.7.attn.attention.bias', 'transformer.h.21.attn.attention.bias', 'transformer.h.13.attn.attention.bias', 'transformer.h.19.attn.attention.bias', 'transformer.h.1.attn.attention.bias']\n",
      "You should probably TRAIN this model on a down-stream task to be able to use it for predictions and inference.\n"
     ]
    },
    {
     "name": "stdout",
     "output_type": "stream",
     "text": [
      "GPTNeoForSequenceClassification(\n",
      "  (transformer): GPTNeoModel(\n",
      "    (wte): Embedding(50257, 2048)\n",
      "    (wpe): Embedding(2048, 2048)\n",
      "    (drop): Dropout(p=0.0, inplace=False)\n",
      "    (h): ModuleList(\n",
      "      (0-23): 24 x GPTNeoBlock(\n",
      "        (ln_1): LayerNorm((2048,), eps=1e-05, elementwise_affine=True)\n",
      "        (attn): GPTNeoAttention(\n",
      "          (attention): GPTNeoSelfAttention(\n",
      "            (attn_dropout): Dropout(p=0.0, inplace=False)\n",
      "            (resid_dropout): Dropout(p=0.0, inplace=False)\n",
      "            (k_proj): Linear(in_features=2048, out_features=2048, bias=False)\n",
      "            (v_proj): Linear(in_features=2048, out_features=2048, bias=False)\n",
      "            (q_proj): Linear(in_features=2048, out_features=2048, bias=False)\n",
      "            (out_proj): Linear(in_features=2048, out_features=2048, bias=True)\n",
      "          )\n",
      "        )\n",
      "        (ln_2): LayerNorm((2048,), eps=1e-05, elementwise_affine=True)\n",
      "        (mlp): GPTNeoMLP(\n",
      "          (c_fc): Linear(in_features=2048, out_features=8192, bias=True)\n",
      "          (c_proj): Linear(in_features=8192, out_features=2048, bias=True)\n",
      "          (act): NewGELUActivation()\n",
      "          (dropout): Dropout(p=0.0, inplace=False)\n",
      "        )\n",
      "      )\n",
      "    )\n",
      "    (ln_f): LayerNorm((2048,), eps=1e-05, elementwise_affine=True)\n",
      "  )\n",
      "  (score): Linear(in_features=2048, out_features=1, bias=True)\n",
      ")\n",
      "Changing layer  23\n",
      "Changing layer  22\n",
      "Changing layer  21\n",
      "Changing layer  20\n",
      "Changing layer  19\n"
     ]
    }
   ],
   "source": [
    "import pandas as pd\n",
    "%load_ext autoreload\n",
    "%autoreload 2\n",
    "import torch\n",
    "from transformers import GPTNeoForSequenceClassification, GPTNeoForCausalLM, GPT2Tokenizer\n",
    "from model import GPTNeoForSequenceClassificationBinary\n",
    "import lightning.pytorch as pl\n",
    "from model import GPTSequenceClassifiationModule\n",
    "model = GPTSequenceClassifiationModule.load_from_checkpoint(\"/root/autodl-tmp/runs/finetune_new_lr.ckpt\")\n",
    "tokenizer = GPT2Tokenizer.from_pretrained(\"EleutherAI/gpt-neo-1.3B\")"
   ]
  },
  {
   "cell_type": "code",
   "execution_count": 60,
   "id": "812ecc6f-25f8-432b-be56-5185f0506832",
   "metadata": {
    "tags": []
   },
   "outputs": [],
   "source": [
    "model=model.eval()\n",
    "model=model.cuda()"
   ]
  },
  {
   "cell_type": "code",
   "execution_count": 61,
   "id": "2c3b2a80",
   "metadata": {
    "tags": []
   },
   "outputs": [],
   "source": [
    "test_name='/root/Taxonomy-GPT/data/wordnet_all_false_july4_test.csv'\n",
    "actual_tree='/root/Taxonomy-GPT/data/bansal_wordnet_true_pairs.csv'"
   ]
  },
  {
   "cell_type": "code",
   "execution_count": 62,
   "id": "eadbc954-5449-4585-bd4b-34089b924bc3",
   "metadata": {
    "tags": []
   },
   "outputs": [
    {
     "name": "stderr",
     "output_type": "stream",
     "text": [
      "Found cached dataset csv (/root/.cache/huggingface/datasets/csv/default-78e6d1eb18fc7984/0.0.0/eea64c71ca8b46dd3f537ed218fc9bf495d5707789152eb2764f5c78fa66d59d)\n",
      "Loading cached processed dataset at /root/.cache/huggingface/datasets/csv/default-78e6d1eb18fc7984/0.0.0/eea64c71ca8b46dd3f537ed218fc9bf495d5707789152eb2764f5c78fa66d59d/cache-efeade2dc67e1dd3.arrow\n"
     ]
    }
   ],
   "source": [
    "from dataset import get_taxonomy_dataset, get_taxonomy_dataset_binary\n",
    "dataset = get_taxonomy_dataset_binary(test_name, entire_dataset=True,remove_columns=True)"
   ]
  },
  {
   "cell_type": "code",
   "execution_count": 63,
   "id": "7cd59f06-9b2f-4bf6-913d-5b6565daf4a7",
   "metadata": {
    "tags": []
   },
   "outputs": [
    {
     "data": {
      "text/plain": [
       "{'test': Dataset({\n",
       "     features: ['flag', 'input_ids', 'labels'],\n",
       "     num_rows: 53968\n",
       " })}"
      ]
     },
     "execution_count": 63,
     "metadata": {},
     "output_type": "execute_result"
    }
   ],
   "source": [
    "dataset"
   ]
  },
  {
   "cell_type": "code",
   "execution_count": 64,
   "id": "eaffe6cf-76fe-4af8-ab60-49b3dbdd29d8",
   "metadata": {
    "tags": []
   },
   "outputs": [],
   "source": [
    "def format_dataset(example,tokenizer):\n",
    "    prompt_template = \"I am doing the taxonomy research. I think {child} is a subtopic of {parent}\"\n",
    "    prompt = prompt_template.format(child=example['child'], parent=example['parent'])\n",
    "    example['input_ids'] = tokenizer.encode(prompt)\n",
    "    return example\n",
    "\n",
    "def test_dataloader(str_path,batch_size):\n",
    "    dataset= get_taxonomy_dataset_binary(str_path,entire_dataset=True)\n",
    "    dataset = dataset['test']\n",
    "    dataset = dataset.map(lambda example: format_dataset(example,tokenizer))\n",
    "    dataset = dataset.remove_columns(['child', 'parent', 'group'])\n",
    "\n",
    "    return torch.utils.data.DataLoader(\n",
    "        dataset,\n",
    "        batch_size=batch_size,\n",
    "        collate_fn=DataCollatorWithPadding(tokenizer),\n",
    "        num_workers=4,\n",
    "    )"
   ]
  },
  {
   "cell_type": "code",
   "execution_count": 65,
   "id": "610f19f2-1d4c-4c89-876e-73102509d29b",
   "metadata": {
    "tags": []
   },
   "outputs": [
    {
     "name": "stderr",
     "output_type": "stream",
     "text": [
      "Found cached dataset csv (/root/.cache/huggingface/datasets/csv/default-78e6d1eb18fc7984/0.0.0/eea64c71ca8b46dd3f537ed218fc9bf495d5707789152eb2764f5c78fa66d59d)\n",
      "Loading cached processed dataset at /root/.cache/huggingface/datasets/csv/default-78e6d1eb18fc7984/0.0.0/eea64c71ca8b46dd3f537ed218fc9bf495d5707789152eb2764f5c78fa66d59d/cache-efeade2dc67e1dd3.arrow\n",
      "Loading cached processed dataset at /root/.cache/huggingface/datasets/csv/default-78e6d1eb18fc7984/0.0.0/eea64c71ca8b46dd3f537ed218fc9bf495d5707789152eb2764f5c78fa66d59d/cache-67b183b76ee90bd1.arrow\n"
     ]
    },
    {
     "data": {
      "application/vnd.jupyter.widget-view+json": {
       "model_id": "30b595abe5cf441bb946efb0946d5ebf",
       "version_major": 2,
       "version_minor": 0
      },
      "text/plain": [
       "  0%|          | 0/844 [00:00<?, ?it/s]"
      ]
     },
     "metadata": {},
     "output_type": "display_data"
    }
   ],
   "source": [
    "from torch.utils.data import DataLoader\n",
    "from transformers.data.data_collator import DataCollatorWithPadding\n",
    "from tqdm.notebook import tqdm\n",
    "import torch \n",
    "\n",
    "results = []\n",
    "tokenizer.pad_token = tokenizer.eos_token\n",
    "data_collator = DataCollatorWithPadding(tokenizer)\n",
    "\n",
    "testdataloader = test_dataloader(test_name, 64)\n",
    "with torch.no_grad():\n",
    "    for step, batch in enumerate(tqdm(testdataloader)):\n",
    "        batch = batch.to('cuda')\n",
    "        output = model(batch['input_ids'], batch['attention_mask'])\n",
    "        predicted_labels = torch.sigmoid(output)\n",
    "        results.extend(predicted_labels.cpu().detach().numpy().tolist())"
   ]
  },
  {
   "cell_type": "code",
   "execution_count": 86,
   "id": "84f2bd49-6192-4f1b-a60b-899a2469380f",
   "metadata": {
    "tags": []
   },
   "outputs": [],
   "source": [
    "import pandas as pd\n",
    "df = pd.read_csv(test_name)\n",
    "df['predict'] = results\n",
    "df['pred_flag']=[True if i>0.5 else False for i in df['predict']]"
   ]
  },
  {
   "cell_type": "code",
   "execution_count": 87,
   "id": "2d52d0e8-0b4e-4b97-b35a-35e51ffa2258",
   "metadata": {
    "tags": []
   },
   "outputs": [],
   "source": [
    "df.to_csv('result/wordnet/finetune.csv', index=False)"
   ]
  },
  {
   "cell_type": "code",
   "execution_count": 88,
   "id": "ee92ee0e-b8a9-4647-8a74-1faff2fb6aeb",
   "metadata": {
    "tags": []
   },
   "outputs": [
    {
     "name": "stdout",
     "output_type": "stream",
     "text": [
      "0.6625784144747973\n",
      "0.634859737069568\n",
      "0.7111815948241924\n",
      "0.9320523273050697\n"
     ]
    }
   ],
   "source": [
    "from sklearn.metrics import accuracy_score, f1_score, precision_score, recall_score, classification_report, confusion_matrix\n",
    "y_test=df['flag']\n",
    "y_pred=df['pred_flag']\n",
    "print(f1_score(y_test, y_pred, average=\"macro\"))\n",
    "print(precision_score(y_test, y_pred, average=\"macro\"))\n",
    "print(recall_score(y_test, y_pred, average=\"macro\"))\n",
    "print(accuracy_score(y_test, y_pred))"
   ]
  },
  {
   "cell_type": "code",
   "execution_count": 89,
   "id": "a99fedf4-98ad-47b7-8221-c461596731db",
   "metadata": {
    "tags": []
   },
   "outputs": [
    {
     "name": "stdout",
     "output_type": "stream",
     "text": [
      "              precision    recall  f1-score   support\n",
      "\n",
      "       False       0.98      0.95      0.96     51767\n",
      "        True       0.29      0.47      0.36      2201\n",
      "\n",
      "    accuracy                           0.93     53968\n",
      "   macro avg       0.63      0.71      0.66     53968\n",
      "weighted avg       0.95      0.93      0.94     53968\n",
      "\n"
     ]
    }
   ],
   "source": [
    "print(classification_report(y_test, y_pred))"
   ]
  },
  {
   "cell_type": "markdown",
   "id": "6e238dff",
   "metadata": {},
   "source": [
    "maximum spanning tree"
   ]
  },
  {
   "cell_type": "code",
   "execution_count": 90,
   "id": "793f8f04",
   "metadata": {
    "tags": []
   },
   "outputs": [
    {
     "data": {
      "text/html": [
       "<div>\n",
       "<style scoped>\n",
       "    .dataframe tbody tr th:only-of-type {\n",
       "        vertical-align: middle;\n",
       "    }\n",
       "\n",
       "    .dataframe tbody tr th {\n",
       "        vertical-align: top;\n",
       "    }\n",
       "\n",
       "    .dataframe thead th {\n",
       "        text-align: right;\n",
       "    }\n",
       "</style>\n",
       "<table border=\"1\" class=\"dataframe\">\n",
       "  <thead>\n",
       "    <tr style=\"text-align: right;\">\n",
       "      <th></th>\n",
       "      <th>parent</th>\n",
       "      <th>child</th>\n",
       "      <th>group</th>\n",
       "      <th>flag</th>\n",
       "      <th>predict</th>\n",
       "      <th>pred_flag</th>\n",
       "    </tr>\n",
       "  </thead>\n",
       "  <tbody>\n",
       "    <tr>\n",
       "      <th>0</th>\n",
       "      <td>explosion</td>\n",
       "      <td>blowback</td>\n",
       "      <td>647</td>\n",
       "      <td>True</td>\n",
       "      <td>0.235725</td>\n",
       "      <td>False</td>\n",
       "    </tr>\n",
       "    <tr>\n",
       "      <th>1</th>\n",
       "      <td>explosion</td>\n",
       "      <td>blast</td>\n",
       "      <td>647</td>\n",
       "      <td>True</td>\n",
       "      <td>0.524076</td>\n",
       "      <td>True</td>\n",
       "    </tr>\n",
       "    <tr>\n",
       "      <th>2</th>\n",
       "      <td>explosion</td>\n",
       "      <td>bomb_blast</td>\n",
       "      <td>647</td>\n",
       "      <td>False</td>\n",
       "      <td>0.809346</td>\n",
       "      <td>True</td>\n",
       "    </tr>\n",
       "    <tr>\n",
       "      <th>3</th>\n",
       "      <td>explosion</td>\n",
       "      <td>airburst</td>\n",
       "      <td>647</td>\n",
       "      <td>True</td>\n",
       "      <td>0.819986</td>\n",
       "      <td>True</td>\n",
       "    </tr>\n",
       "    <tr>\n",
       "      <th>4</th>\n",
       "      <td>explosion</td>\n",
       "      <td>big_bang</td>\n",
       "      <td>647</td>\n",
       "      <td>True</td>\n",
       "      <td>0.633784</td>\n",
       "      <td>True</td>\n",
       "    </tr>\n",
       "    <tr>\n",
       "      <th>...</th>\n",
       "      <td>...</td>\n",
       "      <td>...</td>\n",
       "      <td>...</td>\n",
       "      <td>...</td>\n",
       "      <td>...</td>\n",
       "      <td>...</td>\n",
       "    </tr>\n",
       "    <tr>\n",
       "      <th>53963</th>\n",
       "      <td>linolenic_acid</td>\n",
       "      <td>oleic_acid</td>\n",
       "      <td>760</td>\n",
       "      <td>False</td>\n",
       "      <td>0.107244</td>\n",
       "      <td>False</td>\n",
       "    </tr>\n",
       "    <tr>\n",
       "      <th>53964</th>\n",
       "      <td>linolenic_acid</td>\n",
       "      <td>linoleic_acid</td>\n",
       "      <td>760</td>\n",
       "      <td>False</td>\n",
       "      <td>0.123907</td>\n",
       "      <td>False</td>\n",
       "    </tr>\n",
       "    <tr>\n",
       "      <th>53965</th>\n",
       "      <td>linolenic_acid</td>\n",
       "      <td>docosahexaenoic_acid</td>\n",
       "      <td>760</td>\n",
       "      <td>False</td>\n",
       "      <td>0.117568</td>\n",
       "      <td>False</td>\n",
       "    </tr>\n",
       "    <tr>\n",
       "      <th>53966</th>\n",
       "      <td>linolenic_acid</td>\n",
       "      <td>eicosapentaenoic_acid</td>\n",
       "      <td>760</td>\n",
       "      <td>False</td>\n",
       "      <td>0.118141</td>\n",
       "      <td>False</td>\n",
       "    </tr>\n",
       "    <tr>\n",
       "      <th>53967</th>\n",
       "      <td>linolenic_acid</td>\n",
       "      <td>alpha-linolenic_acid</td>\n",
       "      <td>760</td>\n",
       "      <td>False</td>\n",
       "      <td>0.288966</td>\n",
       "      <td>False</td>\n",
       "    </tr>\n",
       "  </tbody>\n",
       "</table>\n",
       "<p>53968 rows × 6 columns</p>\n",
       "</div>"
      ],
      "text/plain": [
       "               parent                  child  group   flag   predict  \\\n",
       "0           explosion               blowback    647   True  0.235725   \n",
       "1           explosion                  blast    647   True  0.524076   \n",
       "2           explosion             bomb_blast    647  False  0.809346   \n",
       "3           explosion               airburst    647   True  0.819986   \n",
       "4           explosion               big_bang    647   True  0.633784   \n",
       "...               ...                    ...    ...    ...       ...   \n",
       "53963  linolenic_acid             oleic_acid    760  False  0.107244   \n",
       "53964  linolenic_acid          linoleic_acid    760  False  0.123907   \n",
       "53965  linolenic_acid   docosahexaenoic_acid    760  False  0.117568   \n",
       "53966  linolenic_acid  eicosapentaenoic_acid    760  False  0.118141   \n",
       "53967  linolenic_acid   alpha-linolenic_acid    760  False  0.288966   \n",
       "\n",
       "       pred_flag  \n",
       "0          False  \n",
       "1           True  \n",
       "2           True  \n",
       "3           True  \n",
       "4           True  \n",
       "...          ...  \n",
       "53963      False  \n",
       "53964      False  \n",
       "53965      False  \n",
       "53966      False  \n",
       "53967      False  \n",
       "\n",
       "[53968 rows x 6 columns]"
      ]
     },
     "execution_count": 90,
     "metadata": {},
     "output_type": "execute_result"
    }
   ],
   "source": [
    "df"
   ]
  },
  {
   "cell_type": "code",
   "execution_count": 91,
   "id": "b664b6c5",
   "metadata": {
    "tags": []
   },
   "outputs": [],
   "source": [
    "df_t=df\n",
    "\n",
    "def convert_to_ancestor_graph(G):\n",
    "    '''Converts a (parent) tree to a graph with edges for all ancestor relations in the tree.'''\n",
    "    G_anc = nx.DiGraph()\n",
    "    for node in G.nodes():\n",
    "        for anc in nx.ancestors(G, node):\n",
    "            G_anc.add_edge(anc, node)\n",
    "    return G_anc"
   ]
  },
  {
   "cell_type": "code",
   "execution_count": 92,
   "id": "c8559710-0b31-4e13-aed5-1485ba6b5583",
   "metadata": {
    "tags": []
   },
   "outputs": [
    {
     "data": {
      "application/vnd.jupyter.widget-view+json": {
       "model_id": "f274666006df40b184b09e8c57111d0f",
       "version_major": 2,
       "version_minor": 0
      },
      "text/plain": [
       "  0%|          | 0/114 [00:00<?, ?it/s]"
      ]
     },
     "metadata": {},
     "output_type": "display_data"
    }
   ],
   "source": [
    "import networkx as nx\n",
    "\n",
    "forest=[]\n",
    "for g in tqdm(list(set(df_t.group))):\n",
    "    df_tree=df_t[df_t.group==g]\n",
    "    graph = nx.DiGraph()\n",
    "    parents=df_tree['parent'].tolist()\n",
    "    children=df_tree['child'].tolist()\n",
    "    probabilities=df_tree['predict'].tolist()\n",
    "    nodes = set(parents + children)\n",
    "    for node in nodes:\n",
    "        graph.add_node(node)\n",
    "    for i in range(len(parents)):\n",
    "        graph.add_edge(parents[i], children[i], weight=probabilities[i])\n",
    "    # print(nx.is_connected(graph))\n",
    "    T=nx.maximum_spanning_arborescence(graph)\n",
    "    T = convert_to_ancestor_graph(T)\n",
    "    df=nx.to_pandas_edgelist(T)\n",
    "    df['group']=g\n",
    "    forest.append(df)"
   ]
  },
  {
   "cell_type": "code",
   "execution_count": 93,
   "id": "7a30cee8-b62e-4cd8-bb1f-10045d3bc9ea",
   "metadata": {
    "tags": []
   },
   "outputs": [],
   "source": [
    "res_v2=pd.concat(forest, ignore_index=True)"
   ]
  },
  {
   "cell_type": "code",
   "execution_count": 94,
   "id": "e09ccffd",
   "metadata": {
    "tags": []
   },
   "outputs": [
    {
     "data": {
      "text/html": [
       "<div>\n",
       "<style scoped>\n",
       "    .dataframe tbody tr th:only-of-type {\n",
       "        vertical-align: middle;\n",
       "    }\n",
       "\n",
       "    .dataframe tbody tr th {\n",
       "        vertical-align: top;\n",
       "    }\n",
       "\n",
       "    .dataframe thead th {\n",
       "        text-align: right;\n",
       "    }\n",
       "</style>\n",
       "<table border=\"1\" class=\"dataframe\">\n",
       "  <thead>\n",
       "    <tr style=\"text-align: right;\">\n",
       "      <th></th>\n",
       "      <th>source</th>\n",
       "      <th>target</th>\n",
       "      <th>group</th>\n",
       "    </tr>\n",
       "  </thead>\n",
       "  <tbody>\n",
       "    <tr>\n",
       "      <th>0</th>\n",
       "      <td>fragmentation</td>\n",
       "      <td>backfire</td>\n",
       "      <td>647</td>\n",
       "    </tr>\n",
       "    <tr>\n",
       "      <th>1</th>\n",
       "      <td>fragmentation</td>\n",
       "      <td>big_bang</td>\n",
       "      <td>647</td>\n",
       "    </tr>\n",
       "    <tr>\n",
       "      <th>2</th>\n",
       "      <td>fragmentation</td>\n",
       "      <td>bomb_blast</td>\n",
       "      <td>647</td>\n",
       "    </tr>\n",
       "    <tr>\n",
       "      <th>3</th>\n",
       "      <td>fragmentation</td>\n",
       "      <td>backblast</td>\n",
       "      <td>647</td>\n",
       "    </tr>\n",
       "    <tr>\n",
       "      <th>4</th>\n",
       "      <td>fragmentation</td>\n",
       "      <td>nuclear_explosion</td>\n",
       "      <td>647</td>\n",
       "    </tr>\n",
       "    <tr>\n",
       "      <th>...</th>\n",
       "      <td>...</td>\n",
       "      <td>...</td>\n",
       "      <td>...</td>\n",
       "    </tr>\n",
       "    <tr>\n",
       "      <th>3145</th>\n",
       "      <td>unsaturated_fatty_acid</td>\n",
       "      <td>monounsaturated_fatty_acid</td>\n",
       "      <td>760</td>\n",
       "    </tr>\n",
       "    <tr>\n",
       "      <th>3146</th>\n",
       "      <td>unsaturated_fatty_acid</td>\n",
       "      <td>linolenic_acid</td>\n",
       "      <td>760</td>\n",
       "    </tr>\n",
       "    <tr>\n",
       "      <th>3147</th>\n",
       "      <td>unsaturated_fatty_acid</td>\n",
       "      <td>alpha-linolenic_acid</td>\n",
       "      <td>760</td>\n",
       "    </tr>\n",
       "    <tr>\n",
       "      <th>3148</th>\n",
       "      <td>unsaturated_fatty_acid</td>\n",
       "      <td>omega-6_fatty_acid</td>\n",
       "      <td>760</td>\n",
       "    </tr>\n",
       "    <tr>\n",
       "      <th>3149</th>\n",
       "      <td>unsaturated_fatty_acid</td>\n",
       "      <td>omega-3_fatty_acid</td>\n",
       "      <td>760</td>\n",
       "    </tr>\n",
       "  </tbody>\n",
       "</table>\n",
       "<p>3150 rows × 3 columns</p>\n",
       "</div>"
      ],
      "text/plain": [
       "                      source                      target  group\n",
       "0              fragmentation                    backfire    647\n",
       "1              fragmentation                    big_bang    647\n",
       "2              fragmentation                  bomb_blast    647\n",
       "3              fragmentation                   backblast    647\n",
       "4              fragmentation           nuclear_explosion    647\n",
       "...                      ...                         ...    ...\n",
       "3145  unsaturated_fatty_acid  monounsaturated_fatty_acid    760\n",
       "3146  unsaturated_fatty_acid              linolenic_acid    760\n",
       "3147  unsaturated_fatty_acid        alpha-linolenic_acid    760\n",
       "3148  unsaturated_fatty_acid          omega-6_fatty_acid    760\n",
       "3149  unsaturated_fatty_acid          omega-3_fatty_acid    760\n",
       "\n",
       "[3150 rows x 3 columns]"
      ]
     },
     "execution_count": 94,
     "metadata": {},
     "output_type": "execute_result"
    }
   ],
   "source": [
    "res_v2"
   ]
  },
  {
   "cell_type": "code",
   "execution_count": 95,
   "id": "d1dc3f75-c1d6-4b3c-8664-6993acfbd367",
   "metadata": {
    "tags": []
   },
   "outputs": [
    {
     "data": {
      "text/plain": [
       "group\n",
       "677    124\n",
       "651     82\n",
       "741     72\n",
       "666     68\n",
       "693     66\n",
       "      ... \n",
       "737     11\n",
       "746     10\n",
       "659     10\n",
       "682     10\n",
       "655     10\n",
       "Name: count, Length: 114, dtype: int64"
      ]
     },
     "execution_count": 95,
     "metadata": {},
     "output_type": "execute_result"
    }
   ],
   "source": [
    "res_v2.columns=['parent','child','group']\n",
    "res_v2['compare']=res_v2['parent']+res_v2['child']+res_v2['group'].astype(str)\n",
    "res_v2['group'].value_counts()"
   ]
  },
  {
   "cell_type": "code",
   "execution_count": 96,
   "id": "aa3f2688-5afb-4d8f-898f-98a8e16475e9",
   "metadata": {
    "tags": []
   },
   "outputs": [],
   "source": [
    "df_actual=pd.read_csv(actual_tree)\n",
    "df_actual=df_actual[df_actual['group']>= 647]\n",
    "df_actual['compare']=df_actual['parent']+df_actual['child']+df_actual['group'].astype(str)"
   ]
  },
  {
   "cell_type": "code",
   "execution_count": 97,
   "id": "3e68b6fc-8c8a-46eb-a38d-f1e822a45c31",
   "metadata": {
    "tags": []
   },
   "outputs": [
    {
     "data": {
      "application/vnd.jupyter.widget-view+json": {
       "model_id": "75e0999fd26845c7b3a26c18cdba58b8",
       "version_major": 2,
       "version_minor": 0
      },
      "text/plain": [
       "  0%|          | 0/114 [00:00<?, ?it/s]"
      ]
     },
     "metadata": {},
     "output_type": "display_data"
    },
    {
     "data": {
      "text/plain": [
       "group\n",
       "677    87\n",
       "666    87\n",
       "758    78\n",
       "741    76\n",
       "691    76\n",
       "       ..\n",
       "746    15\n",
       "682    14\n",
       "647    14\n",
       "737    13\n",
       "661    13\n",
       "Name: count, Length: 114, dtype: int64"
      ]
     },
     "execution_count": 97,
     "metadata": {},
     "output_type": "execute_result"
    }
   ],
   "source": [
    "forest=[]\n",
    "for g in tqdm(list(set(df_actual.group))):\n",
    "    df_tree=df_actual[df_actual.group==g]\n",
    "    graph = nx.DiGraph()\n",
    "    parents=df_tree['parent'].tolist()\n",
    "    children=df_tree['child'].tolist()\n",
    "    nodes = set(parents + children)\n",
    "    for node in nodes:\n",
    "        graph.add_node(node)\n",
    "    for i in range(len(parents)):\n",
    "        graph.add_edge(parents[i], children[i])\n",
    "    # print(nx.is_connected(graph))\n",
    "    T = convert_to_ancestor_graph(graph)\n",
    "    df=nx.to_pandas_edgelist(T)\n",
    "    df['group']=g\n",
    "    forest.append(df)\n",
    "\n",
    "df_actual =pd.concat(forest, ignore_index=True)\n",
    "df_actual.columns=['parent','child','group']\n",
    "df_actual['compare']=df_actual['parent']+df_actual['child']+df_actual['group'].astype(str)\n",
    "df_actual['group'].value_counts()"
   ]
  },
  {
   "cell_type": "code",
   "execution_count": 98,
   "id": "3f53dae4",
   "metadata": {
    "tags": []
   },
   "outputs": [
    {
     "data": {
      "text/html": [
       "<div>\n",
       "<style scoped>\n",
       "    .dataframe tbody tr th:only-of-type {\n",
       "        vertical-align: middle;\n",
       "    }\n",
       "\n",
       "    .dataframe tbody tr th {\n",
       "        vertical-align: top;\n",
       "    }\n",
       "\n",
       "    .dataframe thead th {\n",
       "        text-align: right;\n",
       "    }\n",
       "</style>\n",
       "<table border=\"1\" class=\"dataframe\">\n",
       "  <thead>\n",
       "    <tr style=\"text-align: right;\">\n",
       "      <th></th>\n",
       "      <th>parent</th>\n",
       "      <th>child</th>\n",
       "      <th>group</th>\n",
       "      <th>compare</th>\n",
       "    </tr>\n",
       "  </thead>\n",
       "  <tbody>\n",
       "    <tr>\n",
       "      <th>0</th>\n",
       "      <td>explosion</td>\n",
       "      <td>backfire</td>\n",
       "      <td>647</td>\n",
       "      <td>explosionbackfire647</td>\n",
       "    </tr>\n",
       "    <tr>\n",
       "      <th>1</th>\n",
       "      <td>explosion</td>\n",
       "      <td>big_bang</td>\n",
       "      <td>647</td>\n",
       "      <td>explosionbig_bang647</td>\n",
       "    </tr>\n",
       "    <tr>\n",
       "      <th>2</th>\n",
       "      <td>explosion</td>\n",
       "      <td>bomb_blast</td>\n",
       "      <td>647</td>\n",
       "      <td>explosionbomb_blast647</td>\n",
       "    </tr>\n",
       "    <tr>\n",
       "      <th>3</th>\n",
       "      <td>explosion</td>\n",
       "      <td>backblast</td>\n",
       "      <td>647</td>\n",
       "      <td>explosionbackblast647</td>\n",
       "    </tr>\n",
       "    <tr>\n",
       "      <th>4</th>\n",
       "      <td>explosion</td>\n",
       "      <td>nuclear_explosion</td>\n",
       "      <td>647</td>\n",
       "      <td>explosionnuclear_explosion647</td>\n",
       "    </tr>\n",
       "    <tr>\n",
       "      <th>5</th>\n",
       "      <td>explosion</td>\n",
       "      <td>blast</td>\n",
       "      <td>647</td>\n",
       "      <td>explosionblast647</td>\n",
       "    </tr>\n",
       "    <tr>\n",
       "      <th>6</th>\n",
       "      <td>explosion</td>\n",
       "      <td>fragmentation</td>\n",
       "      <td>647</td>\n",
       "      <td>explosionfragmentation647</td>\n",
       "    </tr>\n",
       "    <tr>\n",
       "      <th>7</th>\n",
       "      <td>explosion</td>\n",
       "      <td>airburst</td>\n",
       "      <td>647</td>\n",
       "      <td>explosionairburst647</td>\n",
       "    </tr>\n",
       "    <tr>\n",
       "      <th>8</th>\n",
       "      <td>explosion</td>\n",
       "      <td>blowback</td>\n",
       "      <td>647</td>\n",
       "      <td>explosionblowback647</td>\n",
       "    </tr>\n",
       "    <tr>\n",
       "      <th>9</th>\n",
       "      <td>explosion</td>\n",
       "      <td>inflation</td>\n",
       "      <td>647</td>\n",
       "      <td>explosioninflation647</td>\n",
       "    </tr>\n",
       "    <tr>\n",
       "      <th>10</th>\n",
       "      <td>blast</td>\n",
       "      <td>bomb_blast</td>\n",
       "      <td>647</td>\n",
       "      <td>blastbomb_blast647</td>\n",
       "    </tr>\n",
       "    <tr>\n",
       "      <th>11</th>\n",
       "      <td>blast</td>\n",
       "      <td>nuclear_explosion</td>\n",
       "      <td>647</td>\n",
       "      <td>blastnuclear_explosion647</td>\n",
       "    </tr>\n",
       "    <tr>\n",
       "      <th>12</th>\n",
       "      <td>bomb_blast</td>\n",
       "      <td>nuclear_explosion</td>\n",
       "      <td>647</td>\n",
       "      <td>bomb_blastnuclear_explosion647</td>\n",
       "    </tr>\n",
       "    <tr>\n",
       "      <th>13</th>\n",
       "      <td>blowback</td>\n",
       "      <td>backblast</td>\n",
       "      <td>647</td>\n",
       "      <td>blowbackbackblast647</td>\n",
       "    </tr>\n",
       "  </tbody>\n",
       "</table>\n",
       "</div>"
      ],
      "text/plain": [
       "        parent              child  group                         compare\n",
       "0    explosion           backfire    647            explosionbackfire647\n",
       "1    explosion           big_bang    647            explosionbig_bang647\n",
       "2    explosion         bomb_blast    647          explosionbomb_blast647\n",
       "3    explosion          backblast    647           explosionbackblast647\n",
       "4    explosion  nuclear_explosion    647   explosionnuclear_explosion647\n",
       "5    explosion              blast    647               explosionblast647\n",
       "6    explosion      fragmentation    647       explosionfragmentation647\n",
       "7    explosion           airburst    647            explosionairburst647\n",
       "8    explosion           blowback    647            explosionblowback647\n",
       "9    explosion          inflation    647           explosioninflation647\n",
       "10       blast         bomb_blast    647              blastbomb_blast647\n",
       "11       blast  nuclear_explosion    647       blastnuclear_explosion647\n",
       "12  bomb_blast  nuclear_explosion    647  bomb_blastnuclear_explosion647\n",
       "13    blowback          backblast    647            blowbackbackblast647"
      ]
     },
     "execution_count": 98,
     "metadata": {},
     "output_type": "execute_result"
    }
   ],
   "source": [
    "df_actual[df_actual.group==647]"
   ]
  },
  {
   "cell_type": "code",
   "execution_count": 99,
   "id": "87651263-deca-4a72-b8ce-8b455f8dfa1c",
   "metadata": {
    "tags": []
   },
   "outputs": [
    {
     "data": {
      "text/html": [
       "<div>\n",
       "<style scoped>\n",
       "    .dataframe tbody tr th:only-of-type {\n",
       "        vertical-align: middle;\n",
       "    }\n",
       "\n",
       "    .dataframe tbody tr th {\n",
       "        vertical-align: top;\n",
       "    }\n",
       "\n",
       "    .dataframe thead th {\n",
       "        text-align: right;\n",
       "    }\n",
       "</style>\n",
       "<table border=\"1\" class=\"dataframe\">\n",
       "  <thead>\n",
       "    <tr style=\"text-align: right;\">\n",
       "      <th></th>\n",
       "      <th>parent</th>\n",
       "      <th>child</th>\n",
       "      <th>group</th>\n",
       "      <th>compare</th>\n",
       "    </tr>\n",
       "  </thead>\n",
       "  <tbody>\n",
       "    <tr>\n",
       "      <th>0</th>\n",
       "      <td>fragmentation</td>\n",
       "      <td>backfire</td>\n",
       "      <td>647</td>\n",
       "      <td>fragmentationbackfire647</td>\n",
       "    </tr>\n",
       "    <tr>\n",
       "      <th>1</th>\n",
       "      <td>fragmentation</td>\n",
       "      <td>big_bang</td>\n",
       "      <td>647</td>\n",
       "      <td>fragmentationbig_bang647</td>\n",
       "    </tr>\n",
       "    <tr>\n",
       "      <th>2</th>\n",
       "      <td>fragmentation</td>\n",
       "      <td>bomb_blast</td>\n",
       "      <td>647</td>\n",
       "      <td>fragmentationbomb_blast647</td>\n",
       "    </tr>\n",
       "    <tr>\n",
       "      <th>3</th>\n",
       "      <td>fragmentation</td>\n",
       "      <td>backblast</td>\n",
       "      <td>647</td>\n",
       "      <td>fragmentationbackblast647</td>\n",
       "    </tr>\n",
       "    <tr>\n",
       "      <th>4</th>\n",
       "      <td>fragmentation</td>\n",
       "      <td>nuclear_explosion</td>\n",
       "      <td>647</td>\n",
       "      <td>fragmentationnuclear_explosion647</td>\n",
       "    </tr>\n",
       "    <tr>\n",
       "      <th>5</th>\n",
       "      <td>fragmentation</td>\n",
       "      <td>blast</td>\n",
       "      <td>647</td>\n",
       "      <td>fragmentationblast647</td>\n",
       "    </tr>\n",
       "    <tr>\n",
       "      <th>6</th>\n",
       "      <td>fragmentation</td>\n",
       "      <td>explosion</td>\n",
       "      <td>647</td>\n",
       "      <td>fragmentationexplosion647</td>\n",
       "    </tr>\n",
       "    <tr>\n",
       "      <th>7</th>\n",
       "      <td>fragmentation</td>\n",
       "      <td>airburst</td>\n",
       "      <td>647</td>\n",
       "      <td>fragmentationairburst647</td>\n",
       "    </tr>\n",
       "    <tr>\n",
       "      <th>8</th>\n",
       "      <td>fragmentation</td>\n",
       "      <td>blowback</td>\n",
       "      <td>647</td>\n",
       "      <td>fragmentationblowback647</td>\n",
       "    </tr>\n",
       "    <tr>\n",
       "      <th>9</th>\n",
       "      <td>fragmentation</td>\n",
       "      <td>inflation</td>\n",
       "      <td>647</td>\n",
       "      <td>fragmentationinflation647</td>\n",
       "    </tr>\n",
       "    <tr>\n",
       "      <th>10</th>\n",
       "      <td>explosion</td>\n",
       "      <td>backfire</td>\n",
       "      <td>647</td>\n",
       "      <td>explosionbackfire647</td>\n",
       "    </tr>\n",
       "    <tr>\n",
       "      <th>11</th>\n",
       "      <td>explosion</td>\n",
       "      <td>big_bang</td>\n",
       "      <td>647</td>\n",
       "      <td>explosionbig_bang647</td>\n",
       "    </tr>\n",
       "    <tr>\n",
       "      <th>12</th>\n",
       "      <td>explosion</td>\n",
       "      <td>bomb_blast</td>\n",
       "      <td>647</td>\n",
       "      <td>explosionbomb_blast647</td>\n",
       "    </tr>\n",
       "    <tr>\n",
       "      <th>13</th>\n",
       "      <td>explosion</td>\n",
       "      <td>backblast</td>\n",
       "      <td>647</td>\n",
       "      <td>explosionbackblast647</td>\n",
       "    </tr>\n",
       "    <tr>\n",
       "      <th>14</th>\n",
       "      <td>explosion</td>\n",
       "      <td>nuclear_explosion</td>\n",
       "      <td>647</td>\n",
       "      <td>explosionnuclear_explosion647</td>\n",
       "    </tr>\n",
       "    <tr>\n",
       "      <th>15</th>\n",
       "      <td>explosion</td>\n",
       "      <td>blast</td>\n",
       "      <td>647</td>\n",
       "      <td>explosionblast647</td>\n",
       "    </tr>\n",
       "    <tr>\n",
       "      <th>16</th>\n",
       "      <td>explosion</td>\n",
       "      <td>airburst</td>\n",
       "      <td>647</td>\n",
       "      <td>explosionairburst647</td>\n",
       "    </tr>\n",
       "    <tr>\n",
       "      <th>17</th>\n",
       "      <td>explosion</td>\n",
       "      <td>blowback</td>\n",
       "      <td>647</td>\n",
       "      <td>explosionblowback647</td>\n",
       "    </tr>\n",
       "    <tr>\n",
       "      <th>18</th>\n",
       "      <td>explosion</td>\n",
       "      <td>inflation</td>\n",
       "      <td>647</td>\n",
       "      <td>explosioninflation647</td>\n",
       "    </tr>\n",
       "    <tr>\n",
       "      <th>19</th>\n",
       "      <td>blast</td>\n",
       "      <td>bomb_blast</td>\n",
       "      <td>647</td>\n",
       "      <td>blastbomb_blast647</td>\n",
       "    </tr>\n",
       "    <tr>\n",
       "      <th>20</th>\n",
       "      <td>blast</td>\n",
       "      <td>backblast</td>\n",
       "      <td>647</td>\n",
       "      <td>blastbackblast647</td>\n",
       "    </tr>\n",
       "  </tbody>\n",
       "</table>\n",
       "</div>"
      ],
      "text/plain": [
       "           parent              child  group                            compare\n",
       "0   fragmentation           backfire    647           fragmentationbackfire647\n",
       "1   fragmentation           big_bang    647           fragmentationbig_bang647\n",
       "2   fragmentation         bomb_blast    647         fragmentationbomb_blast647\n",
       "3   fragmentation          backblast    647          fragmentationbackblast647\n",
       "4   fragmentation  nuclear_explosion    647  fragmentationnuclear_explosion647\n",
       "5   fragmentation              blast    647              fragmentationblast647\n",
       "6   fragmentation          explosion    647          fragmentationexplosion647\n",
       "7   fragmentation           airburst    647           fragmentationairburst647\n",
       "8   fragmentation           blowback    647           fragmentationblowback647\n",
       "9   fragmentation          inflation    647          fragmentationinflation647\n",
       "10      explosion           backfire    647               explosionbackfire647\n",
       "11      explosion           big_bang    647               explosionbig_bang647\n",
       "12      explosion         bomb_blast    647             explosionbomb_blast647\n",
       "13      explosion          backblast    647              explosionbackblast647\n",
       "14      explosion  nuclear_explosion    647      explosionnuclear_explosion647\n",
       "15      explosion              blast    647                  explosionblast647\n",
       "16      explosion           airburst    647               explosionairburst647\n",
       "17      explosion           blowback    647               explosionblowback647\n",
       "18      explosion          inflation    647              explosioninflation647\n",
       "19          blast         bomb_blast    647                 blastbomb_blast647\n",
       "20          blast          backblast    647                  blastbackblast647"
      ]
     },
     "execution_count": 99,
     "metadata": {},
     "output_type": "execute_result"
    }
   ],
   "source": [
    "res_v2[res_v2.group==647]"
   ]
  },
  {
   "cell_type": "code",
   "execution_count": 100,
   "id": "a78d9804-fbd9-4dca-a5f6-324cfbbe8bc1",
   "metadata": {
    "tags": []
   },
   "outputs": [],
   "source": [
    "df_actual.merge(res_v2, on='compare',how='left').to_csv('/root/Taxonomy-GPT/data/group_wise_july_05.csv')"
   ]
  },
  {
   "cell_type": "code",
   "execution_count": 101,
   "id": "8998061d-999f-47b5-9b88-b57f5258cbc2",
   "metadata": {
    "tags": []
   },
   "outputs": [
    {
     "data": {
      "text/plain": [
       "0.4859836268915902"
      ]
     },
     "execution_count": 101,
     "metadata": {},
     "output_type": "execute_result"
    }
   ],
   "source": [
    "len(df_actual.merge(res_v2, on='compare'))/len(df_actual)"
   ]
  },
  {
   "cell_type": "code",
   "execution_count": 102,
   "id": "1d2d7b64",
   "metadata": {
    "tags": []
   },
   "outputs": [
    {
     "data": {
      "text/plain": [
       "0.621904761904762"
      ]
     },
     "execution_count": 102,
     "metadata": {},
     "output_type": "execute_result"
    }
   ],
   "source": [
    "len(df_actual.merge(res_v2, on='compare'))/len(res_v2)"
   ]
  },
  {
   "cell_type": "code",
   "execution_count": 103,
   "id": "aca3b45f-806b-418c-863b-b37f6a36ad9e",
   "metadata": {
    "tags": []
   },
   "outputs": [
    {
     "data": {
      "application/vnd.jupyter.widget-view+json": {
       "model_id": "db6d8f277e894f088ffbe32d75895fd7",
       "version_major": 2,
       "version_minor": 0
      },
      "text/plain": [
       "  0%|          | 0/114 [00:00<?, ?it/s]"
      ]
     },
     "metadata": {},
     "output_type": "display_data"
    }
   ],
   "source": [
    "recall = []\n",
    "precision = []\n",
    "f1 = []\n",
    "for group in tqdm(list(set(df_actual.group))):\n",
    "    group_actual = df_actual[df_actual.group == group]\n",
    "    group_pred = res_v2[res_v2.group == group]\n",
    "    recall.append(len(group_actual.merge(group_pred, on='compare')) / len(group_actual))\n",
    "    precision.append(len(group_actual.merge(group_pred, on='compare')) / len(group_pred))\n",
    "    if precision[-1] + recall[-1] == 0:\n",
    "        f1.append(0)\n",
    "    else:\n",
    "        f1.append(2 * (precision[-1] * recall[-1]) / (precision[-1] + recall[-1]))"
   ]
  },
  {
   "cell_type": "code",
   "execution_count": 104,
   "id": "935287c5-9d90-414d-b016-3c92e6797d4c",
   "metadata": {
    "tags": []
   },
   "outputs": [
    {
     "data": {
      "text/plain": [
       "0.4900781597469771"
      ]
     },
     "execution_count": 104,
     "metadata": {},
     "output_type": "execute_result"
    }
   ],
   "source": [
    "import numpy as np\n",
    "np.mean(recall)"
   ]
  },
  {
   "cell_type": "code",
   "execution_count": 105,
   "id": "b6ae1d53-31f0-4164-b84f-7629be56c73f",
   "metadata": {
    "tags": []
   },
   "outputs": [
    {
     "data": {
      "text/plain": [
       "0.6508413865505545"
      ]
     },
     "execution_count": 105,
     "metadata": {},
     "output_type": "execute_result"
    }
   ],
   "source": [
    "np.mean(precision)"
   ]
  },
  {
   "cell_type": "code",
   "execution_count": null,
   "id": "98989e43-ce65-46f0-b59a-c4694f998bb4",
   "metadata": {},
   "outputs": [],
   "source": []
  }
 ],
 "metadata": {
  "kernelspec": {
   "display_name": "Python 3 (ipykernel)",
   "language": "python",
   "name": "python3"
  },
  "language_info": {
   "codemirror_mode": {
    "name": "ipython",
    "version": 3
   },
   "file_extension": ".py",
   "mimetype": "text/x-python",
   "name": "python",
   "nbconvert_exporter": "python",
   "pygments_lexer": "ipython3",
   "version": "3.8.10"
  }
 },
 "nbformat": 4,
 "nbformat_minor": 5
}
