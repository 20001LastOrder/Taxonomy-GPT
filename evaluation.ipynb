{
 "cells": [
  {
   "cell_type": "code",
   "execution_count": 29,
   "id": "5558b9a2-f57a-48e8-8019-231067759e32",
   "metadata": {},
   "outputs": [
    {
     "name": "stdout",
     "output_type": "stream",
     "text": [
      "The autoreload extension is already loaded. To reload it, use:\n",
      "  %reload_ext autoreload\n"
     ]
    },
    {
     "name": "stderr",
     "output_type": "stream",
     "text": [
      "Some weights of GPTNeoForSequenceClassification were not initialized from the model checkpoint at EleutherAI/gpt-neo-1.3B and are newly initialized: ['transformer.h.13.attn.attention.bias', 'transformer.h.17.attn.attention.bias', 'transformer.h.5.attn.attention.bias', 'transformer.h.7.attn.attention.bias', 'transformer.h.23.attn.attention.bias', 'transformer.h.1.attn.attention.bias', 'transformer.h.19.attn.attention.bias', 'transformer.h.21.attn.attention.bias', 'transformer.h.11.attn.attention.bias', 'transformer.h.15.attn.attention.bias', 'transformer.h.9.attn.attention.bias', 'score.weight', 'transformer.h.3.attn.attention.bias']\n",
      "You should probably TRAIN this model on a down-stream task to be able to use it for predictions and inference.\n"
     ]
    },
    {
     "name": "stdout",
     "output_type": "stream",
     "text": [
      "Changing layer  23\n",
      "Changing layer  22\n",
      "Changing layer  21\n",
      "Changing layer  20\n"
     ]
    }
   ],
   "source": [
    "import pandas as pd\n",
    "%load_ext autoreload\n",
    "%autoreload 2\n",
    "import torch\n",
    "from transformers import GPTNeoForSequenceClassification, GPTNeoForCausalLM, GPT2Tokenizer\n",
    "from model import GPTNeoForSequenceClassificationBinary\n",
    "import lightning.pytorch as pl\n",
    "from model import GPTSequenceClassifiationModule\n",
    "model = GPTSequenceClassifiationModule.load_from_checkpoint(\"/root/autodl-tmp/runs/wordnet.ckpt\")\n",
    "tokenizer = GPT2Tokenizer.from_pretrained(\"EleutherAI/gpt-neo-1.3B\")"
   ]
  },
  {
   "cell_type": "code",
   "execution_count": 32,
   "id": "812ecc6f-25f8-432b-be56-5185f0506832",
   "metadata": {
    "tags": []
   },
   "outputs": [],
   "source": [
    "model=model.eval()\n",
    "model=model.cuda()"
   ]
  },
  {
   "cell_type": "code",
   "execution_count": 33,
   "id": "2c3b2a80",
   "metadata": {},
   "outputs": [],
   "source": [
    "test_name='/root/Taxonomy-GPT/data/wordnet_all_false_july4_test.csv'\n",
    "actual_tree='/root/Taxonomy-GPT/data/bansal_wordnet_true_pairs.csv'"
   ]
  },
  {
   "cell_type": "code",
   "execution_count": 34,
   "id": "eadbc954-5449-4585-bd4b-34089b924bc3",
   "metadata": {},
   "outputs": [
    {
     "name": "stdout",
     "output_type": "stream",
     "text": [
      "Downloading and preparing dataset csv/default to /root/.cache/huggingface/datasets/csv/default-78e6d1eb18fc7984/0.0.0/eea64c71ca8b46dd3f537ed218fc9bf495d5707789152eb2764f5c78fa66d59d...\n"
     ]
    },
    {
     "data": {
      "application/vnd.jupyter.widget-view+json": {
       "model_id": "b13e4213d81544779514d7a80adee060",
       "version_major": 2,
       "version_minor": 0
      },
      "text/plain": [
       "Downloading data files:   0%|          | 0/1 [00:00<?, ?it/s]"
      ]
     },
     "metadata": {},
     "output_type": "display_data"
    },
    {
     "data": {
      "application/vnd.jupyter.widget-view+json": {
       "model_id": "dedaab9609bc4e5fbc3ace27e89a2818",
       "version_major": 2,
       "version_minor": 0
      },
      "text/plain": [
       "Extracting data files:   0%|          | 0/1 [00:00<?, ?it/s]"
      ]
     },
     "metadata": {},
     "output_type": "display_data"
    },
    {
     "data": {
      "application/vnd.jupyter.widget-view+json": {
       "model_id": "e50ca21c6a44490faf53f61f159cb967",
       "version_major": 2,
       "version_minor": 0
      },
      "text/plain": [
       "Generating train split: 0 examples [00:00, ? examples/s]"
      ]
     },
     "metadata": {},
     "output_type": "display_data"
    },
    {
     "name": "stdout",
     "output_type": "stream",
     "text": [
      "Dataset csv downloaded and prepared to /root/.cache/huggingface/datasets/csv/default-78e6d1eb18fc7984/0.0.0/eea64c71ca8b46dd3f537ed218fc9bf495d5707789152eb2764f5c78fa66d59d. Subsequent calls will reuse this data.\n"
     ]
    },
    {
     "data": {
      "application/vnd.jupyter.widget-view+json": {
       "model_id": "4be1014339944d8ca02fe1937a454f35",
       "version_major": 2,
       "version_minor": 0
      },
      "text/plain": [
       "Map:   0%|          | 0/53968 [00:00<?, ? examples/s]"
      ]
     },
     "metadata": {},
     "output_type": "display_data"
    }
   ],
   "source": [
    "from dataset import get_taxonomy_dataset, get_taxonomy_dataset_binary\n",
    "dataset = get_taxonomy_dataset_binary(test_name, entire_dataset=True,remove_columns=True)"
   ]
  },
  {
   "cell_type": "code",
   "execution_count": 35,
   "id": "7cd59f06-9b2f-4bf6-913d-5b6565daf4a7",
   "metadata": {},
   "outputs": [
    {
     "data": {
      "text/plain": [
       "{'test': Dataset({\n",
       "     features: ['flag', 'input_ids', 'labels'],\n",
       "     num_rows: 53968\n",
       " })}"
      ]
     },
     "execution_count": 35,
     "metadata": {},
     "output_type": "execute_result"
    }
   ],
   "source": [
    "dataset"
   ]
  },
  {
   "cell_type": "code",
   "execution_count": 36,
   "id": "eaffe6cf-76fe-4af8-ab60-49b3dbdd29d8",
   "metadata": {},
   "outputs": [],
   "source": [
    "def format_dataset(example,tokenizer):\n",
    "    prompt_template = \"I am doing the taxonomy research. I think {child} is a subtopic of {parent}\"\n",
    "    prompt = prompt_template.format(child=example['child'], parent=example['parent'])\n",
    "    example['input_ids'] = tokenizer.encode(prompt)\n",
    "    return example\n",
    "def test_dataloader(str_path,batch_size):\n",
    "    dataset= get_taxonomy_dataset_binary(str_path,entire_dataset=True)\n",
    "    dataset = dataset['test']\n",
    "    dataset = dataset.map(lambda example: format_dataset(example,tokenizer))\n",
    "    dataset = dataset.remove_columns(['child', 'parent', 'group'])\n",
    "\n",
    "    return torch.utils.data.DataLoader(\n",
    "        dataset,\n",
    "        batch_size=batch_size,\n",
    "        collate_fn=DataCollatorWithPadding(tokenizer),\n",
    "        num_workers=4,\n",
    "    )"
   ]
  },
  {
   "cell_type": "code",
   "execution_count": 37,
   "id": "610f19f2-1d4c-4c89-876e-73102509d29b",
   "metadata": {},
   "outputs": [
    {
     "name": "stderr",
     "output_type": "stream",
     "text": [
      "Found cached dataset csv (/root/.cache/huggingface/datasets/csv/default-78e6d1eb18fc7984/0.0.0/eea64c71ca8b46dd3f537ed218fc9bf495d5707789152eb2764f5c78fa66d59d)\n",
      "Loading cached processed dataset at /root/.cache/huggingface/datasets/csv/default-78e6d1eb18fc7984/0.0.0/eea64c71ca8b46dd3f537ed218fc9bf495d5707789152eb2764f5c78fa66d59d/cache-efeade2dc67e1dd3.arrow\n"
     ]
    },
    {
     "data": {
      "application/vnd.jupyter.widget-view+json": {
       "model_id": "8f7dc96735194563ab110ca5525be93a",
       "version_major": 2,
       "version_minor": 0
      },
      "text/plain": [
       "Map:   0%|          | 0/53968 [00:00<?, ? examples/s]"
      ]
     },
     "metadata": {},
     "output_type": "display_data"
    },
    {
     "data": {
      "application/vnd.jupyter.widget-view+json": {
       "model_id": "66a356bc5a3f4e49ae10ebaf75280b75",
       "version_major": 2,
       "version_minor": 0
      },
      "text/plain": [
       "  0%|          | 0/844 [00:00<?, ?it/s]"
      ]
     },
     "metadata": {},
     "output_type": "display_data"
    },
    {
     "name": "stdout",
     "output_type": "stream",
     "text": [
      "huggingface/tokenizers: The current process just got forked, after parallelism has already been used. Disabling parallelism to avoid deadlocks...\n",
      "To disable this warning, you can either:\n",
      "\t- Avoid using `tokenizers` before the fork if possible\n",
      "\t- Explicitly set the environment variable TOKENIZERS_PARALLELISM=(true | false)\n",
      "huggingface/tokenizers: The current process just got forked, after parallelism has already been used. Disabling parallelism to avoid deadlocks...\n",
      "To disable this warning, you can either:\n",
      "\t- Avoid using `tokenizers` before the fork if possible\n",
      "\t- Explicitly set the environment variable TOKENIZERS_PARALLELISM=(true | false)\n",
      "huggingface/tokenizers: The current process just got forked, after parallelism has already been used. Disabling parallelism to avoid deadlocks...\n",
      "To disable this warning, you can either:\n",
      "\t- Avoid using `tokenizers` before the fork if possible\n",
      "\t- Explicitly set the environment variable TOKENIZERS_PARALLELISM=(true | false)\n",
      "huggingface/tokenizers: The current process just got forked, after parallelism has already been used. Disabling parallelism to avoid deadlocks...\n",
      "To disable this warning, you can either:\n",
      "\t- Avoid using `tokenizers` before the fork if possible\n",
      "\t- Explicitly set the environment variable TOKENIZERS_PARALLELISM=(true | false)\n"
     ]
    }
   ],
   "source": [
    "from torch.utils.data import DataLoader\n",
    "from transformers.data.data_collator import DataCollatorWithPadding\n",
    "from tqdm.notebook import tqdm\n",
    "import torch \n",
    "\n",
    "results = []\n",
    "tokenizer.pad_token = tokenizer.eos_token\n",
    "data_collator = DataCollatorWithPadding(tokenizer)\n",
    "\n",
    "testdataloader = test_dataloader(test_name, 64)\n",
    "with torch.no_grad():\n",
    "    for step, batch in enumerate(tqdm(testdataloader)):\n",
    "        batch = batch.to('cuda')\n",
    "        output = model(batch['input_ids'], batch['attention_mask'])\n",
    "        predicted_labels = torch.sigmoid(output)\n",
    "        results.extend(predicted_labels.cpu().detach().numpy().tolist())"
   ]
  },
  {
   "cell_type": "code",
   "execution_count": 38,
   "id": "84f2bd49-6192-4f1b-a60b-899a2469380f",
   "metadata": {},
   "outputs": [],
   "source": [
    "import pandas as pd\n",
    "df = pd.read_csv(test_name)\n",
    "df['predict'] = results\n",
    "df['pred_flag']=[True if i>0.5 else False for i in df['predict']]"
   ]
  },
  {
   "cell_type": "code",
   "execution_count": 39,
   "id": "2d52d0e8-0b4e-4b97-b35a-35e51ffa2258",
   "metadata": {},
   "outputs": [],
   "source": [
    "df.to_csv('/root/Taxonomy-GPT/data/test_all_res_july_05.csv', index=False)"
   ]
  },
  {
   "cell_type": "code",
   "execution_count": 40,
   "id": "ee92ee0e-b8a9-4647-8a74-1faff2fb6aeb",
   "metadata": {},
   "outputs": [
    {
     "name": "stdout",
     "output_type": "stream",
     "text": [
      "0.5998671256789033\n",
      "0.5808059944732933\n",
      "0.7834121343014557\n",
      "0.852801660243107\n"
     ]
    }
   ],
   "source": [
    "from sklearn.metrics import accuracy_score, f1_score, precision_score, recall_score, classification_report, confusion_matrix\n",
    "y_test=df['flag']\n",
    "y_pred=df['pred_flag']\n",
    "print(f1_score(y_test, y_pred, average=\"macro\"))\n",
    "print(precision_score(y_test, y_pred, average=\"macro\"))\n",
    "print(recall_score(y_test, y_pred, average=\"macro\"))\n",
    "print(accuracy_score(y_test, y_pred))"
   ]
  },
  {
   "attachments": {},
   "cell_type": "markdown",
   "id": "6e238dff",
   "metadata": {},
   "source": [
    "maximum spanning tree"
   ]
  },
  {
   "cell_type": "code",
   "execution_count": 41,
   "id": "793f8f04",
   "metadata": {},
   "outputs": [
    {
     "data": {
      "text/html": [
       "<div>\n",
       "<style scoped>\n",
       "    .dataframe tbody tr th:only-of-type {\n",
       "        vertical-align: middle;\n",
       "    }\n",
       "\n",
       "    .dataframe tbody tr th {\n",
       "        vertical-align: top;\n",
       "    }\n",
       "\n",
       "    .dataframe thead th {\n",
       "        text-align: right;\n",
       "    }\n",
       "</style>\n",
       "<table border=\"1\" class=\"dataframe\">\n",
       "  <thead>\n",
       "    <tr style=\"text-align: right;\">\n",
       "      <th></th>\n",
       "      <th>parent</th>\n",
       "      <th>child</th>\n",
       "      <th>group</th>\n",
       "      <th>flag</th>\n",
       "      <th>predict</th>\n",
       "      <th>pred_flag</th>\n",
       "    </tr>\n",
       "  </thead>\n",
       "  <tbody>\n",
       "    <tr>\n",
       "      <th>0</th>\n",
       "      <td>explosion</td>\n",
       "      <td>blowback</td>\n",
       "      <td>647</td>\n",
       "      <td>True</td>\n",
       "      <td>0.316755</td>\n",
       "      <td>False</td>\n",
       "    </tr>\n",
       "    <tr>\n",
       "      <th>1</th>\n",
       "      <td>explosion</td>\n",
       "      <td>blast</td>\n",
       "      <td>647</td>\n",
       "      <td>True</td>\n",
       "      <td>0.647774</td>\n",
       "      <td>True</td>\n",
       "    </tr>\n",
       "    <tr>\n",
       "      <th>2</th>\n",
       "      <td>explosion</td>\n",
       "      <td>bomb_blast</td>\n",
       "      <td>647</td>\n",
       "      <td>False</td>\n",
       "      <td>0.893753</td>\n",
       "      <td>True</td>\n",
       "    </tr>\n",
       "    <tr>\n",
       "      <th>3</th>\n",
       "      <td>explosion</td>\n",
       "      <td>airburst</td>\n",
       "      <td>647</td>\n",
       "      <td>True</td>\n",
       "      <td>0.898808</td>\n",
       "      <td>True</td>\n",
       "    </tr>\n",
       "    <tr>\n",
       "      <th>4</th>\n",
       "      <td>explosion</td>\n",
       "      <td>big_bang</td>\n",
       "      <td>647</td>\n",
       "      <td>True</td>\n",
       "      <td>0.770553</td>\n",
       "      <td>True</td>\n",
       "    </tr>\n",
       "    <tr>\n",
       "      <th>...</th>\n",
       "      <td>...</td>\n",
       "      <td>...</td>\n",
       "      <td>...</td>\n",
       "      <td>...</td>\n",
       "      <td>...</td>\n",
       "      <td>...</td>\n",
       "    </tr>\n",
       "    <tr>\n",
       "      <th>53963</th>\n",
       "      <td>linolenic_acid</td>\n",
       "      <td>oleic_acid</td>\n",
       "      <td>760</td>\n",
       "      <td>False</td>\n",
       "      <td>0.173019</td>\n",
       "      <td>False</td>\n",
       "    </tr>\n",
       "    <tr>\n",
       "      <th>53964</th>\n",
       "      <td>linolenic_acid</td>\n",
       "      <td>linoleic_acid</td>\n",
       "      <td>760</td>\n",
       "      <td>False</td>\n",
       "      <td>0.201895</td>\n",
       "      <td>False</td>\n",
       "    </tr>\n",
       "    <tr>\n",
       "      <th>53965</th>\n",
       "      <td>linolenic_acid</td>\n",
       "      <td>docosahexaenoic_acid</td>\n",
       "      <td>760</td>\n",
       "      <td>False</td>\n",
       "      <td>0.179314</td>\n",
       "      <td>False</td>\n",
       "    </tr>\n",
       "    <tr>\n",
       "      <th>53966</th>\n",
       "      <td>linolenic_acid</td>\n",
       "      <td>eicosapentaenoic_acid</td>\n",
       "      <td>760</td>\n",
       "      <td>False</td>\n",
       "      <td>0.191107</td>\n",
       "      <td>False</td>\n",
       "    </tr>\n",
       "    <tr>\n",
       "      <th>53967</th>\n",
       "      <td>linolenic_acid</td>\n",
       "      <td>alpha-linolenic_acid</td>\n",
       "      <td>760</td>\n",
       "      <td>False</td>\n",
       "      <td>0.424424</td>\n",
       "      <td>False</td>\n",
       "    </tr>\n",
       "  </tbody>\n",
       "</table>\n",
       "<p>53968 rows × 6 columns</p>\n",
       "</div>"
      ],
      "text/plain": [
       "               parent                  child  group   flag   predict  \\\n",
       "0           explosion               blowback    647   True  0.316755   \n",
       "1           explosion                  blast    647   True  0.647774   \n",
       "2           explosion             bomb_blast    647  False  0.893753   \n",
       "3           explosion               airburst    647   True  0.898808   \n",
       "4           explosion               big_bang    647   True  0.770553   \n",
       "...               ...                    ...    ...    ...       ...   \n",
       "53963  linolenic_acid             oleic_acid    760  False  0.173019   \n",
       "53964  linolenic_acid          linoleic_acid    760  False  0.201895   \n",
       "53965  linolenic_acid   docosahexaenoic_acid    760  False  0.179314   \n",
       "53966  linolenic_acid  eicosapentaenoic_acid    760  False  0.191107   \n",
       "53967  linolenic_acid   alpha-linolenic_acid    760  False  0.424424   \n",
       "\n",
       "       pred_flag  \n",
       "0          False  \n",
       "1           True  \n",
       "2           True  \n",
       "3           True  \n",
       "4           True  \n",
       "...          ...  \n",
       "53963      False  \n",
       "53964      False  \n",
       "53965      False  \n",
       "53966      False  \n",
       "53967      False  \n",
       "\n",
       "[53968 rows x 6 columns]"
      ]
     },
     "execution_count": 41,
     "metadata": {},
     "output_type": "execute_result"
    }
   ],
   "source": [
    "df"
   ]
  },
  {
   "cell_type": "code",
   "execution_count": 42,
   "id": "b664b6c5",
   "metadata": {},
   "outputs": [],
   "source": [
    "df_t=df"
   ]
  },
  {
   "cell_type": "code",
   "execution_count": 43,
   "id": "c8559710-0b31-4e13-aed5-1485ba6b5583",
   "metadata": {},
   "outputs": [],
   "source": [
    "import networkx as nx\n",
    "\n",
    "forest=[]\n",
    "for g in set(list(df_t.group)):\n",
    "    df_tree=df_t[df_t.group==g]\n",
    "    graph = nx.DiGraph()\n",
    "    parents=df_tree['parent'].tolist()\n",
    "    children=df_tree['child'].tolist()\n",
    "    probabilities=df_tree['predict'].tolist()\n",
    "    nodes = set(parents + children)\n",
    "    for node in nodes:\n",
    "        graph.add_node(node)\n",
    "    for i in range(len(parents)):\n",
    "        graph.add_edge(parents[i], children[i], weight=probabilities[i])\n",
    "    # print(nx.is_connected(graph))\n",
    "    T=nx.maximum_spanning_arborescence(graph)\n",
    "    df=nx.to_pandas_edgelist(T)\n",
    "    df['group']=g\n",
    "    forest.append(df)"
   ]
  },
  {
   "cell_type": "code",
   "execution_count": 44,
   "id": "7a30cee8-b62e-4cd8-bb1f-10045d3bc9ea",
   "metadata": {},
   "outputs": [],
   "source": [
    "res_v2=pd.concat(forest, ignore_index=True)"
   ]
  },
  {
   "cell_type": "code",
   "execution_count": 45,
   "id": "e09ccffd",
   "metadata": {},
   "outputs": [
    {
     "data": {
      "text/html": [
       "<div>\n",
       "<style scoped>\n",
       "    .dataframe tbody tr th:only-of-type {\n",
       "        vertical-align: middle;\n",
       "    }\n",
       "\n",
       "    .dataframe tbody tr th {\n",
       "        vertical-align: top;\n",
       "    }\n",
       "\n",
       "    .dataframe thead th {\n",
       "        text-align: right;\n",
       "    }\n",
       "</style>\n",
       "<table border=\"1\" class=\"dataframe\">\n",
       "  <thead>\n",
       "    <tr style=\"text-align: right;\">\n",
       "      <th></th>\n",
       "      <th>source</th>\n",
       "      <th>target</th>\n",
       "      <th>weight</th>\n",
       "      <th>group</th>\n",
       "    </tr>\n",
       "  </thead>\n",
       "  <tbody>\n",
       "    <tr>\n",
       "      <th>0</th>\n",
       "      <td>blast</td>\n",
       "      <td>explosion</td>\n",
       "      <td>0.571940</td>\n",
       "      <td>647</td>\n",
       "    </tr>\n",
       "    <tr>\n",
       "      <th>1</th>\n",
       "      <td>blast</td>\n",
       "      <td>bomb_blast</td>\n",
       "      <td>0.900264</td>\n",
       "      <td>647</td>\n",
       "    </tr>\n",
       "    <tr>\n",
       "      <th>2</th>\n",
       "      <td>blast</td>\n",
       "      <td>backblast</td>\n",
       "      <td>0.766480</td>\n",
       "      <td>647</td>\n",
       "    </tr>\n",
       "    <tr>\n",
       "      <th>3</th>\n",
       "      <td>fragmentation</td>\n",
       "      <td>blowback</td>\n",
       "      <td>0.372407</td>\n",
       "      <td>647</td>\n",
       "    </tr>\n",
       "    <tr>\n",
       "      <th>4</th>\n",
       "      <td>fragmentation</td>\n",
       "      <td>blast</td>\n",
       "      <td>0.565318</td>\n",
       "      <td>647</td>\n",
       "    </tr>\n",
       "    <tr>\n",
       "      <th>...</th>\n",
       "      <td>...</td>\n",
       "      <td>...</td>\n",
       "      <td>...</td>\n",
       "      <td>...</td>\n",
       "    </tr>\n",
       "    <tr>\n",
       "      <th>2221</th>\n",
       "      <td>unsaturated_fatty_acid</td>\n",
       "      <td>linoleic_acid</td>\n",
       "      <td>0.798375</td>\n",
       "      <td>760</td>\n",
       "    </tr>\n",
       "    <tr>\n",
       "      <th>2222</th>\n",
       "      <td>unsaturated_fatty_acid</td>\n",
       "      <td>docosahexaenoic_acid</td>\n",
       "      <td>0.814246</td>\n",
       "      <td>760</td>\n",
       "    </tr>\n",
       "    <tr>\n",
       "      <th>2223</th>\n",
       "      <td>unsaturated_fatty_acid</td>\n",
       "      <td>eicosapentaenoic_acid</td>\n",
       "      <td>0.858042</td>\n",
       "      <td>760</td>\n",
       "    </tr>\n",
       "    <tr>\n",
       "      <th>2224</th>\n",
       "      <td>unsaturated_fatty_acid</td>\n",
       "      <td>alpha-linolenic_acid</td>\n",
       "      <td>0.866967</td>\n",
       "      <td>760</td>\n",
       "    </tr>\n",
       "    <tr>\n",
       "      <th>2225</th>\n",
       "      <td>unsaturated_fatty_acid</td>\n",
       "      <td>linolenic_acid</td>\n",
       "      <td>0.834875</td>\n",
       "      <td>760</td>\n",
       "    </tr>\n",
       "  </tbody>\n",
       "</table>\n",
       "<p>2226 rows × 4 columns</p>\n",
       "</div>"
      ],
      "text/plain": [
       "                      source                 target    weight  group\n",
       "0                      blast              explosion  0.571940    647\n",
       "1                      blast             bomb_blast  0.900264    647\n",
       "2                      blast              backblast  0.766480    647\n",
       "3              fragmentation               blowback  0.372407    647\n",
       "4              fragmentation                  blast  0.565318    647\n",
       "...                      ...                    ...       ...    ...\n",
       "2221  unsaturated_fatty_acid          linoleic_acid  0.798375    760\n",
       "2222  unsaturated_fatty_acid   docosahexaenoic_acid  0.814246    760\n",
       "2223  unsaturated_fatty_acid  eicosapentaenoic_acid  0.858042    760\n",
       "2224  unsaturated_fatty_acid   alpha-linolenic_acid  0.866967    760\n",
       "2225  unsaturated_fatty_acid         linolenic_acid  0.834875    760\n",
       "\n",
       "[2226 rows x 4 columns]"
      ]
     },
     "execution_count": 45,
     "metadata": {},
     "output_type": "execute_result"
    }
   ],
   "source": [
    "res_v2"
   ]
  },
  {
   "cell_type": "code",
   "execution_count": 46,
   "id": "d1dc3f75-c1d6-4b3c-8664-6993acfbd367",
   "metadata": {},
   "outputs": [
    {
     "data": {
      "text/plain": [
       "group\n",
       "677    45\n",
       "666    39\n",
       "702    39\n",
       "697    38\n",
       "712    37\n",
       "       ..\n",
       "744    10\n",
       "648    10\n",
       "738    10\n",
       "737    10\n",
       "647    10\n",
       "Name: count, Length: 114, dtype: int64"
      ]
     },
     "execution_count": 46,
     "metadata": {},
     "output_type": "execute_result"
    }
   ],
   "source": [
    "res_v2.columns=['parent','child','weight','group']\n",
    "res_v2['compare']=res_v2['parent']+res_v2['child']+res_v2['group'].astype(str)\n",
    "res_v2['group'].value_counts()"
   ]
  },
  {
   "cell_type": "code",
   "execution_count": 47,
   "id": "aa3f2688-5afb-4d8f-898f-98a8e16475e9",
   "metadata": {},
   "outputs": [],
   "source": [
    "df_actual=pd.read_csv(actual_tree)\n",
    "df_actual=df_actual[df_actual['group']>= 647]\n",
    "df_actual['compare']=df_actual['parent']+df_actual['child']+df_actual['group'].astype(str)"
   ]
  },
  {
   "cell_type": "code",
   "execution_count": 48,
   "id": "3f53dae4",
   "metadata": {},
   "outputs": [
    {
     "data": {
      "text/html": [
       "<div>\n",
       "<style scoped>\n",
       "    .dataframe tbody tr th:only-of-type {\n",
       "        vertical-align: middle;\n",
       "    }\n",
       "\n",
       "    .dataframe tbody tr th {\n",
       "        vertical-align: top;\n",
       "    }\n",
       "\n",
       "    .dataframe thead th {\n",
       "        text-align: right;\n",
       "    }\n",
       "</style>\n",
       "<table border=\"1\" class=\"dataframe\">\n",
       "  <thead>\n",
       "    <tr style=\"text-align: right;\">\n",
       "      <th></th>\n",
       "      <th>parent</th>\n",
       "      <th>child</th>\n",
       "      <th>group</th>\n",
       "      <th>type</th>\n",
       "      <th>compare</th>\n",
       "    </tr>\n",
       "  </thead>\n",
       "  <tbody>\n",
       "    <tr>\n",
       "      <th>12646</th>\n",
       "      <td>explosion</td>\n",
       "      <td>airburst</td>\n",
       "      <td>647</td>\n",
       "      <td>test</td>\n",
       "      <td>explosionairburst647</td>\n",
       "    </tr>\n",
       "    <tr>\n",
       "      <th>12647</th>\n",
       "      <td>explosion</td>\n",
       "      <td>blowback</td>\n",
       "      <td>647</td>\n",
       "      <td>test</td>\n",
       "      <td>explosionblowback647</td>\n",
       "    </tr>\n",
       "    <tr>\n",
       "      <th>12648</th>\n",
       "      <td>explosion</td>\n",
       "      <td>big_bang</td>\n",
       "      <td>647</td>\n",
       "      <td>test</td>\n",
       "      <td>explosionbig_bang647</td>\n",
       "    </tr>\n",
       "    <tr>\n",
       "      <th>12649</th>\n",
       "      <td>explosion</td>\n",
       "      <td>inflation</td>\n",
       "      <td>647</td>\n",
       "      <td>test</td>\n",
       "      <td>explosioninflation647</td>\n",
       "    </tr>\n",
       "    <tr>\n",
       "      <th>12650</th>\n",
       "      <td>explosion</td>\n",
       "      <td>blast</td>\n",
       "      <td>647</td>\n",
       "      <td>test</td>\n",
       "      <td>explosionblast647</td>\n",
       "    </tr>\n",
       "    <tr>\n",
       "      <th>...</th>\n",
       "      <td>...</td>\n",
       "      <td>...</td>\n",
       "      <td>...</td>\n",
       "      <td>...</td>\n",
       "      <td>...</td>\n",
       "    </tr>\n",
       "    <tr>\n",
       "      <th>14867</th>\n",
       "      <td>polyunsaturated_fatty_acid</td>\n",
       "      <td>omega-6_fatty_acid</td>\n",
       "      <td>760</td>\n",
       "      <td>test</td>\n",
       "      <td>polyunsaturated_fatty_acidomega-6_fatty_acid760</td>\n",
       "    </tr>\n",
       "    <tr>\n",
       "      <th>14868</th>\n",
       "      <td>omega-3_fatty_acid</td>\n",
       "      <td>docosahexaenoic_acid</td>\n",
       "      <td>760</td>\n",
       "      <td>test</td>\n",
       "      <td>omega-3_fatty_aciddocosahexaenoic_acid760</td>\n",
       "    </tr>\n",
       "    <tr>\n",
       "      <th>14869</th>\n",
       "      <td>omega-3_fatty_acid</td>\n",
       "      <td>eicosapentaenoic_acid</td>\n",
       "      <td>760</td>\n",
       "      <td>test</td>\n",
       "      <td>omega-3_fatty_acideicosapentaenoic_acid760</td>\n",
       "    </tr>\n",
       "    <tr>\n",
       "      <th>14870</th>\n",
       "      <td>omega-3_fatty_acid</td>\n",
       "      <td>alpha-linolenic_acid</td>\n",
       "      <td>760</td>\n",
       "      <td>test</td>\n",
       "      <td>omega-3_fatty_acidalpha-linolenic_acid760</td>\n",
       "    </tr>\n",
       "    <tr>\n",
       "      <th>14871</th>\n",
       "      <td>omega-6_fatty_acid</td>\n",
       "      <td>linolenic_acid</td>\n",
       "      <td>760</td>\n",
       "      <td>test</td>\n",
       "      <td>omega-6_fatty_acidlinolenic_acid760</td>\n",
       "    </tr>\n",
       "  </tbody>\n",
       "</table>\n",
       "<p>2226 rows × 5 columns</p>\n",
       "</div>"
      ],
      "text/plain": [
       "                           parent                  child  group  type  \\\n",
       "12646                   explosion               airburst    647  test   \n",
       "12647                   explosion               blowback    647  test   \n",
       "12648                   explosion               big_bang    647  test   \n",
       "12649                   explosion              inflation    647  test   \n",
       "12650                   explosion                  blast    647  test   \n",
       "...                           ...                    ...    ...   ...   \n",
       "14867  polyunsaturated_fatty_acid     omega-6_fatty_acid    760  test   \n",
       "14868          omega-3_fatty_acid   docosahexaenoic_acid    760  test   \n",
       "14869          omega-3_fatty_acid  eicosapentaenoic_acid    760  test   \n",
       "14870          omega-3_fatty_acid   alpha-linolenic_acid    760  test   \n",
       "14871          omega-6_fatty_acid         linolenic_acid    760  test   \n",
       "\n",
       "                                               compare  \n",
       "12646                             explosionairburst647  \n",
       "12647                             explosionblowback647  \n",
       "12648                             explosionbig_bang647  \n",
       "12649                            explosioninflation647  \n",
       "12650                                explosionblast647  \n",
       "...                                                ...  \n",
       "14867  polyunsaturated_fatty_acidomega-6_fatty_acid760  \n",
       "14868        omega-3_fatty_aciddocosahexaenoic_acid760  \n",
       "14869       omega-3_fatty_acideicosapentaenoic_acid760  \n",
       "14870        omega-3_fatty_acidalpha-linolenic_acid760  \n",
       "14871              omega-6_fatty_acidlinolenic_acid760  \n",
       "\n",
       "[2226 rows x 5 columns]"
      ]
     },
     "execution_count": 48,
     "metadata": {},
     "output_type": "execute_result"
    }
   ],
   "source": [
    "df_actual"
   ]
  },
  {
   "cell_type": "code",
   "execution_count": 49,
   "id": "87651263-deca-4a72-b8ce-8b455f8dfa1c",
   "metadata": {},
   "outputs": [
    {
     "data": {
      "text/html": [
       "<div>\n",
       "<style scoped>\n",
       "    .dataframe tbody tr th:only-of-type {\n",
       "        vertical-align: middle;\n",
       "    }\n",
       "\n",
       "    .dataframe tbody tr th {\n",
       "        vertical-align: top;\n",
       "    }\n",
       "\n",
       "    .dataframe thead th {\n",
       "        text-align: right;\n",
       "    }\n",
       "</style>\n",
       "<table border=\"1\" class=\"dataframe\">\n",
       "  <thead>\n",
       "    <tr style=\"text-align: right;\">\n",
       "      <th></th>\n",
       "      <th>parent</th>\n",
       "      <th>child</th>\n",
       "      <th>weight</th>\n",
       "      <th>group</th>\n",
       "      <th>compare</th>\n",
       "    </tr>\n",
       "  </thead>\n",
       "  <tbody>\n",
       "    <tr>\n",
       "      <th>0</th>\n",
       "      <td>blast</td>\n",
       "      <td>explosion</td>\n",
       "      <td>0.571940</td>\n",
       "      <td>647</td>\n",
       "      <td>blastexplosion647</td>\n",
       "    </tr>\n",
       "    <tr>\n",
       "      <th>1</th>\n",
       "      <td>blast</td>\n",
       "      <td>bomb_blast</td>\n",
       "      <td>0.900264</td>\n",
       "      <td>647</td>\n",
       "      <td>blastbomb_blast647</td>\n",
       "    </tr>\n",
       "    <tr>\n",
       "      <th>2</th>\n",
       "      <td>blast</td>\n",
       "      <td>backblast</td>\n",
       "      <td>0.766480</td>\n",
       "      <td>647</td>\n",
       "      <td>blastbackblast647</td>\n",
       "    </tr>\n",
       "    <tr>\n",
       "      <th>3</th>\n",
       "      <td>fragmentation</td>\n",
       "      <td>blowback</td>\n",
       "      <td>0.372407</td>\n",
       "      <td>647</td>\n",
       "      <td>fragmentationblowback647</td>\n",
       "    </tr>\n",
       "    <tr>\n",
       "      <th>4</th>\n",
       "      <td>fragmentation</td>\n",
       "      <td>blast</td>\n",
       "      <td>0.565318</td>\n",
       "      <td>647</td>\n",
       "      <td>fragmentationblast647</td>\n",
       "    </tr>\n",
       "    <tr>\n",
       "      <th>...</th>\n",
       "      <td>...</td>\n",
       "      <td>...</td>\n",
       "      <td>...</td>\n",
       "      <td>...</td>\n",
       "      <td>...</td>\n",
       "    </tr>\n",
       "    <tr>\n",
       "      <th>2221</th>\n",
       "      <td>unsaturated_fatty_acid</td>\n",
       "      <td>linoleic_acid</td>\n",
       "      <td>0.798375</td>\n",
       "      <td>760</td>\n",
       "      <td>unsaturated_fatty_acidlinoleic_acid760</td>\n",
       "    </tr>\n",
       "    <tr>\n",
       "      <th>2222</th>\n",
       "      <td>unsaturated_fatty_acid</td>\n",
       "      <td>docosahexaenoic_acid</td>\n",
       "      <td>0.814246</td>\n",
       "      <td>760</td>\n",
       "      <td>unsaturated_fatty_aciddocosahexaenoic_acid760</td>\n",
       "    </tr>\n",
       "    <tr>\n",
       "      <th>2223</th>\n",
       "      <td>unsaturated_fatty_acid</td>\n",
       "      <td>eicosapentaenoic_acid</td>\n",
       "      <td>0.858042</td>\n",
       "      <td>760</td>\n",
       "      <td>unsaturated_fatty_acideicosapentaenoic_acid760</td>\n",
       "    </tr>\n",
       "    <tr>\n",
       "      <th>2224</th>\n",
       "      <td>unsaturated_fatty_acid</td>\n",
       "      <td>alpha-linolenic_acid</td>\n",
       "      <td>0.866967</td>\n",
       "      <td>760</td>\n",
       "      <td>unsaturated_fatty_acidalpha-linolenic_acid760</td>\n",
       "    </tr>\n",
       "    <tr>\n",
       "      <th>2225</th>\n",
       "      <td>unsaturated_fatty_acid</td>\n",
       "      <td>linolenic_acid</td>\n",
       "      <td>0.834875</td>\n",
       "      <td>760</td>\n",
       "      <td>unsaturated_fatty_acidlinolenic_acid760</td>\n",
       "    </tr>\n",
       "  </tbody>\n",
       "</table>\n",
       "<p>2226 rows × 5 columns</p>\n",
       "</div>"
      ],
      "text/plain": [
       "                      parent                  child    weight  group  \\\n",
       "0                      blast              explosion  0.571940    647   \n",
       "1                      blast             bomb_blast  0.900264    647   \n",
       "2                      blast              backblast  0.766480    647   \n",
       "3              fragmentation               blowback  0.372407    647   \n",
       "4              fragmentation                  blast  0.565318    647   \n",
       "...                      ...                    ...       ...    ...   \n",
       "2221  unsaturated_fatty_acid          linoleic_acid  0.798375    760   \n",
       "2222  unsaturated_fatty_acid   docosahexaenoic_acid  0.814246    760   \n",
       "2223  unsaturated_fatty_acid  eicosapentaenoic_acid  0.858042    760   \n",
       "2224  unsaturated_fatty_acid   alpha-linolenic_acid  0.866967    760   \n",
       "2225  unsaturated_fatty_acid         linolenic_acid  0.834875    760   \n",
       "\n",
       "                                             compare  \n",
       "0                                  blastexplosion647  \n",
       "1                                 blastbomb_blast647  \n",
       "2                                  blastbackblast647  \n",
       "3                           fragmentationblowback647  \n",
       "4                              fragmentationblast647  \n",
       "...                                              ...  \n",
       "2221          unsaturated_fatty_acidlinoleic_acid760  \n",
       "2222   unsaturated_fatty_aciddocosahexaenoic_acid760  \n",
       "2223  unsaturated_fatty_acideicosapentaenoic_acid760  \n",
       "2224   unsaturated_fatty_acidalpha-linolenic_acid760  \n",
       "2225         unsaturated_fatty_acidlinolenic_acid760  \n",
       "\n",
       "[2226 rows x 5 columns]"
      ]
     },
     "execution_count": 49,
     "metadata": {},
     "output_type": "execute_result"
    }
   ],
   "source": [
    "res_v2"
   ]
  },
  {
   "cell_type": "code",
   "execution_count": 50,
   "id": "a78d9804-fbd9-4dca-a5f6-324cfbbe8bc1",
   "metadata": {},
   "outputs": [],
   "source": [
    "df_actual.merge(res_v2, on='compare',how='left').to_csv('/root/Taxonomy-GPT/data/group_wise_july_05.csv')"
   ]
  },
  {
   "cell_type": "code",
   "execution_count": 51,
   "id": "8998061d-999f-47b5-9b88-b57f5258cbc2",
   "metadata": {},
   "outputs": [
    {
     "data": {
      "text/plain": [
       "0.4052111410601977"
      ]
     },
     "execution_count": 51,
     "metadata": {},
     "output_type": "execute_result"
    }
   ],
   "source": [
    "len(df_actual.merge(res_v2, on='compare'))/len(df_actual)"
   ]
  },
  {
   "cell_type": "code",
   "execution_count": null,
   "id": "1d2d7b64",
   "metadata": {},
   "outputs": [],
   "source": []
  }
 ],
 "metadata": {
  "kernelspec": {
   "display_name": "Python 3 (ipykernel)",
   "language": "python",
   "name": "python3"
  },
  "language_info": {
   "codemirror_mode": {
    "name": "ipython",
    "version": 3
   },
   "file_extension": ".py",
   "mimetype": "text/x-python",
   "name": "python",
   "nbconvert_exporter": "python",
   "pygments_lexer": "ipython3",
   "version": "3.8.10"
  }
 },
 "nbformat": 4,
 "nbformat_minor": 5
}
